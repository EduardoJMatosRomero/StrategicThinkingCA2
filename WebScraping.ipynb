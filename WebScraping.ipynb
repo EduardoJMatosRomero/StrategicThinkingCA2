{
 "cells": [
  {
   "cell_type": "code",
   "execution_count": 1,
   "id": "48fe8e14",
   "metadata": {},
   "outputs": [],
   "source": [
    "#pip install selenium\n",
    "from time import sleep\n",
    "import pandas as pd\n",
    "from selenium import webdriver\n",
    "from selenium.webdriver.chrome.options import Options\n",
    "from selenium.webdriver.common.keys import Keys\n",
    "from bs4 import BeautifulSoup\n",
    "import re\n",
    "import numpy as np\n",
    "from tqdm import tqdm\n",
    "\n",
    "from selenium.webdriver.support.ui import WebDriverWait\n",
    "from selenium.webdriver.support import expected_conditions as EC\n",
    "from selenium.webdriver.common.by import By\n",
    "from selenium.common.exceptions import NoSuchElementException \n",
    "from selenium.webdriver.chrome.service import Service"
   ]
  },
  {
   "cell_type": "code",
   "execution_count": 2,
   "id": "6bf75fe7",
   "metadata": {},
   "outputs": [],
   "source": [
    "#pip install --upgrade selenium"
   ]
  },
  {
   "cell_type": "code",
   "execution_count": 3,
   "id": "5f5737ac",
   "metadata": {},
   "outputs": [],
   "source": [
    "chrome_options = webdriver.ChromeOptions()\n",
    "# Add any additional options you need\n",
    "\n",
    "service = Service(executable_path=\"C:\\\\Users\\\\eduma\\\\Downloads\\\\chromedriver-win64\\\\chromedriver-win64\\\\chromedriver.exe\")\n",
    "\n",
    "# Specify the binary location (replace with your Chrome executable path)\n",
    "chrome_options.binary_location = \"C:\\\\Program Files (x86)\\\\Google\\\\Chrome\\\\Application\\\\chrome.exe\"\n",
    "\n",
    "# Launch the driver\n",
    "#driver = webdriver.Chrome(service=service, options=chrome_options)\n",
    "driver = webdriver.Chrome()"
   ]
  },
  {
   "cell_type": "code",
   "execution_count": 4,
   "id": "0d2aa4ba",
   "metadata": {},
   "outputs": [
    {
     "name": "stdout",
     "output_type": "stream",
     "text": [
      "Please enter -1 when done.\n",
      "----------\n",
      "From which city?\n",
      "DUB\n",
      "Where to?\n",
      "MAD\n",
      "----------\n",
      "From which city?\n",
      "MAD\n",
      "Where to?\n",
      "DUB\n",
      "----------\n",
      "From which city?\n",
      "DUB\n",
      "Where to?\n",
      "TFN\n",
      "----------\n",
      "From which city?\n",
      "TFN\n",
      "Where to?\n",
      "DUB\n",
      "----------\n",
      "From which city?\n",
      "DUB\n",
      "Where to?\n",
      "IBZ\n",
      "----------\n",
      "From which city?\n",
      "IBZ\n",
      "Where to?\n",
      "DUB\n",
      "----------\n",
      "From which city?\n",
      "-1\n",
      "\n",
      "Routes:\n",
      "DUB => MAD\n",
      "MAD => DUB\n",
      "DUB => TFN\n",
      "TFN => DUB\n",
      "DUB => IBZ\n",
      "IBZ => DUB\n"
     ]
    }
   ],
   "source": [
    "# get user input for routes\n",
    "sources = []\n",
    "destinations = []\n",
    "print(\"Please enter -1 when done.\")\n",
    "print(\"-\"*10)\n",
    "while True:\n",
    "    sources.append(input(\"From which city?\\n\"))\n",
    "    if \"-1\" in sources: \n",
    "        sources.pop(-1)\n",
    "        break\n",
    "    destinations.append(input(\"Where to?\\n\"))\n",
    "    if \"-1\" in destinations: \n",
    "        sources.pop(-1)\n",
    "        destinations.pop(-1)\n",
    "        break\n",
    "    print(\"-\"*10)\n",
    "\n",
    "print(\"\\nRoutes:\")\n",
    "for i in range(len(sources)):\n",
    "    print(f\"{sources[i]} => {destinations[i]}\")"
   ]
  },
  {
   "cell_type": "code",
   "execution_count": 6,
   "id": "d6a7daf7",
   "metadata": {},
   "outputs": [
    {
     "name": "stdout",
     "output_type": "stream",
     "text": [
      "Start Date, Please use YYYY-MM-DD format only 2023-12-11\n",
      "End Date, Please use YYYY-MM-DD format only 2023-12-17\n"
     ]
    }
   ],
   "source": [
    "# get user input for period (start and end date)\n",
    "start_date = np.datetime64(input('Start Date, Please use YYYY-MM-DD format only '))\n",
    "end_date = np.datetime64(input('End Date, Please use YYYY-MM-DD format only '))\n",
    "days = end_date - start_date\n",
    "num_days = days.item().days"
   ]
  },
  {
   "cell_type": "code",
   "execution_count": 7,
   "id": "edcdc257",
   "metadata": {},
   "outputs": [],
   "source": [
    "def get_airlines(soup):\n",
    "    airline = []\n",
    "    airlines = soup.find_all('div',class_='J0g6-operator-text',text=True)\n",
    "    for i in airlines:\n",
    "        airline.append(i.text)\n",
    "    return airline\n",
    "    \n",
    "def get_total_stops(soup):\n",
    "    stops_list = []\n",
    "    stops = soup.find_all('span',class_='JWEO-stops-text')\n",
    "\n",
    "    for i in stops:\n",
    "        stops_list.append(i.text)\n",
    "    return stops_list\n",
    "\n",
    "def get_price(soup):\n",
    "    prices = []\n",
    "    price = soup.find_all('div',class_='f8F1-price-text')\n",
    "\n",
    "    for i in price:\n",
    "        prices.append(i.text)\n",
    "    return prices\n",
    "\n",
    "def get_duration(soup):\n",
    "    duration_list = []\n",
    "    duration = soup.find_all('div' , class_='xdW8 xdW8-mod-full-airport')\n",
    "    for i in duration:\n",
    "        duration_list.append(i.text)\n",
    "    return duration_list"
   ]
  },
  {
   "cell_type": "code",
   "execution_count": 8,
   "id": "3e02ba57",
   "metadata": {
    "scrolled": true
   },
   "outputs": [
    {
     "name": "stderr",
     "output_type": "stream",
     "text": [
      "\r",
      "  0%|          | 0/7 [00:00<?, ?it/s]"
     ]
    },
    {
     "name": "stdout",
     "output_type": "stream",
     "text": [
      "Button pressed\n"
     ]
    },
    {
     "name": "stderr",
     "output_type": "stream",
     "text": [
      "\r",
      " 14%|█▍        | 1/7 [00:26<02:36, 26.08s/it]"
     ]
    },
    {
     "name": "stdout",
     "output_type": "stream",
     "text": [
      "['Aer Lingus', 'Iberia Express', 'Transavia, Renfe', 'Vueling', 'Iberia', 'Aer Lingus', 'Aer Lingus, Iberia Express', 'Aer Lingus, Air Europa', 'Aer Lingus, Iberia', 'Aer Lingus, easyJet', 'TAP AIR PORTUGAL, easyJet', 'KLM', 'TAP AIR PORTUGAL', 'TAP AIR PORTUGAL', 'KLM', 'Aer Lingus, Air Europa', 'TAP AIR PORTUGAL']\n",
      "['direct', 'direct', '2 stops', 'direct', 'direct', 'direct', '1 stop', '1 stop', '1 stop', '1 stop', '1 stop', '1 stop', '1 stop', '1 stop', '1 stop', '1 stop', '1 stop']\n",
      "['€251', '€242', '€143', '€244', '€246', '€251', '€183', '€202', '€189', '€175', '€240', '€347', '€290', '€228', '€498', '€200', '€270']\n",
      "['2h 35m', '2h 35m', '17h 19m', '2h 35m', '2h 35m', '2h 35m', '7h 15m', '5h 35m', '7h 15m', '9h 10m', '5h 15m', '5h 05m', '5h 50m', '8h 10m', '5h 10m', '10h 05m', '8h 35m']\n",
      "Button pressed\n"
     ]
    },
    {
     "name": "stderr",
     "output_type": "stream",
     "text": [
      "\r",
      " 29%|██▊       | 2/7 [00:42<01:42, 20.48s/it]"
     ]
    },
    {
     "name": "stdout",
     "output_type": "stream",
     "text": [
      "['Aer Lingus', 'Vueling', 'Vueling, Air Europa', 'Iberia Express', 'Iberia', 'Aer Lingus', 'Aer Lingus', 'Vueling', 'Iberia', 'Aer Lingus, Iberia', 'Aer Lingus, Iberia Express', 'Aer Lingus, Iberia', 'Vueling, Iberia', 'Aer Lingus, Air Europa', 'KLM', 'Aer Lingus, Vueling']\n",
      "['direct', 'direct', '1 stop', 'direct', 'direct', 'direct', 'direct', '1 stop', 'direct', '1 stop', '1 stop', '1 stop', '1 stop', '1 stop', '1 stop', '1 stop']\n",
      "['€201', '€167', '€99', '€170', '€176', '€194', '€201', '€108', '€247', '€131', '€123', '€130', '€148', '€187', '€331', '€130']\n",
      "['2h 50m', '2h 35m', '6h 20m', '2h 35m', '2h 35m', '2h 50m', '2h 35m', '6h 20m', '2h 50m', '5h 45m', '6h 30m', '6h 30m', '5h 45m', '5h 35m', '5h 10m', '9h 40m']\n",
      "Button pressed\n"
     ]
    },
    {
     "name": "stderr",
     "output_type": "stream",
     "text": [
      "\r",
      " 43%|████▎     | 3/7 [00:58<01:14, 18.57s/it]"
     ]
    },
    {
     "name": "stdout",
     "output_type": "stream",
     "text": [
      "['Aer Lingus', 'Iberia Express', 'Vueling', 'Aer Lingus', 'Iberia', 'Vueling', 'Vueling', 'Vueling, Air Europa', 'KLM', 'KLM', 'Vueling, Air Europa', 'KLM', 'KLM', 'Lufthansa', 'Aer Lingus, Vueling', 'Multiple Airlines']\n",
      "['direct', 'direct', '1 stop', 'direct', 'direct', 'direct', '1 stop', '1 stop', '1 stop', '1 stop', '1 stop', '1 stop', '1 stop', '1 stop', '1 stop', '2 stops']\n",
      "['€117', '€106', '€63', '€117', '€118', '€150', '€94', '€72', '€198', '€235', '€151', '€208', '€358', '€370', '€121', '€119']\n",
      "['2h 35m', '2h 35m', '11h 15m', '2h 35m', '2h 35m', '2h 35m', '7h 10m', '11h 15m', '5h 05m', '5h 20m', '6h 20m', '6h 15m', '5h 10m', '5h 55m', '9h 40m', '7h 55m']\n",
      "Button pressed\n"
     ]
    },
    {
     "name": "stderr",
     "output_type": "stream",
     "text": [
      "\r",
      " 57%|█████▋    | 4/7 [01:15<00:53, 17.69s/it]"
     ]
    },
    {
     "name": "stdout",
     "output_type": "stream",
     "text": [
      "['Aer Lingus', 'Iberia', 'Vueling, Air Europa', 'Vueling', 'Aer Lingus', 'Iberia Express', 'Vueling', 'Aer Lingus', 'Iberia', 'Aer Lingus', 'Iberia', 'Iberia', 'Vueling, Iberia', 'Vueling', 'Aer Lingus, Iberia', 'Iberia Express']\n",
      "['direct', 'direct', '1 stop', '1 stop', 'direct', 'direct', 'direct', 'direct', 'direct', 'direct', 'direct', 'direct', '1 stop', '1 stop', '1 stop', 'direct']\n",
      "['€201', '€177', '€75', '€78', '€194', '€203', '€211', '€244', '€250', '€251', '€250', '€256', '€125', '€83', '€139', '€377']\n",
      "['2h 50m', '2h 35m', '10h 50m', '6h 45m', '2h 50m', '2h 35m', '2h 35m', '2h 35m', '2h 35m', '2h 35m', '2h 50m', '2h 35m', '5h 20m', '10h 50m', '5h 45m', '2h 35m']\n",
      "Button pressed\n"
     ]
    },
    {
     "name": "stderr",
     "output_type": "stream",
     "text": [
      "\r",
      " 71%|███████▏  | 5/7 [01:32<00:35, 17.55s/it]"
     ]
    },
    {
     "name": "stdout",
     "output_type": "stream",
     "text": [
      "['Aer Lingus', 'Iberia Express', 'Aer Lingus, Iberia Express', 'Vueling', 'Iberia', 'Aer Lingus', 'Aer Lingus', 'Iberia', 'Vueling', 'Aer Lingus', 'Iberia', 'Vueling, Air Europa', 'Vueling, Air Europa', 'Vueling, Iberia', 'Aer Lingus, Iberia Express', 'Aer Lingus, easyJet', 'Vueling, Iberia']\n",
      "['direct', 'direct', '1 stop', 'direct', 'direct', 'direct', 'direct', 'direct', '1 stop', 'direct', 'direct', '1 stop', '1 stop', '1 stop', '1 stop', '1 stop', '1 stop']\n",
      "['€157', '€127', '€112', '€128', '€136', '€157', '€324', '€327', '€139', '€384', '€435', '€130', '€172', '€144', '€150', '€168', '€188']\n",
      "['2h 35m', '2h 35m', '20h 45m', '2h 35m', '2h 35m', '2h 35m', '2h 35m', '2h 35m', '5h 25m', '2h 50m', '2h 50m', '5h 25m', '6h 20m', '7h 55m', '8h 15m', '6h 55m', '6h 25m']\n",
      "Button pressed\n"
     ]
    },
    {
     "name": "stderr",
     "output_type": "stream",
     "text": [
      "\r",
      " 86%|████████▌ | 6/7 [01:49<00:17, 17.43s/it]"
     ]
    },
    {
     "name": "stdout",
     "output_type": "stream",
     "text": [
      "['Aer Lingus', 'Iberia', 'Vueling, Air Europa', 'Aer Lingus', 'Iberia Express', 'Iberia', 'Vueling', 'Vueling', 'Iberia Express', 'Aer Lingus', 'Vueling', 'Aer Lingus', 'Transavia France, Iberia', 'Vueling', 'Aer Lingus, TAP AIR PORTUGAL', 'Vueling, Iberia']\n",
      "['direct', 'direct', '1 stop', 'direct', 'direct', 'direct', 'direct', 'direct', 'direct', 'direct', '1 stop', 'direct', '1 stop', '1 stop', '1 stop', '1 stop']\n",
      "['€157', '€137', '€128', '€157', '€160', '€163', '€167', '€167', '€170', '€201', '€131', '€457', '€152', '€142', '€150', '€149']\n",
      "['2h 35m', '2h 35m', '6h 20m', '2h 35m', '2h 35m', '2h 35m', '2h 35m', '2h 35m', '2h 35m', '2h 35m', '6h 20m', '2h 50m', '5h 10m', '6h 25m', '5h 50m', '6h 25m']\n",
      "Button pressed\n"
     ]
    },
    {
     "name": "stderr",
     "output_type": "stream",
     "text": [
      "100%|██████████| 7/7 [02:07<00:00, 18.14s/it]\n"
     ]
    },
    {
     "name": "stdout",
     "output_type": "stream",
     "text": [
      "['Aer Lingus', 'Iberia Express', 'Vueling', 'Iberia', 'Aer Lingus', 'Vueling', 'Transavia France, Iberia', 'Aer Lingus', 'Iberia', 'Vueling, Iberia', 'Vueling, Transavia France', 'KLM', 'KLM', 'Aer Lingus, Air Europa', 'KLM', 'Aer Lingus, TAP AIR PORTUGAL', 'Aer Lingus, Air Europa']\n",
      "['direct', 'direct', '1 stop', 'direct', 'direct', 'direct', '1 stop', 'direct', 'direct', '1 stop', '1 stop', '1 stop', '1 stop', '1 stop', '1 stop', '1 stop', '1 stop']\n",
      "['€201', '€172', '€90', '€177', '€201', '€211', '€143', '€384', '€431', '€140', '€149', '€291', '€291', '€202', '€242', '€176', '€236']\n",
      "['2h 35m', '2h 35m', '19h 15m', '2h 35m', '2h 35m', '2h 35m', '6h 55m', '2h 35m', '2h 35m', '9h 30m', '8h 45m', '5h 05m', '5h 20m', '5h 55m', '6h 15m', '7h 00m', '5h 20m']\n",
      "Successfully saved DUB => MAD route as DUB_MAD.csv\n"
     ]
    },
    {
     "name": "stderr",
     "output_type": "stream",
     "text": [
      "\r",
      "  0%|          | 0/7 [00:00<?, ?it/s]"
     ]
    },
    {
     "name": "stdout",
     "output_type": "stream",
     "text": [
      "Button pressed\n"
     ]
    },
    {
     "name": "stderr",
     "output_type": "stream",
     "text": [
      "\r",
      " 14%|█▍        | 1/7 [00:26<02:40, 26.78s/it]"
     ]
    },
    {
     "name": "stdout",
     "output_type": "stream",
     "text": [
      "['Aer Lingus', 'Iberia Express', 'Iberia Express, Aer Lingus', 'Aer Lingus', 'Iberia', 'Aer Lingus', 'Vueling', 'British Airways', 'Iberia', 'British Airways', 'Iberia Express, Aer Lingus', 'Iberia, Aer Lingus', 'Air France', 'Air Europa, Transavia France', 'British Airways', 'Iberia, British Airways', 'British Airways, Aer Lingus']\n",
      "['direct', 'direct', '1 stop', 'direct', 'direct', 'direct', 'direct', 'direct', 'direct', 'direct', '1 stop', '1 stop', '1 stop', '1 stop', '1 stop', '1 stop', '1 stop']\n",
      "['€126', '€125', '€76', '€126', '€126', '€140', '€147', '€181', '€200', '€260', '€107', '€109', '€143', '€140', '€179', '€186', '€158']\n",
      "['2h 40m', '2h 40m', '12h 35m', '2h 40m', '2h 40m', '2h 45m', '2h 40m', '2h 40m', '2h 45m', '2h 45m', '6h 55m', '6h 55m', '5h 25m', '5h 50m', '5h 50m', '5h 50m', '6h 55m']\n",
      "Button pressed\n"
     ]
    },
    {
     "name": "stderr",
     "output_type": "stream",
     "text": [
      "\r",
      " 29%|██▊       | 2/7 [00:43<01:45, 21.07s/it]"
     ]
    },
    {
     "name": "stdout",
     "output_type": "stream",
     "text": [
      "['Aer Lingus', 'Iberia Express', 'Iberia', 'Vueling', 'Aer Lingus', 'Iberia', 'Aer Lingus', 'British Airways', 'British Airways', 'Vueling', 'British Airways', 'British Airways', 'Air France', 'British Airways', 'British Airways', 'British Airways']\n",
      "['direct', 'direct', 'direct', 'direct', 'direct', 'direct', 'direct', 'direct', 'direct', '1 stop', '1 stop', '1 stop', '1 stop', '1 stop', '1 stop', '1 stop']\n",
      "['€67', '€41', '€42', '€53', '€61', '€66', '€75', '€78', '€103', '€81', '€137', '€122', '€141', '€122', '€127', '€124']\n",
      "['2h 45m', '2h 30m', '2h 30m', '2h 30m', '2h 45m', '2h 45m', '2h 30m', '2h 30m', '2h 45m', '5h 30m', '4h 50m', '5h 50m', '5h 25m', '6h 15m', '6h 05m', '6h 25m']\n",
      "Button pressed\n"
     ]
    },
    {
     "name": "stderr",
     "output_type": "stream",
     "text": [
      "\r",
      " 43%|████▎     | 3/7 [01:00<01:17, 19.26s/it]"
     ]
    },
    {
     "name": "stdout",
     "output_type": "stream",
     "text": [
      "['Aer Lingus', 'Iberia', 'Iberia Express', 'Vueling', 'Aer Lingus', 'British Airways', 'Transavia France', 'Air Europa, Transavia France', 'British Airways', 'British Airways', 'Air Europa, Aer Lingus', 'TAP AIR PORTUGAL', 'British Airways', 'British Airways', 'Air France', 'British Airways']\n",
      "['direct', 'direct', 'direct', 'direct', 'direct', 'direct', '1 stop', '1 stop', '1 stop', '1 stop', '1 stop', '1 stop', '1 stop', '1 stop', '1 stop', '1 stop']\n",
      "['€75', '€42', '€40', '€53', '€75', '€78', '€90', '€103', '€152', '€152', '€117', '€114', '€184', '€165', '€142', '€122']\n",
      "['2h 40m', '2h 40m', '2h 40m', '2h 40m', '2h 40m', '2h 40m', '6h 40m', '5h 45m', '5h 15m', '5h 25m', '5h 55m', '6h 45m', '4h 50m', '5h 25m', '5h 25m', '6h 05m']\n",
      "Button pressed\n"
     ]
    },
    {
     "name": "stderr",
     "output_type": "stream",
     "text": [
      "\r",
      " 57%|█████▋    | 4/7 [01:18<00:55, 18.65s/it]"
     ]
    },
    {
     "name": "stdout",
     "output_type": "stream",
     "text": [
      "['Aer Lingus', 'Aer Lingus', 'Iberia', 'Iberia Express', 'Aer Lingus', 'Iberia', 'Iberia Express', 'Vueling', 'Vueling', 'Iberia', 'Iberia', 'Aer Lingus', 'Aer Lingus', 'British Airways', 'British Airways', 'British Airways']\n",
      "['direct', 'direct', 'direct', 'direct', 'direct', 'direct', 'direct', 'direct', 'direct', 'direct', 'direct', 'direct', 'direct', 'direct', 'direct', 'direct']\n",
      "['€45', '€40', '€42', '€42', '€40', '€42', '€42', '€53', '€53', '€66', '€66', '€75', '€75', '€78', '€78', '€103']\n",
      "['2h 40m', '2h 40m', '2h 30m', '2h 30m', '2h 45m', '2h 40m', '2h 40m', '2h 30m', '2h 40m', '2h 45m', '2h 40m', '2h 30m', '2h 40m', '2h 30m', '2h 40m', '2h 45m']\n",
      "Button pressed\n"
     ]
    },
    {
     "name": "stderr",
     "output_type": "stream",
     "text": [
      "\r",
      " 71%|███████▏  | 5/7 [01:36<00:36, 18.21s/it]"
     ]
    },
    {
     "name": "stdout",
     "output_type": "stream",
     "text": [
      "['Aer Lingus', 'Aer Lingus', 'Iberia', 'Iberia Express', 'Vueling', 'Iberia', 'Iberia', 'Aer Lingus', 'British Airways', 'British Airways', 'British Airways', 'Aer Lingus', 'Vueling', 'Vueling, Aer Lingus', 'Air France', 'Iberia, Aer Lingus']\n",
      "['direct', 'direct', 'direct', 'direct', 'direct', 'direct', 'direct', 'direct', 'direct', 'direct', 'direct', 'direct', '1 stop', '1 stop', '1 stop', '1 stop']\n",
      "['€45', '€40', '€42', '€43', '€53', '€67', '€67', '€75', '€78', '€103', '€103', '€120', '€108', '€119', '€141', '€93']\n",
      "['2h 40m', '2h 40m', '2h 40m', '2h 40m', '2h 40m', '2h 40m', '2h 45m', '2h 40m', '2h 40m', '2h 45m', '2h 40m', '2h 45m', '6h 15m', '5h 15m', '5h 25m', '7h 35m']\n",
      "Button pressed\n"
     ]
    },
    {
     "name": "stderr",
     "output_type": "stream",
     "text": [
      "\r",
      " 86%|████████▌ | 6/7 [01:53<00:18, 18.05s/it]"
     ]
    },
    {
     "name": "stdout",
     "output_type": "stream",
     "text": [
      "['Iberia Express', 'Iberia Express', 'Iberia', 'Iberia', 'Vueling', 'Vueling', 'Aer Lingus', 'Aer Lingus', 'British Airways', 'British Airways', 'Aer Lingus', 'Iberia', 'British Airways', 'TAP AIR PORTUGAL', 'Vueling']\n",
      "['direct', 'direct', 'direct', 'direct', 'direct', 'direct', 'direct', 'direct', 'direct', 'direct', 'direct', 'direct', 'direct', '1 stop', '1 stop']\n",
      "['€32', '€41', '€42', '€42', '€53', '€53', '€75', '€75', '€78', '€78', '€159', '€185', '€224', '€74', '€93']\n",
      "['2h 40m', '2h 30m', '2h 30m', '2h 40m', '2h 30m', '2h 40m', '2h 30m', '2h 40m', '2h 30m', '2h 40m', '2h 45m', '2h 45m', '2h 45m', '6h 20m', '5h 30m']\n",
      "Button pressed\n"
     ]
    },
    {
     "name": "stderr",
     "output_type": "stream",
     "text": [
      "100%|██████████| 7/7 [02:11<00:00, 18.77s/it]\n"
     ]
    },
    {
     "name": "stdout",
     "output_type": "stream",
     "text": [
      "['Aer Lingus', 'Iberia Express', 'Aer Lingus', 'Vueling', 'Iberia', 'Aer Lingus', 'British Airways', 'Iberia', 'British Airways', 'Vueling', 'Air France', 'Iberia, Aer Lingus', 'KLM', 'KLM', 'Air Europa, Aer Lingus', 'Lufthansa']\n",
      "['direct', 'direct', 'direct', 'direct', 'direct', 'direct', 'direct', 'direct', 'direct', '1 stop', '1 stop', '1 stop', '1 stop', '1 stop', '1 stop', '1 stop']\n",
      "['€45', '€43', '€40', '€53', '€42', '€75', '€78', '€67', '€102', '€99', '€160', '€143', '€142', '€169', '€113', '€187']\n",
      "['2h 40m', '2h 40m', '2h 40m', '2h 40m', '2h 40m', '2h 40m', '2h 40m', '2h 40m', '2h 40m', '6h 10m', '5h 25m', '6h 05m', '6h 45m', '6h 10m', '6h 50m', '5h 50m']\n",
      "Successfully saved MAD => DUB route as MAD_DUB.csv\n"
     ]
    },
    {
     "name": "stderr",
     "output_type": "stream",
     "text": [
      "\r",
      "  0%|          | 0/7 [00:00<?, ?it/s]"
     ]
    },
    {
     "name": "stdout",
     "output_type": "stream",
     "text": [
      "Button pressed\n"
     ]
    },
    {
     "name": "stderr",
     "output_type": "stream",
     "text": [
      "\r",
      " 14%|█▍        | 1/7 [00:25<02:33, 25.64s/it]"
     ]
    },
    {
     "name": "stdout",
     "output_type": "stream",
     "text": [
      "['Aer Lingus, Binter Canarias', 'Aer Lingus, Binter Canarias', 'Aer Lingus, Binter Canarias', 'Multiple Airlines', 'Aer Lingus, Binter Canarias', 'Multiple Airlines', 'Multiple Airlines', 'Multiple Airlines', 'Multiple Airlines', 'Multiple Airlines', 'Multiple Airlines', 'Multiple Airlines', 'Multiple Airlines', 'Multiple Airlines', 'Multiple Airlines']\n",
      "['1 stop', '1 stop', '1 stop', '2 stops', '1 stop', '2 stops', '2 stops', '2 stops', '2 stops', '2 stops', '2 stops', '2 stops', '3 stops', '2 stops', '3 stops']\n",
      "['€175', '€175', '€316', '€179', '€295', '€189', '€205', '€197', '€237', '€241', '€223', '€188', '€268', '€194', '€245']\n",
      "['7h 00m', '8h 00m', '6h 10m', '9h 50m', '8h 40m', '10h 00m', '9h 50m', '12h 50m', '11h 05m', '11h 05m', '12h 50m', '18h 00m', '12h 50m', '18h 00m', '15h 00m']\n",
      "Button pressed\n"
     ]
    },
    {
     "name": "stderr",
     "output_type": "stream",
     "text": [
      "\r",
      " 29%|██▊       | 2/7 [00:42<01:42, 20.49s/it]"
     ]
    },
    {
     "name": "stdout",
     "output_type": "stream",
     "text": [
      "['Aer Lingus, Binter Canarias', 'Aer Lingus, Binter Canarias', 'Aer Lingus, Binter Canarias', 'Aer Lingus, Vueling', 'Aer Lingus, Binter Canarias', 'Iberia', 'Aer Lingus, Binter Canarias', 'Aer Lingus, Vueling', 'British Airways', 'Iberia', 'British Airways', 'Vueling', 'Multiple Airlines', 'Multiple Airlines', 'Multiple Airlines']\n",
      "['1 stop', '1 stop', '1 stop', '1 stop', '1 stop', '1 stop', '2 stops', '1 stop', '1 stop', '1 stop', '1 stop', '1 stop', '2 stops', '2 stops', '2 stops']\n",
      "['€155', '€139', '€208', '€225', '€155', '€228', '€187', '€153', '€506', '€349', '€370', '€392', '€210', '€198', '€199']\n",
      "['7h 00m', '8h 00m', '7h 15m', '7h 20m', '9h 00m', '9h 15m', '8h 15m', '12h 05m', '8h 20m', '11h 10m', '11h 10m', '11h 10m', '9h 15m', '9h 50m', '10h 20m']\n",
      "Button pressed\n"
     ]
    },
    {
     "name": "stderr",
     "output_type": "stream",
     "text": [
      "\r",
      " 43%|████▎     | 3/7 [00:59<01:15, 18.80s/it]"
     ]
    },
    {
     "name": "stdout",
     "output_type": "stream",
     "text": [
      "['Vueling', 'Vueling', 'Aer Lingus, Vueling', 'Aer Lingus, Binter Canarias', 'Aer Lingus, Iberia', 'Aer Lingus, Binter Canarias', 'Iberia', 'Iberia', 'Aer Lingus, Binter Canarias', 'British Airways', 'Vueling, Air Europa', 'Aer Lingus, Vueling', 'Multiple Airlines', 'Vueling, Binter Canarias', 'Vueling', 'Iberia']\n",
      "['1 stop', '1 stop', '1 stop', '1 stop', '2 stops', '1 stop', '1 stop', '1 stop', '1 stop', '1 stop', '1 stop', '1 stop', '2 stops', '2 stops', '2 stops', '1 stop']\n",
      "['€137', '€93', '€179', '€257', '€158', '€224', '€384', '€171', '€203', '€181', '€161', '€176', '€181', '€215', '€351', '€171']\n",
      "['9h 35m', '24h 00m', '7h 20m', '6h 10m', '9h 25m', '8h 40m', '9h 35m', '14h 20m', '10h 00m', '14h 20m', '13h 50m', '12h 05m', '10h 50m', '12h 45m', '9h 25m', '15h 35m']\n",
      "Button pressed\n"
     ]
    },
    {
     "name": "stderr",
     "output_type": "stream",
     "text": [
      "\r",
      " 57%|█████▋    | 4/7 [01:17<00:55, 18.39s/it]"
     ]
    },
    {
     "name": "stdout",
     "output_type": "stream",
     "text": [
      "['Aer Lingus, Binter Canarias', 'Vueling', 'Vueling', 'Aer Lingus, Vueling', 'Aer Lingus, Binter Canarias', 'Aer Lingus, Binter Canarias', 'Aer Lingus, Binter Canarias', 'Multiple Airlines', 'Multiple Airlines', 'Iberia', 'Aer Lingus, Vueling', 'Multiple Airlines', 'Iberia', 'Vueling', 'Iberia', 'Iberia']\n",
      "['1 stop', '1 stop', '1 stop', '1 stop', '1 stop', '1 stop', '1 stop', '2 stops', '2 stops', '1 stop', '1 stop', '2 stops', '1 stop', '2 stops', '1 stop', '1 stop']\n",
      "['€194', '€100', '€107', '€158', '€186', '€186', '€231', '€199', '€212', '€291', '€130', '€263', '€291', '€168', '€362', '€196']\n",
      "['6h 30m', '23h 35m', '9h 10m', '7h 20m', '7h 30m', '8h 45m', '8h 10m', '9h 20m', '9h 45m', '9h 15m', '12h 05m', '9h 15m', '10h 10m', '12h 10m', '9h 10m', '13h 55m']\n",
      "Button pressed\n"
     ]
    },
    {
     "name": "stderr",
     "output_type": "stream",
     "text": [
      "\r",
      " 71%|███████▏  | 5/7 [01:34<00:36, 18.05s/it]"
     ]
    },
    {
     "name": "stdout",
     "output_type": "stream",
     "text": [
      "['Aer Lingus, Binter Canarias', 'Vueling', 'Aer Lingus, Binter Canarias', 'Aer Lingus, Binter Canarias', 'Aer Lingus, Binter Canarias', 'Aer Lingus, Binter Canarias', 'Aer Lingus, Vueling', 'Iberia', 'Iberia', 'British Airways', 'Iberia, Air Europa', 'Iberia Express', 'Multiple Airlines', 'Iberia, Iberia Express', 'Iberia Express, Air Europa']\n",
      "['1 stop', '1 stop', '1 stop', '1 stop', '2 stops', '1 stop', '1 stop', '1 stop', '1 stop', '1 stop', '2 stops', '1 stop', '2 stops', '1 stop', '1 stop']\n",
      "['€199', '€153', '€169', '€199', '€205', '€199', '€333', '€196', '€196', '€206', '€172', '€193', '€218', '€205', '€223']\n",
      "['7h 20m', '18h 10m', '9h 45m', '8h 40m', '7h 10m', '10h 00m', '7h 20m', '14h 25m', '15h 40m', '14h 25m', '13h 00m', '14h 25m', '9h 50m', '14h 25m', '13h 55m']\n",
      "Button pressed\n"
     ]
    },
    {
     "name": "stderr",
     "output_type": "stream",
     "text": [
      "\r",
      " 86%|████████▌ | 6/7 [01:51<00:17, 17.76s/it]"
     ]
    },
    {
     "name": "stdout",
     "output_type": "stream",
     "text": [
      "['Iberia Express', 'Multiple Airlines', 'Iberia Express', 'Vueling', 'Iberia Express, Iberia', 'Aer Lingus, Binter Canarias', 'Iberia', 'Iberia', 'Aer Lingus, Binter Canarias', 'British Airways', 'Iberia', 'Aer Lingus, Air Europa', 'Aer Lingus, Canaryfly', 'Iberia Express, Air Europa', 'British Airways', 'Aer Lingus, Binter Canarias']\n",
      "['1 stop', '2 stops', '1 stop', '1 stop', '1 stop', '1 stop', '1 stop', '1 stop', '1 stop', '1 stop', '1 stop', '1 stop', '1 stop', '1 stop', '1 stop', '1 stop']\n",
      "['€275', '€130', '€257', '€318', '€267', '€368', '€196', '€317', '€321', '€206', '€296', '€319', '€321', '€254', '€506', '€330']\n",
      "['7h 00m', '16h 55m', '8h 00m', '8h 00m', '8h 00m', '6h 10m', '14h 20m', '7h 00m', '7h 15m', '14h 20m', '8h 00m', '7h 45m', '7h 45m', '9h 30m', '7h 00m', '8h 00m']\n",
      "Button pressed\n"
     ]
    },
    {
     "name": "stderr",
     "output_type": "stream",
     "text": [
      "100%|██████████| 7/7 [02:09<00:00, 18.46s/it]\n"
     ]
    },
    {
     "name": "stdout",
     "output_type": "stream",
     "text": [
      "['Multiple Airlines', 'Vueling, Binter Canarias', 'Vueling', 'Multiple Airlines', 'Multiple Airlines', 'Aer Lingus, Binter Canarias', 'Multiple Airlines', 'Multiple Airlines', 'Iberia', 'Multiple Airlines', 'Aer Lingus, Air Europa', 'Multiple Airlines', 'Multiple Airlines', 'Aer Lingus, Binter Canarias', 'Multiple Airlines', 'Multiple Airlines']\n",
      "['2 stops', '2 stops', '1 stop', '2 stops', '2 stops', '1 stop', '2 stops', '2 stops', '1 stop', '2 stops', '1 stop', '2 stops', '2 stops', '2 stops', '2 stops', '2 stops']\n",
      "['€167', '€159', '€185', '€171', '€193', '€299', '€193', '€202', '€238', '€197', '€300', '€213', '€219', '€305', '€212', '€193']\n",
      "['9h 20m', '16h 35m', '14h 05m', '9h 50m', '8h 50m', '8h 40m', '9h 50m', '9h 50m', '15h 40m', '10h 20m', '10h 05m', '10h 30m', '10h 20m', '8h 20m', '10h 50m', '11h 50m']\n",
      "Successfully saved DUB => TFN route as DUB_TFN.csv\n"
     ]
    },
    {
     "name": "stderr",
     "output_type": "stream",
     "text": [
      "\r",
      "  0%|          | 0/7 [00:00<?, ?it/s]"
     ]
    },
    {
     "name": "stdout",
     "output_type": "stream",
     "text": [
      "Button pressed\n"
     ]
    },
    {
     "name": "stderr",
     "output_type": "stream",
     "text": [
      "\r",
      " 14%|█▍        | 1/7 [00:25<02:33, 25.53s/it]"
     ]
    },
    {
     "name": "stdout",
     "output_type": "stream",
     "text": [
      "['Binter Canarias, Aer Lingus', 'Air Europa, Aer Lingus', 'Binter Canarias, Aer Lingus', 'Iberia', 'Air Europa, Aer Lingus', 'Binter Canarias, Aer Lingus', 'Iberia', 'Binter Canarias, Aer Lingus', 'British Airways', 'Iberia', 'British Airways', 'Canaryfly, Aer Lingus', 'Canaryfly, Aer Lingus', 'Binter Canarias, Aer Lingus', 'Binter Canarias, Aer Lingus']\n",
      "['1 stop', '1 stop', '1 stop', '1 stop', '1 stop', '1 stop', '1 stop', '1 stop', '1 stop', '1 stop', '1 stop', '1 stop', '1 stop', '1 stop', '1 stop']\n",
      "['€155', '€131', '€155', '€139', '€131', '€178', '€139', '€172', '€149', '€139', '€149', '€153', '€153', '€155', '€178']\n",
      "['6h 30m', '12h 45m', '7h 30m', '14h 20m', '15h 00m', '8h 30m', '15h 20m', '9h 30m', '14h 20m', '17h 05m', '15h 20m', '12h 45m', '15h 00m', '15h 00m', '12h 00m']\n",
      "Button pressed\n"
     ]
    },
    {
     "name": "stderr",
     "output_type": "stream",
     "text": [
      "\r",
      " 29%|██▊       | 2/7 [00:42<01:42, 20.56s/it]"
     ]
    },
    {
     "name": "stdout",
     "output_type": "stream",
     "text": [
      "['Binter Canarias, Aer Lingus', 'Air Europa, Aer Lingus', 'Binter Canarias, Aer Lingus', 'Binter Canarias, Aer Lingus', 'Binter Canarias, Aer Lingus', 'Binter Canarias, Aer Lingus', 'Binter Canarias, Aer Lingus', 'Binter Canarias, Aer Lingus', 'Binter Canarias, Aer Lingus', 'Vueling', 'Air Europa, Aer Lingus', 'Canaryfly, Aer Lingus', 'Binter Canarias, Aer Lingus', 'Iberia', 'Air Europa, Aer Lingus']\n",
      "['1 stop', '1 stop', '1 stop', '1 stop', '1 stop', '1 stop', '1 stop', '1 stop', '1 stop', '1 stop', '1 stop', '1 stop', '1 stop', '1 stop', '1 stop']\n",
      "['€163', '€131', '€154', '€163', '€154', '€155', '€206', '€156', '€154', '€144', '€338', '€177', '€154', '€505', '€209']\n",
      "['6h 00m', '12h 45m', '6h 30m', '7h 00m', '7h 30m', '8h 00m', '7h 10m', '8h 30m', '9h 00m', '13h 00m', '6h 30m', '8h 30m', '9h 30m', '6h 40m', '8h 30m']\n",
      "Button pressed\n"
     ]
    },
    {
     "name": "stderr",
     "output_type": "stream",
     "text": [
      "\r",
      " 43%|████▎     | 3/7 [00:59<01:15, 18.81s/it]"
     ]
    },
    {
     "name": "stdout",
     "output_type": "stream",
     "text": [
      "['Vueling', 'Iberia', 'British Airways', 'Vueling, Aer Lingus', 'Air Europa, Iberia', 'Air Europa, Iberia Express', 'Iberia', 'Air Europa, Iberia Express', 'British Airways', 'Iberia', 'Multiple Airlines', 'Multiple Airlines', 'British Airways', 'Multiple Airlines', 'Vueling, TAP AIR PORTUGAL']\n",
      "['1 stop', '1 stop', '1 stop', '1 stop', '1 stop', '1 stop', '1 stop', '2 stops', '1 stop', '1 stop', '2 stops', '2 stops', '1 stop', '2 stops', '2 stops']\n",
      "['€57', '€197', '€216', '€108', '€186', '€194', '€197', '€127', '€216', '€164', '€132', '€194', '€174', '€220', '€119']\n",
      "['13h 25m', '7h 00m', '7h 00m', '11h 05m', '8h 25m', '8h 25m', '11h 20m', '15h 25m', '11h 20m', '14h 20m', '15h 25m', '10h 00m', '14h 20m', '9h 45m', '16h 15m']\n",
      "Button pressed\n"
     ]
    },
    {
     "name": "stderr",
     "output_type": "stream",
     "text": [
      "\r",
      " 57%|█████▋    | 4/7 [01:16<00:53, 17.99s/it]"
     ]
    },
    {
     "name": "stdout",
     "output_type": "stream",
     "text": [
      "['Binter Canarias, Aer Lingus', 'Vueling', 'Iberia', 'Binter Canarias, Aer Lingus', 'Binter Canarias, Aer Lingus', 'Binter Canarias, Aer Lingus', 'Iberia', 'Binter Canarias, Aer Lingus', 'Binter Canarias, Aer Lingus', 'Binter Canarias, Aer Lingus', 'Binter Canarias, Aer Lingus', 'Air Europa, Aer Lingus', 'Binter Canarias, Aer Lingus', 'Multiple Airlines', 'Binter Canarias, Iberia Express', 'Multiple Airlines']\n",
      "['1 stop', '1 stop', '1 stop', '1 stop', '1 stop', '1 stop', '1 stop', '1 stop', '1 stop', '1 stop', '1 stop', '1 stop', '1 stop', '2 stops', '2 stops', '2 stops']\n",
      "['€160', '€86', '€156', '€160', '€155', '€160', '€156', '€155', '€155', '€155', '€155', '€315', '€155', '€169', '€168', '€185']\n",
      "['6h 05m', '18h 45m', '7h 00m', '6h 35m', '7h 05m', '7h 35m', '8h 15m', '8h 05m', '8h 35m', '9h 05m', '9h 35m', '6h 30m', '10h 05m', '9h 10m', '9h 20m', '9h 20m']\n",
      "Button pressed\n"
     ]
    },
    {
     "name": "stderr",
     "output_type": "stream",
     "text": [
      "\r",
      " 71%|███████▏  | 5/7 [01:33<00:35, 17.61s/it]"
     ]
    },
    {
     "name": "stdout",
     "output_type": "stream",
     "text": [
      "['Iberia', 'Vueling', 'Iberia', 'Iberia', 'Vueling', 'Iberia', 'Iberia', 'Vueling', 'Iberia', 'Vueling', 'Multiple Airlines', 'Iberia', 'Iberia', 'Iberia', 'Iberia Express', 'Iberia Express']\n",
      "['1 stop', '3 stops', '1 stop', '1 stop', '1 stop', '1 stop', '1 stop', '1 stop', '1 stop', '2 stops', '2 stops', '1 stop', '1 stop', '1 stop', '1 stop', '1 stop']\n",
      "['€261', '€81', '€139', '€139', '€246', '€261', '€247', '€133', '€153', '€111', '€138', '€201', '€128', '€178', '€120', '€121']\n",
      "['7h 00m', '47h 15m', '14h 40m', '13h 45m', '7h 45m', '8h 40m', '10h 30m', '17h 40m', '17h 25m', '18h 15m', '19h 25m', '16h 40m', '22h 15m', '19h 40m', '22h 15m', '21h 20m']\n",
      "Button pressed\n"
     ]
    },
    {
     "name": "stderr",
     "output_type": "stream",
     "text": [
      "\r",
      " 86%|████████▌ | 6/7 [01:49<00:17, 17.32s/it]"
     ]
    },
    {
     "name": "stdout",
     "output_type": "stream",
     "text": [
      "['Iberia', 'Iberia', 'Iberia', 'Iberia', 'Vueling, Aer Lingus', 'Vueling, Aer Lingus', 'Vueling, TAP AIR PORTUGAL', 'Vueling, Aer Lingus', 'Iberia', 'Vueling, Aer Lingus', 'Vueling, Aer Lingus', 'Vueling', 'Iberia Express', 'Vueling', 'Air France']\n",
      "['1 stop', '1 stop', '1 stop', '1 stop', '1 stop', '1 stop', '3 stops', '2 stops', '1 stop', '2 stops', '2 stops', '1 stop', '1 stop', '2 stops', '2 stops']\n",
      "['€156', '€72', '€156', '€156', '€93', '€108', '€177', '€109', '€500', '€100', '€105', '€76', '€76', '€84', '€501']\n",
      "['7h 00m', '22h 15m', '8h 15m', '11h 20m', '13h 20m', '17h 20m', '14h 30m', '17h 35m', '6h 40m', '18h 25m', '20h 35m', '23h 00m', '22h 15m', '23h 15m', '12h 40m']\n",
      "Button pressed\n"
     ]
    },
    {
     "name": "stderr",
     "output_type": "stream",
     "text": [
      "100%|██████████| 7/7 [02:06<00:00, 18.07s/it]\n"
     ]
    },
    {
     "name": "stdout",
     "output_type": "stream",
     "text": [
      "['Iberia', 'Air Europa, Iberia', 'Iberia, Aer Lingus', 'Iberia', 'Air Europa, Iberia Express', 'British Airways', 'Iberia Express', 'Iberia Express, Iberia', 'Iberia', 'Vueling', 'Vueling', 'Air Europa, Aer Lingus', 'Vueling, Aer Lingus', 'Air Europa, Iberia', 'Vueling']\n",
      "['1 stop', '1 stop', '1 stop', '1 stop', '1 stop', '1 stop', '1 stop', '1 stop', '1 stop', '1 stop', '1 stop', '1 stop', '1 stop', '1 stop', '1 stop']\n",
      "['€143', '€77', '€85', '€133', '€79', '€174', '€133', '€136', '€147', '€153', '€201', '€150', '€108', '€82', '€86']\n",
      "['7h 00m', '8h 25m', '8h 20m', '8h 15m', '8h 25m', '7h 00m', '7h 00m', '7h 00m', '7h 45m', '8h 35m', '7h 00m', '8h 25m', '9h 20m', '11h 10m', '12h 00m']\n",
      "Successfully saved TFN => DUB route as TFN_DUB.csv\n"
     ]
    },
    {
     "name": "stderr",
     "output_type": "stream",
     "text": [
      "\r",
      "  0%|          | 0/7 [00:00<?, ?it/s]"
     ]
    },
    {
     "name": "stdout",
     "output_type": "stream",
     "text": [
      "Button pressed\n"
     ]
    },
    {
     "name": "stderr",
     "output_type": "stream",
     "text": [
      "\r",
      " 14%|█▍        | 1/7 [00:25<02:32, 25.49s/it]"
     ]
    },
    {
     "name": "stdout",
     "output_type": "stream",
     "text": [
      "['Transavia, Vueling', 'Aer Lingus, Vueling', 'Aer Lingus, Vueling', 'Multiple Airlines', 'Transavia France, Vueling', 'Vueling', 'Aer Lingus, Vueling', 'Iberia', 'Aer Lingus, Vueling', 'Aer Lingus, Vueling', 'Vueling, Iberia', 'British Airways, Iberia', 'Aer Lingus, British Airways', 'Aer Lingus, Vueling', 'Transavia France, Vueling']\n",
      "['1 stop', '1 stop', '1 stop', '2 stops', '1 stop', '1 stop', '2 stops', '1 stop', '1 stop', '1 stop', '2 stops', '1 stop', '1 stop', '2 stops', '2 stops']\n",
      "['€91', '€304', '€347', '€236', '€103', '€92', '€274', '€282', '€140', '€295', '€349', '€269', '€232', '€248', '€156']\n",
      "['17h 10m', '6h 40m', '5h 40m', '7h 35m', '17h 10m', '22h 50m', '7h 25m', '12h 30m', '18h 55m', '9h 20m', '6h 35m', '14h 55m', '14h 55m', '10h 05m', '17h 00m']\n",
      "Button pressed\n"
     ]
    },
    {
     "name": "stderr",
     "output_type": "stream",
     "text": [
      "\r",
      " 29%|██▊       | 2/7 [00:42<01:41, 20.34s/it]"
     ]
    },
    {
     "name": "stdout",
     "output_type": "stream",
     "text": [
      "['KLM', 'Aer Lingus, Vueling', 'Vueling', 'Vueling', 'Aer Lingus, Vueling', 'Iberia', 'Vueling', 'Aer Lingus, Vueling', 'KLM', 'Aer Lingus, Air Europa', 'British Airways', 'Iberia Express', 'Vueling, Iberia Express', 'Vueling, Iberia', 'Aer Lingus, Vueling', 'British Airways']\n",
      "['1 stop', '1 stop', '1 stop', '1 stop', '1 stop', '1 stop', '1 stop', '1 stop', '1 stop', '1 stop', '1 stop', '1 stop', '1 stop', '2 stops', '1 stop', '1 stop']\n",
      "['€322', '€112', '€74', '€109', '€112', '€257', '€314', '€132', '€311', '€255', '€327', '€291', '€294', '€177', '€125', '€410']\n",
      "['5h 40m', '5h 40m', '18h 40m', '7h 15m', '6h 40m', '5h 00m', '5h 00m', '9h 10m', '5h 40m', '5h 45m', '5h 00m', '5h 00m', '5h 00m', '6h 35m', '14h 40m', '4h 40m']\n",
      "Button pressed\n"
     ]
    },
    {
     "name": "stderr",
     "output_type": "stream",
     "text": [
      "\r",
      " 43%|████▎     | 3/7 [00:58<01:14, 18.70s/it]"
     ]
    },
    {
     "name": "stdout",
     "output_type": "stream",
     "text": [
      "['Vueling', 'Vueling', 'Aer Lingus, Vueling', 'Aer Lingus, Vueling', 'Vueling', 'Aer Lingus, Vueling', 'Vueling', 'Vueling, Swiftair', 'Vueling, Air Europa', 'Multiple Airlines', 'Iberia', 'Vueling, Air Europa', 'Vueling, Swiftair', 'Aer Lingus, Vueling', 'Vueling, Air Europa', 'Aer Lingus, Vueling']\n",
      "['1 stop', '1 stop', '1 stop', '1 stop', '1 stop', '1 stop', '1 stop', '2 stops', '2 stops', '2 stops', '1 stop', '2 stops', '2 stops', '2 stops', '2 stops', '1 stop']\n",
      "['€46', '€42', '€89', '€81', '€70', '€81', '€60', '€120', '€123', '€126', '€107', '€130', '€113', '€163', '€116', '€110']\n",
      "['6h 35m', '23h 35m', '5h 40m', '6h 40m', '9h 00m', '9h 05m', '12h 10m', '8h 15m', '8h 15m', '8h 15m', '12h 25m', '8h 15m', '10h 45m', '7h 00m', '10h 45m', '11h 30m']\n",
      "Button pressed\n"
     ]
    },
    {
     "name": "stderr",
     "output_type": "stream",
     "text": [
      "\r",
      " 57%|█████▋    | 4/7 [01:15<00:53, 17.98s/it]"
     ]
    },
    {
     "name": "stdout",
     "output_type": "stream",
     "text": [
      "['Vueling', 'Vueling', 'Aer Lingus, Vueling', 'Aer Lingus, Vueling', 'Aer Lingus, Vueling', 'Vueling', 'Vueling', 'Iberia', 'Iberia', 'Aer Lingus, Vueling', 'Iberia, Iberia Express', 'British Airways', 'Aer Lingus, Vueling', 'Aer Lingus, Vueling', 'Multiple Airlines']\n",
      "['1 stop', '1 stop', '1 stop', '1 stop', '1 stop', '1 stop', '1 stop', '1 stop', '1 stop', '1 stop', '1 stop', '1 stop', '1 stop', '1 stop', '2 stops']\n",
      "['€72', '€51', '€99', '€93', '€93', '€105', '€68', '€299', '€357', '€93', '€318', '€354', '€82', '€89', '€140']\n",
      "['6h 10m', '23h 10m', '5h 05m', '5h 40m', '6h 40m', '8h 35m', '11h 45m', '6h 10m', '5h 00m', '9h 05m', '5h 00m', '6h 10m', '16h 30m', '14h 40m', '7h 50m']\n",
      "Button pressed\n"
     ]
    },
    {
     "name": "stderr",
     "output_type": "stream",
     "text": [
      "\r",
      " 71%|███████▏  | 5/7 [01:32<00:35, 17.56s/it]"
     ]
    },
    {
     "name": "stdout",
     "output_type": "stream",
     "text": [
      "['Vueling', 'Aer Lingus, Vueling', 'Aer Lingus, Vueling', 'Aer Lingus, Vueling', 'Iberia', 'Iberia', 'Iberia', 'Aer Lingus, Vueling', 'British Airways', 'Aer Lingus, Vueling', 'Aer Lingus, Vueling', 'Multiple Airlines', 'Aer Lingus, Vueling', 'Iberia, Iberia Express', 'British Airways']\n",
      "['1 stop', '1 stop', '1 stop', '1 stop', '1 stop', '1 stop', '1 stop', '1 stop', '1 stop', '1 stop', '1 stop', '2 stops', '2 stops', '1 stop', '1 stop']\n",
      "['€98', '€160', '€167', '€156', '€107', '€114', '€339', '€156', '€148', '€150', '€167', '€199', '€151', '€181', '€263']\n",
      "['6h 20m', '5h 05m', '5h 15m', '6h 30m', '12h 30m', '16h 45m', '6h 20m', '8h 40m', '12h 30m', '14h 40m', '11h 30m', '7h 45m', '10h 55m', '12h 30m', '12h 20m']\n",
      "Button pressed\n"
     ]
    },
    {
     "name": "stderr",
     "output_type": "stream",
     "text": [
      "\r",
      " 86%|████████▌ | 6/7 [01:49<00:17, 17.38s/it]"
     ]
    },
    {
     "name": "stdout",
     "output_type": "stream",
     "text": [
      "['Vueling', 'Aer Lingus, Vueling', 'Aer Lingus, Vueling', 'Aer Lingus, Vueling', 'Aer Lingus, Transavia', 'Iberia', 'Iberia Express', 'Aer Lingus, Vueling', 'KLM', 'Vueling, Iberia', 'Iberia', 'Transavia France, Vueling', 'British Airways', 'Aer Lingus, Vueling', 'Aer Lingus, Vueling']\n",
      "['1 stop', '1 stop', '1 stop', '1 stop', '1 stop', '1 stop', '1 stop', '1 stop', '1 stop', '2 stops', '1 stop', '2 stops', '1 stop', '1 stop', '2 stops']\n",
      "['€117', '€207', '€194', '€194', '€133', '€379', '€282', '€201', '€219', '€269', '€316', '€189', '€545', '€194', '€260']\n",
      "['7h 15m', '5h 05m', '6h 05m', '7h 50m', '14h 35m', '7h 15m', '8h 40m', '11h 30m', '14h 10m', '6h 50m', '8h 40m', '10h 10m', '8h 40m', '14h 40m', '7h 50m']\n",
      "Button pressed\n"
     ]
    },
    {
     "name": "stderr",
     "output_type": "stream",
     "text": [
      "100%|██████████| 7/7 [02:06<00:00, 18.05s/it]\n"
     ]
    },
    {
     "name": "stdout",
     "output_type": "stream",
     "text": [
      "['Aer Lingus, Vueling', 'Vueling', 'Vueling', 'Aer Lingus, Vueling', 'Aer Lingus, Vueling', 'Vueling', 'Iberia', 'Aer Lingus, Vueling', 'Multiple Airlines', 'Transavia France, Air Europa', 'KLM, Vueling', 'Vueling, Iberia', 'KLM', 'Multiple Airlines', 'Aer Lingus, Vueling']\n",
      "['1 stop', '1 stop', '1 stop', '1 stop', '1 stop', '1 stop', '1 stop', '1 stop', '2 stops', '2 stops', '2 stops', '2 stops', '1 stop', '2 stops', '1 stop']\n",
      "['€195', '€93', '€99', '€184', '€371', '€93', '€139', '€221', '€217', '€217', '€244', '€134', '€218', '€263', '€324']\n",
      "['4h 55m', '17h 10m', '13h 35m', '6h 35m', '5h 25m', '18h 10m', '16h 45m', '8h 30m', '6h 45m', '6h 55m', '7h 55m', '16h 00m', '15h 45m', '8h 00m', '11h 15m']\n",
      "Successfully saved DUB => IBZ route as DUB_IBZ.csv\n"
     ]
    },
    {
     "name": "stderr",
     "output_type": "stream",
     "text": [
      "\r",
      "  0%|          | 0/7 [00:00<?, ?it/s]"
     ]
    },
    {
     "name": "stdout",
     "output_type": "stream",
     "text": [
      "Button pressed\n"
     ]
    },
    {
     "name": "stderr",
     "output_type": "stream",
     "text": [
      "\r",
      " 14%|█▍        | 1/7 [00:25<02:35, 26.00s/it]"
     ]
    },
    {
     "name": "stdout",
     "output_type": "stream",
     "text": [
      "['Vueling', 'Vueling, Aer Lingus', 'British Airways', 'Iberia, British Airways', 'British Airways', 'CitizenPlane', 'Vueling, Aer Lingus', 'British Airways', 'Iberia', 'Iberia, Transavia', 'Iberia, British Airways', 'British Airways', 'Iberia Express, Aer Lingus', 'Vueling, Aer Lingus', 'British Airways']\n",
      "['1 stop', '1 stop', '1 stop', '1 stop', '1 stop', '1 stop', '2 stops', '1 stop', '1 stop', '2 stops', '1 stop', '1 stop', '1 stop', '1 stop', '1 stop']\n",
      "['€82', '€200', '€282', '€307', '€265', '€98', '€209', '€297', '€372', '€193', '€285', '€265', '€391', '€123', '€282']\n",
      "['18h 40m', '6h 40m', '6h 20m', '6h 20m', '7h 45m', '18h 40m', '7h 55m', '7h 10m', '5h 55m', '9h 10m', '7h 45m', '8h 45m', '5h 30m', '18h 00m', '8h 25m']\n",
      "Button pressed\n"
     ]
    },
    {
     "name": "stderr",
     "output_type": "stream",
     "text": [
      "\r",
      " 29%|██▊       | 2/7 [00:43<01:43, 20.75s/it]"
     ]
    },
    {
     "name": "stdout",
     "output_type": "stream",
     "text": [
      "['Vueling', 'Vueling', 'Vueling, Aer Lingus', 'Iberia, Aer Lingus', 'Vueling, Aer Lingus', 'Vueling', 'British Airways', 'Vueling', 'CitizenPlane', 'British Airways', 'British Airways', 'Vueling', 'Iberia, British Airways', 'Iberia, British Airways', 'British Airways']\n",
      "['1 stop', '1 stop', '1 stop', '1 stop', '1 stop', '1 stop', '1 stop', '1 stop', '1 stop', '1 stop', '1 stop', '2 stops', '1 stop', '1 stop', '1 stop']\n",
      "['€68', '€57', '€109', '€166', '€175', '€57', '€238', '€57', '€74', '€211', '€227', '€162', '€274', '€227', '€211']\n",
      "['7h 20m', '13h 40m', '6h 40m', '5h 30m', '5h 30m', '15h 55m', '6h 20m', '18h 20m', '13h 40m', '7h 45m', '7h 20m', '6h 45m', '6h 20m', '7h 45m', '8h 45m']\n",
      "Button pressed\n"
     ]
    },
    {
     "name": "stderr",
     "output_type": "stream",
     "text": [
      "\r",
      " 43%|████▎     | 3/7 [00:59<01:15, 19.00s/it]"
     ]
    },
    {
     "name": "stdout",
     "output_type": "stream",
     "text": [
      "['Iberia', 'Vueling', 'Iberia Express', 'Iberia, Iberia Express', 'Iberia Express, Iberia', 'British Airways', 'Vueling', 'Vueling, Aer Lingus', 'CitizenPlane', 'Iberia', 'British Airways', 'Iberia, British Airways', 'Iberia Express', 'British Airways', 'Iberia, Iberia Express']\n",
      "['1 stop', '1 stop', '1 stop', '1 stop', '1 stop', '1 stop', '1 stop', '1 stop', '1 stop', '1 stop', '1 stop', '2 stops', '1 stop', '1 stop', '1 stop']\n",
      "['€65', '€46', '€71', '€73', '€77', '€108', '€141', '€111', '€60', '€69', '€269', '€130', '€64', '€211', '€67']\n",
      "['5h 50m', '14h 05m', '5h 50m', '5h 50m', '5h 50m', '5h 50m', '5h 50m', '6h 40m', '14h 05m', '13h 40m', '6h 20m', '7h 35m', '13h 40m', '7h 45m', '13h 40m']\n",
      "Button pressed\n"
     ]
    },
    {
     "name": "stderr",
     "output_type": "stream",
     "text": [
      "\r",
      " 57%|█████▋    | 4/7 [01:17<00:55, 18.43s/it]"
     ]
    },
    {
     "name": "stdout",
     "output_type": "stream",
     "text": [
      "['Vueling, Aer Lingus', 'Vueling', 'British Airways', 'Iberia', 'Iberia, Iberia Express', 'Air Europa, Aer Lingus', 'Vueling, Iberia Express', 'Vueling, Aer Lingus', 'Vueling, Iberia', 'Vueling, Aer Lingus', 'Vueling, Aer Lingus', 'Vueling', 'Vueling, Aer Lingus', 'Iberia', 'Vueling, Aer Lingus', 'Iberia, British Airways']\n",
      "['1 stop', '1 stop', '1 stop', '1 stop', '1 stop', '1 stop', '1 stop', '1 stop', '1 stop', '1 stop', '1 stop', '1 stop', '1 stop', '1 stop', '2 stops', '2 stops']\n",
      "['€91', '€58', '€124', '€97', '€93', '€76', '€98', '€69', '€103', '€69', '€117', '€156', '€102', '€116', '€136', '€167']\n",
      "['5h 45m', '24h 05m', '5h 55m', '5h 55m', '5h 55m', '8h 10m', '5h 55m', '8h 05m', '5h 55m', '9h 05m', '6h 40m', '5h 55m', '9h 45m', '10h 10m', '8h 30m', '7h 40m']\n",
      "Button pressed\n"
     ]
    },
    {
     "name": "stderr",
     "output_type": "stream",
     "text": [
      "\r",
      " 71%|███████▏  | 5/7 [01:34<00:36, 18.03s/it]"
     ]
    },
    {
     "name": "stdout",
     "output_type": "stream",
     "text": [
      "['Vueling', 'Vueling, Aer Lingus', 'Vueling', 'Vueling, Aer Lingus', 'Vueling, Transavia France', 'Vueling, Aer Lingus', 'CitizenPlane, Aer Lingus', 'Vueling, Aer Lingus', 'Iberia', 'Vueling', 'Iberia Express', 'Iberia, Iberia Express', 'British Airways', 'British Airways', 'Iberia, Aer Lingus']\n",
      "['1 stop', '1 stop', '1 stop', '1 stop', '1 stop', '1 stop', '1 stop', '1 stop', '1 stop', '2 stops', '1 stop', '1 stop', '1 stop', '1 stop', '1 stop']\n",
      "['€53', '€64', '€118', '€111', '€135', '€101', '€152', '€101', '€78', '€169', '€69', '€73', '€235', '€224', '€239']\n",
      "['8h 05m', '6h 40m', '4h 50m', '6h 10m', '5h 30m', '8h 20m', '6h 10m', '9h 35m', '14h 00m', '6h 35m', '14h 00m', '14h 00m', '6h 20m', '7h 45m', '5h 30m']\n",
      "Button pressed\n"
     ]
    },
    {
     "name": "stderr",
     "output_type": "stream",
     "text": [
      "\r",
      " 86%|████████▌ | 6/7 [01:51<00:17, 17.63s/it]"
     ]
    },
    {
     "name": "stdout",
     "output_type": "stream",
     "text": [
      "['Iberia', 'Vueling', 'Vueling', 'British Airways', 'Vueling, Aer Lingus', 'Vueling, TAP AIR PORTUGAL', 'Iberia', 'Transavia, Aer Lingus', 'Vueling, Aer Lingus', 'Vueling', 'KLM', 'Iberia', 'Air France', 'CitizenPlane, Aer Lingus', 'British Airways', 'Vueling, TAP AIR PORTUGAL']\n",
      "['1 stop', '1 stop', '1 stop', '1 stop', '1 stop', '2 stops', '1 stop', '1 stop', '1 stop', '2 stops', '1 stop', '1 stop', '2 stops', '1 stop', '1 stop', '2 stops']\n",
      "['€108', '€46', '€122', '€170', '€142', '€97', '€190', '€227', '€83', '€106', '€259', '€70', '€271', '€125', '€270', '€105']\n",
      "['5h 55m', '23h 40m', '7h 20m', '5h 55m', '6h 40m', '10h 15m', '10h 10m', '5h 50m', '18h 00m', '16h 20m', '8h 30m', '21h 35m', '8h 35m', '18h 00m', '9h 20m', '18h 30m']\n",
      "Button pressed\n"
     ]
    },
    {
     "name": "stderr",
     "output_type": "stream",
     "text": [
      "100%|██████████| 7/7 [02:08<00:00, 18.42s/it]"
     ]
    },
    {
     "name": "stdout",
     "output_type": "stream",
     "text": [
      "['Vueling', 'Vueling', 'Iberia Express', 'Iberia Express, Iberia', 'Iberia, Iberia Express', 'Iberia Express, Aer Lingus', 'Iberia', 'Vueling, Aer Lingus', 'Iberia, Aer Lingus', 'Vueling', 'Vueling', 'Air Europa, Aer Lingus', 'Transavia, Aer Lingus', 'Iberia', 'Vueling, Aer Lingus']\n",
      "['1 stop', '1 stop', '1 stop', '1 stop', '1 stop', '1 stop', '1 stop', '1 stop', '1 stop', '1 stop', '1 stop', '1 stop', '1 stop', '1 stop', '1 stop']\n",
      "['€43', '€63', '€103', '€106', '€106', '€91', '€109', '€95', '€94', '€63', '€173', '€75', '€214', '€260', '€218']\n",
      "['6h 15m', '9h 05m', '5h 55m', '5h 55m', '5h 55m', '6h 45m', '5h 55m', '6h 40m', '6h 45m', '12h 20m', '5h 55m', '9h 25m', '5h 40m', '6h 15m', '6h 20m']\n",
      "Successfully saved IBZ => DUB route as IBZ_DUB.csv\n"
     ]
    },
    {
     "name": "stderr",
     "output_type": "stream",
     "text": [
      "\n"
     ]
    }
   ],
   "source": [
    "# Set the path to the ChromeDriver executable\n",
    "chromedriver_path = \"C:\\\\Users\\\\eduma\\\\Downloads\\\\chromedriver-win64\\\\chromedriver-win64\\\\chromedriver.exe\"\n",
    "\n",
    "# Launch the driver using the Service class\n",
    "service = Service(chromedriver_path)\n",
    "#driver = webdriver.Chrome(service=service)\n",
    "#driver = webdriver.Chrome()\n",
    "\n",
    "for i in range(len(sources)):\n",
    "    column_names = [\"Airline\", \"Source\", \"Destination\", \"Duration\", \"Total stops\", \"Price\", \"Date\"]\n",
    "    df = pd.DataFrame(columns=column_names)\n",
    "\n",
    "    for j in tqdm(range(num_days + 1)):\n",
    "        # close and open driver every 10 days to avoid captcha\n",
    "        if j % 10 == 0:\n",
    "            driver.quit()\n",
    "            #service = Service(chromedriver_path)\n",
    "            #driver = webdriver.Chrome(service=service)\n",
    "            service = Service()\n",
    "            driver = webdriver.Chrome()\n",
    "\n",
    "        url = f\"https://www.kayak.ie/flights/{sources[i]}-{destinations[i]}/{start_date+j}\"\n",
    "        driver.get(url)\n",
    "        sleep(15)\n",
    "\n",
    "        # click show more button to get all flights\n",
    "        try:\n",
    "            show_more_button = WebDriverWait(driver, 20).until(\n",
    "                EC.presence_of_element_located((By.XPATH, '//div[@class=\"ULvh-button show-more-button\"]'))\n",
    "            )\n",
    "            show_more_button.click()\n",
    "            print(\"Button pressed\")\n",
    "        except NoSuchElementException:\n",
    "            print(\"Show more button not found. Skipping to the next iteration.\")\n",
    "            continue\n",
    "\n",
    "        soup = BeautifulSoup(driver.page_source, 'html.parser')\n",
    "        airlines = get_airlines(soup)\n",
    "        total_stops = get_total_stops(soup)\n",
    "        prices = get_price(soup)\n",
    "        duration = get_duration(soup)\n",
    "        print(airlines)\n",
    "        print(total_stops)\n",
    "        print(prices)\n",
    "        print(duration)\n",
    "        new_data = pd.DataFrame({\n",
    "            'Airline': airlines,\n",
    "            'Duration': duration,\n",
    "            'Total stops': total_stops,\n",
    "            'Price': prices,\n",
    "            'Date': start_date + j\n",
    "        })\n",
    "        df = pd.concat([df, new_data], ignore_index=True, axis=0)\n",
    "\n",
    "    df['Source'] = sources[i]\n",
    "    df['Destination'] = destinations[i]\n",
    "    df = df.replace('\\n', '', regex=True)\n",
    "    df = df.reset_index(drop=True)\n",
    "\n",
    "    # save data as a CSV file for each route\n",
    "    df.to_csv(f'{sources[i]}_{destinations[i]}.csv', index=False)\n",
    "    print(f\"Successfully saved {sources[i]} => {destinations[i]} route as {sources[i]}_{destinations[i]}.csv\")\n",
    "\n",
    "driver.quit()"
   ]
  },
  {
   "cell_type": "code",
   "execution_count": null,
   "id": "abc76c13",
   "metadata": {},
   "outputs": [],
   "source": []
  }
 ],
 "metadata": {
  "kernelspec": {
   "display_name": "Python 3 (ipykernel)",
   "language": "python",
   "name": "python3"
  },
  "language_info": {
   "codemirror_mode": {
    "name": "ipython",
    "version": 3
   },
   "file_extension": ".py",
   "mimetype": "text/x-python",
   "name": "python",
   "nbconvert_exporter": "python",
   "pygments_lexer": "ipython3",
   "version": "3.9.7"
  }
 },
 "nbformat": 4,
 "nbformat_minor": 5
}
