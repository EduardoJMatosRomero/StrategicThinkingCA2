{
 "cells": [
  {
   "cell_type": "code",
   "execution_count": 22,
   "id": "24c17d5f",
   "metadata": {},
   "outputs": [],
   "source": [
    "import pandas as pd\n",
    "from tabulate import tabulate\n",
    "from sklearn.ensemble import RandomForestRegressor\n",
    "from sklearn.metrics import mean_squared_error\n",
    "import numpy as np\n",
    "from sklearn.model_selection import train_test_split\n",
    "import datetime\n",
    "import calendar\n",
    "import matplotlib.pyplot as plt\n",
    "import seaborn as sns\n",
    "from sklearn.preprocessing import MinMaxScaler\n",
    "\n",
    "from sklearn.linear_model import LinearRegression, Ridge, Lasso\n",
    "from sklearn.model_selection import GridSearchCV\n",
    "from sklearn.linear_model import LinearRegression, Ridge, Lasso\n",
    "from sklearn.tree import DecisionTreeRegressor \n",
    "from sklearn.ensemble import RandomForestRegressor \n",
    "from sklearn.svm import SVR\n",
    "from sklearn.neighbors import KNeighborsRegressor \n",
    "from sklearn.model_selection import KFold\n",
    "from sklearn.model_selection import cross_val_score\n",
    "from sklearn.preprocessing import LabelEncoder\n",
    "from sklearn.metrics import mean_squared_error, r2_score, mean_absolute_error"
   ]
  },
  {
   "cell_type": "code",
   "execution_count": 2,
   "id": "9eddcefa",
   "metadata": {},
   "outputs": [],
   "source": [
    "df = pd.read_csv('cleaned_data.csv')"
   ]
  },
  {
   "cell_type": "code",
   "execution_count": 3,
   "id": "dd75c124",
   "metadata": {},
   "outputs": [
    {
     "data": {
      "text/html": [
       "<div>\n",
       "<style scoped>\n",
       "    .dataframe tbody tr th:only-of-type {\n",
       "        vertical-align: middle;\n",
       "    }\n",
       "\n",
       "    .dataframe tbody tr th {\n",
       "        vertical-align: top;\n",
       "    }\n",
       "\n",
       "    .dataframe thead th {\n",
       "        text-align: right;\n",
       "    }\n",
       "</style>\n",
       "<table border=\"1\" class=\"dataframe\">\n",
       "  <thead>\n",
       "    <tr style=\"text-align: right;\">\n",
       "      <th></th>\n",
       "      <th>Airline</th>\n",
       "      <th>Source</th>\n",
       "      <th>Destination</th>\n",
       "      <th>Duration</th>\n",
       "      <th>Total stops</th>\n",
       "      <th>Price</th>\n",
       "      <th>Date</th>\n",
       "    </tr>\n",
       "  </thead>\n",
       "  <tbody>\n",
       "    <tr>\n",
       "      <th>count</th>\n",
       "      <td>2307</td>\n",
       "      <td>2307</td>\n",
       "      <td>2307</td>\n",
       "      <td>2307.000000</td>\n",
       "      <td>2307.000000</td>\n",
       "      <td>2307.00000</td>\n",
       "      <td>2307</td>\n",
       "    </tr>\n",
       "    <tr>\n",
       "      <th>unique</th>\n",
       "      <td>75</td>\n",
       "      <td>4</td>\n",
       "      <td>4</td>\n",
       "      <td>NaN</td>\n",
       "      <td>NaN</td>\n",
       "      <td>NaN</td>\n",
       "      <td>24</td>\n",
       "    </tr>\n",
       "    <tr>\n",
       "      <th>top</th>\n",
       "      <td>Iberia</td>\n",
       "      <td>DUB</td>\n",
       "      <td>DUB</td>\n",
       "      <td>NaN</td>\n",
       "      <td>NaN</td>\n",
       "      <td>NaN</td>\n",
       "      <td>2023-12-23</td>\n",
       "    </tr>\n",
       "    <tr>\n",
       "      <th>freq</th>\n",
       "      <td>418</td>\n",
       "      <td>1162</td>\n",
       "      <td>1145</td>\n",
       "      <td>NaN</td>\n",
       "      <td>NaN</td>\n",
       "      <td>NaN</td>\n",
       "      <td>109</td>\n",
       "    </tr>\n",
       "    <tr>\n",
       "      <th>mean</th>\n",
       "      <td>NaN</td>\n",
       "      <td>NaN</td>\n",
       "      <td>NaN</td>\n",
       "      <td>462.697443</td>\n",
       "      <td>0.926745</td>\n",
       "      <td>247.95622</td>\n",
       "      <td>NaN</td>\n",
       "    </tr>\n",
       "    <tr>\n",
       "      <th>std</th>\n",
       "      <td>NaN</td>\n",
       "      <td>NaN</td>\n",
       "      <td>NaN</td>\n",
       "      <td>273.720522</td>\n",
       "      <td>0.640028</td>\n",
       "      <td>153.71810</td>\n",
       "      <td>NaN</td>\n",
       "    </tr>\n",
       "    <tr>\n",
       "      <th>min</th>\n",
       "      <td>NaN</td>\n",
       "      <td>NaN</td>\n",
       "      <td>NaN</td>\n",
       "      <td>150.000000</td>\n",
       "      <td>0.000000</td>\n",
       "      <td>27.00000</td>\n",
       "      <td>NaN</td>\n",
       "    </tr>\n",
       "    <tr>\n",
       "      <th>25%</th>\n",
       "      <td>NaN</td>\n",
       "      <td>NaN</td>\n",
       "      <td>NaN</td>\n",
       "      <td>300.000000</td>\n",
       "      <td>1.000000</td>\n",
       "      <td>137.00000</td>\n",
       "      <td>NaN</td>\n",
       "    </tr>\n",
       "    <tr>\n",
       "      <th>50%</th>\n",
       "      <td>NaN</td>\n",
       "      <td>NaN</td>\n",
       "      <td>NaN</td>\n",
       "      <td>420.000000</td>\n",
       "      <td>1.000000</td>\n",
       "      <td>210.00000</td>\n",
       "      <td>NaN</td>\n",
       "    </tr>\n",
       "    <tr>\n",
       "      <th>75%</th>\n",
       "      <td>NaN</td>\n",
       "      <td>NaN</td>\n",
       "      <td>NaN</td>\n",
       "      <td>580.000000</td>\n",
       "      <td>1.000000</td>\n",
       "      <td>325.00000</td>\n",
       "      <td>NaN</td>\n",
       "    </tr>\n",
       "    <tr>\n",
       "      <th>max</th>\n",
       "      <td>NaN</td>\n",
       "      <td>NaN</td>\n",
       "      <td>NaN</td>\n",
       "      <td>2810.000000</td>\n",
       "      <td>3.000000</td>\n",
       "      <td>1044.00000</td>\n",
       "      <td>NaN</td>\n",
       "    </tr>\n",
       "  </tbody>\n",
       "</table>\n",
       "</div>"
      ],
      "text/plain": [
       "       Airline Source Destination     Duration  Total stops       Price  \\\n",
       "count     2307   2307        2307  2307.000000  2307.000000  2307.00000   \n",
       "unique      75      4           4          NaN          NaN         NaN   \n",
       "top     Iberia    DUB         DUB          NaN          NaN         NaN   \n",
       "freq       418   1162        1145          NaN          NaN         NaN   \n",
       "mean       NaN    NaN         NaN   462.697443     0.926745   247.95622   \n",
       "std        NaN    NaN         NaN   273.720522     0.640028   153.71810   \n",
       "min        NaN    NaN         NaN   150.000000     0.000000    27.00000   \n",
       "25%        NaN    NaN         NaN   300.000000     1.000000   137.00000   \n",
       "50%        NaN    NaN         NaN   420.000000     1.000000   210.00000   \n",
       "75%        NaN    NaN         NaN   580.000000     1.000000   325.00000   \n",
       "max        NaN    NaN         NaN  2810.000000     3.000000  1044.00000   \n",
       "\n",
       "              Date  \n",
       "count         2307  \n",
       "unique          24  \n",
       "top     2023-12-23  \n",
       "freq           109  \n",
       "mean           NaN  \n",
       "std            NaN  \n",
       "min            NaN  \n",
       "25%            NaN  \n",
       "50%            NaN  \n",
       "75%            NaN  \n",
       "max            NaN  "
      ]
     },
     "execution_count": 3,
     "metadata": {},
     "output_type": "execute_result"
    }
   ],
   "source": [
    "df.describe(include='all')"
   ]
  },
  {
   "cell_type": "code",
   "execution_count": 4,
   "id": "044d9bd6",
   "metadata": {},
   "outputs": [
    {
     "data": {
      "text/plain": [
       "Airline        0\n",
       "Source         0\n",
       "Destination    0\n",
       "Duration       0\n",
       "Total stops    0\n",
       "Price          0\n",
       "Date           0\n",
       "dtype: int64"
      ]
     },
     "execution_count": 4,
     "metadata": {},
     "output_type": "execute_result"
    }
   ],
   "source": [
    "df.isnull().sum()"
   ]
  },
  {
   "cell_type": "code",
   "execution_count": 5,
   "id": "79f09213",
   "metadata": {},
   "outputs": [
    {
     "name": "stdout",
     "output_type": "stream",
     "text": [
      "<class 'pandas.core.frame.DataFrame'>\n",
      "RangeIndex: 2307 entries, 0 to 2306\n",
      "Data columns (total 7 columns):\n",
      " #   Column       Non-Null Count  Dtype \n",
      "---  ------       --------------  ----- \n",
      " 0   Airline      2307 non-null   object\n",
      " 1   Source       2307 non-null   object\n",
      " 2   Destination  2307 non-null   object\n",
      " 3   Duration     2307 non-null   int64 \n",
      " 4   Total stops  2307 non-null   int64 \n",
      " 5   Price        2307 non-null   int64 \n",
      " 6   Date         2307 non-null   object\n",
      "dtypes: int64(3), object(4)\n",
      "memory usage: 126.3+ KB\n"
     ]
    }
   ],
   "source": [
    "df.info()"
   ]
  },
  {
   "cell_type": "markdown",
   "id": "85436d5d",
   "metadata": {},
   "source": [
    "'price' column conversion from Indian Rupees to €"
   ]
  },
  {
   "cell_type": "code",
   "execution_count": 6,
   "id": "a1e1def3",
   "metadata": {},
   "outputs": [],
   "source": [
    "exchange_rate = 0.011\n",
    "# Create a new column for converted prices in Euro\n",
    "df['price_euro'] = df['Price'] * exchange_rate"
   ]
  },
  {
   "cell_type": "code",
   "execution_count": 7,
   "id": "4e553afa",
   "metadata": {},
   "outputs": [],
   "source": [
    "df[\"Airline\"] = df[\"Airline\"].astype(\"category\")\n",
    "df[\"Source\"] = df[\"Source\"].astype(\"category\")\n",
    "df[\"Destination\"] = df[\"Destination\"].astype(\"category\")\n",
    "df[\"Date\"] = df[\"Date\"].astype(\"category\")\n",
    "\n",
    "lab_enc = LabelEncoder()\n",
    "\n",
    "df[\"Airline\"] = lab_enc.fit_transform(df[\"Airline\"])\n",
    "df[\"Source\"] = lab_enc.fit_transform(df[\"Source\"])\n",
    "df[\"Destination\"] = lab_enc.fit_transform(df[\"Destination\"])\n",
    "df[\"Date\"] = lab_enc.fit_transform(df[\"Date\"])"
   ]
  },
  {
   "cell_type": "markdown",
   "id": "38f44181",
   "metadata": {},
   "source": [
    "## Modeling testing"
   ]
  },
  {
   "cell_type": "code",
   "execution_count": 8,
   "id": "80e90fa6",
   "metadata": {},
   "outputs": [],
   "source": [
    "X = df.drop([\"price_euro\"], axis=1)\n",
    "y = df[\"price_euro\"]"
   ]
  },
  {
   "cell_type": "code",
   "execution_count": 9,
   "id": "3592523e",
   "metadata": {},
   "outputs": [
    {
     "name": "stdout",
     "output_type": "stream",
     "text": [
      "<class 'pandas.core.frame.DataFrame'>\n",
      "RangeIndex: 2307 entries, 0 to 2306\n",
      "Data columns (total 7 columns):\n",
      " #   Column       Non-Null Count  Dtype\n",
      "---  ------       --------------  -----\n",
      " 0   Airline      2307 non-null   int32\n",
      " 1   Source       2307 non-null   int32\n",
      " 2   Destination  2307 non-null   int32\n",
      " 3   Duration     2307 non-null   int64\n",
      " 4   Total stops  2307 non-null   int64\n",
      " 5   Price        2307 non-null   int64\n",
      " 6   Date         2307 non-null   int32\n",
      "dtypes: int32(4), int64(3)\n",
      "memory usage: 90.2 KB\n"
     ]
    }
   ],
   "source": [
    "X.info()"
   ]
  },
  {
   "cell_type": "code",
   "execution_count": 10,
   "id": "94a856cd",
   "metadata": {},
   "outputs": [],
   "source": [
    "min_max_scl = MinMaxScaler()\n",
    "X_scl = min_max_scl.fit_transform(X)\n",
    "X_scl = pd.DataFrame(X_scl, columns = df.columns[0:7])"
   ]
  },
  {
   "cell_type": "code",
   "execution_count": 11,
   "id": "df902dd9",
   "metadata": {},
   "outputs": [
    {
     "data": {
      "text/html": [
       "<div>\n",
       "<style scoped>\n",
       "    .dataframe tbody tr th:only-of-type {\n",
       "        vertical-align: middle;\n",
       "    }\n",
       "\n",
       "    .dataframe tbody tr th {\n",
       "        vertical-align: top;\n",
       "    }\n",
       "\n",
       "    .dataframe thead th {\n",
       "        text-align: right;\n",
       "    }\n",
       "</style>\n",
       "<table border=\"1\" class=\"dataframe\">\n",
       "  <thead>\n",
       "    <tr style=\"text-align: right;\">\n",
       "      <th></th>\n",
       "      <th>Airline</th>\n",
       "      <th>Source</th>\n",
       "      <th>Destination</th>\n",
       "      <th>Duration</th>\n",
       "      <th>Total stops</th>\n",
       "      <th>Price</th>\n",
       "      <th>Date</th>\n",
       "      <th>price_euro</th>\n",
       "    </tr>\n",
       "  </thead>\n",
       "  <tbody>\n",
       "    <tr>\n",
       "      <th>0</th>\n",
       "      <td>0.445946</td>\n",
       "      <td>0.0</td>\n",
       "      <td>0.333333</td>\n",
       "      <td>0.056391</td>\n",
       "      <td>0.333333</td>\n",
       "      <td>0.445428</td>\n",
       "      <td>0.521739</td>\n",
       "      <td>5.280</td>\n",
       "    </tr>\n",
       "    <tr>\n",
       "      <th>1</th>\n",
       "      <td>0.013514</td>\n",
       "      <td>0.0</td>\n",
       "      <td>0.333333</td>\n",
       "      <td>0.635338</td>\n",
       "      <td>0.666667</td>\n",
       "      <td>0.251721</td>\n",
       "      <td>0.521739</td>\n",
       "      <td>3.113</td>\n",
       "    </tr>\n",
       "    <tr>\n",
       "      <th>2</th>\n",
       "      <td>0.351351</td>\n",
       "      <td>0.0</td>\n",
       "      <td>0.333333</td>\n",
       "      <td>0.056391</td>\n",
       "      <td>0.333333</td>\n",
       "      <td>0.509341</td>\n",
       "      <td>0.521739</td>\n",
       "      <td>5.995</td>\n",
       "    </tr>\n",
       "    <tr>\n",
       "      <th>3</th>\n",
       "      <td>0.837838</td>\n",
       "      <td>0.0</td>\n",
       "      <td>0.333333</td>\n",
       "      <td>0.107143</td>\n",
       "      <td>0.333333</td>\n",
       "      <td>0.423795</td>\n",
       "      <td>0.521739</td>\n",
       "      <td>5.038</td>\n",
       "    </tr>\n",
       "    <tr>\n",
       "      <th>4</th>\n",
       "      <td>0.135135</td>\n",
       "      <td>0.0</td>\n",
       "      <td>0.333333</td>\n",
       "      <td>0.071429</td>\n",
       "      <td>0.333333</td>\n",
       "      <td>0.431662</td>\n",
       "      <td>0.521739</td>\n",
       "      <td>5.126</td>\n",
       "    </tr>\n",
       "    <tr>\n",
       "      <th>...</th>\n",
       "      <td>...</td>\n",
       "      <td>...</td>\n",
       "      <td>...</td>\n",
       "      <td>...</td>\n",
       "      <td>...</td>\n",
       "      <td>...</td>\n",
       "      <td>...</td>\n",
       "      <td>...</td>\n",
       "    </tr>\n",
       "    <tr>\n",
       "      <th>2302</th>\n",
       "      <td>0.189189</td>\n",
       "      <td>1.0</td>\n",
       "      <td>0.000000</td>\n",
       "      <td>0.195489</td>\n",
       "      <td>0.333333</td>\n",
       "      <td>0.073746</td>\n",
       "      <td>0.478261</td>\n",
       "      <td>1.122</td>\n",
       "    </tr>\n",
       "    <tr>\n",
       "      <th>2303</th>\n",
       "      <td>0.459459</td>\n",
       "      <td>1.0</td>\n",
       "      <td>0.000000</td>\n",
       "      <td>0.129699</td>\n",
       "      <td>0.333333</td>\n",
       "      <td>0.122911</td>\n",
       "      <td>0.478261</td>\n",
       "      <td>1.672</td>\n",
       "    </tr>\n",
       "    <tr>\n",
       "      <th>2304</th>\n",
       "      <td>0.581081</td>\n",
       "      <td>1.0</td>\n",
       "      <td>0.000000</td>\n",
       "      <td>0.129699</td>\n",
       "      <td>0.333333</td>\n",
       "      <td>0.127827</td>\n",
       "      <td>0.478261</td>\n",
       "      <td>1.727</td>\n",
       "    </tr>\n",
       "    <tr>\n",
       "      <th>2305</th>\n",
       "      <td>0.837838</td>\n",
       "      <td>1.0</td>\n",
       "      <td>0.000000</td>\n",
       "      <td>0.129699</td>\n",
       "      <td>0.333333</td>\n",
       "      <td>0.171091</td>\n",
       "      <td>0.478261</td>\n",
       "      <td>2.211</td>\n",
       "    </tr>\n",
       "    <tr>\n",
       "      <th>2306</th>\n",
       "      <td>0.459459</td>\n",
       "      <td>1.0</td>\n",
       "      <td>0.000000</td>\n",
       "      <td>0.199248</td>\n",
       "      <td>0.333333</td>\n",
       "      <td>0.115044</td>\n",
       "      <td>0.478261</td>\n",
       "      <td>1.584</td>\n",
       "    </tr>\n",
       "  </tbody>\n",
       "</table>\n",
       "<p>2307 rows × 8 columns</p>\n",
       "</div>"
      ],
      "text/plain": [
       "       Airline  Source  Destination  Duration  Total stops     Price  \\\n",
       "0     0.445946     0.0     0.333333  0.056391     0.333333  0.445428   \n",
       "1     0.013514     0.0     0.333333  0.635338     0.666667  0.251721   \n",
       "2     0.351351     0.0     0.333333  0.056391     0.333333  0.509341   \n",
       "3     0.837838     0.0     0.333333  0.107143     0.333333  0.423795   \n",
       "4     0.135135     0.0     0.333333  0.071429     0.333333  0.431662   \n",
       "...        ...     ...          ...       ...          ...       ...   \n",
       "2302  0.189189     1.0     0.000000  0.195489     0.333333  0.073746   \n",
       "2303  0.459459     1.0     0.000000  0.129699     0.333333  0.122911   \n",
       "2304  0.581081     1.0     0.000000  0.129699     0.333333  0.127827   \n",
       "2305  0.837838     1.0     0.000000  0.129699     0.333333  0.171091   \n",
       "2306  0.459459     1.0     0.000000  0.199248     0.333333  0.115044   \n",
       "\n",
       "          Date  price_euro  \n",
       "0     0.521739       5.280  \n",
       "1     0.521739       3.113  \n",
       "2     0.521739       5.995  \n",
       "3     0.521739       5.038  \n",
       "4     0.521739       5.126  \n",
       "...        ...         ...  \n",
       "2302  0.478261       1.122  \n",
       "2303  0.478261       1.672  \n",
       "2304  0.478261       1.727  \n",
       "2305  0.478261       2.211  \n",
       "2306  0.478261       1.584  \n",
       "\n",
       "[2307 rows x 8 columns]"
      ]
     },
     "execution_count": 11,
     "metadata": {},
     "output_type": "execute_result"
    }
   ],
   "source": [
    "df = pd.concat([X_scl.reset_index(drop=True), y.reset_index(drop=True)], axis=1)\n",
    "df"
   ]
  },
  {
   "cell_type": "markdown",
   "id": "3fb8a5e4",
   "metadata": {},
   "source": [
    "- Training splits 80-20%"
   ]
  },
  {
   "cell_type": "code",
   "execution_count": 12,
   "id": "2029f7c6",
   "metadata": {},
   "outputs": [
    {
     "data": {
      "text/plain": [
       "((2307, 7), (2307,), (1845, 7), (462, 7), (1845,), (462,))"
      ]
     },
     "execution_count": 12,
     "metadata": {},
     "output_type": "execute_result"
    }
   ],
   "source": [
    "X_train, X_test, y_train, y_test = train_test_split(X_scl, y, test_size=0.2)\n",
    "X.shape, y.shape, X_train.shape, X_test.shape, y_train.shape, y_test.shape"
   ]
  },
  {
   "cell_type": "code",
   "execution_count": 13,
   "id": "ddc7873c",
   "metadata": {},
   "outputs": [
    {
     "name": "stdout",
     "output_type": "stream",
     "text": [
      "Linear Regression: 0.000000 (0.000000)\n",
      "Ridge Regression: 0.002214 (0.000374)\n",
      "Lasso Regression: 2.849936 (0.324400)\n",
      "Decision Tree Regressor: 0.001025 (0.001241)\n",
      "Random Forest Regressor: 0.000506 (0.000555)\n",
      "Support Vector Regressor: 0.024746 (0.009922)\n",
      "K-Nearest Neighbours Regressor: 0.244564 (0.035235)\n",
      "+--------------------------------+-----------------------------+----------------------------+\n",
      "| Model                          |   Mean Squared Error (mean) |   Mean Squared Error (std) |\n",
      "+================================+=============================+============================+\n",
      "| Linear Regression              |                  1.9394e-30 |                9.82312e-31 |\n",
      "+--------------------------------+-----------------------------+----------------------------+\n",
      "| Ridge Regression               |                  0.00221351 |                0.000373766 |\n",
      "+--------------------------------+-----------------------------+----------------------------+\n",
      "| Lasso Regression               |                  2.84994    |                0.3244      |\n",
      "+--------------------------------+-----------------------------+----------------------------+\n",
      "| Decision Tree Regressor        |                  0.0010254  |                0.00124052  |\n",
      "+--------------------------------+-----------------------------+----------------------------+\n",
      "| Random Forest Regressor        |                  0.00050645 |                0.000555036 |\n",
      "+--------------------------------+-----------------------------+----------------------------+\n",
      "| Support Vector Regressor       |                  0.0247455  |                0.00992178  |\n",
      "+--------------------------------+-----------------------------+----------------------------+\n",
      "| K-Nearest Neighbours Regressor |                  0.244564   |                0.0352351   |\n",
      "+--------------------------------+-----------------------------+----------------------------+\n"
     ]
    }
   ],
   "source": [
    "regression_models = [\n",
    "    ('Linear Regression', LinearRegression()),\n",
    "    ('Ridge Regression', Ridge()),\n",
    "    ('Lasso Regression', Lasso()),\n",
    "    ('Decision Tree Regressor', DecisionTreeRegressor()),\n",
    "    ('Random Forest Regressor', RandomForestRegressor(n_estimators=500, max_depth=10)),\n",
    "    ('Support Vector Regressor', SVR()),\n",
    "    ('K-Nearest Neighbours Regressor', KNeighborsRegressor())]\n",
    "\n",
    "results = []\n",
    "names = []\n",
    "\n",
    "for name, model in regression_models:\n",
    "    kfold = KFold(n_splits=10, random_state=1, shuffle=True)\n",
    "    cv_results = cross_val_score(model, X_train, y_train, cv=kfold, scoring='neg_mean_squared_error')\n",
    "    results.append([-cv_results.mean(), cv_results.std()])\n",
    "    names.append(name)\n",
    "    print('%s: %f (%f)' % (name, -cv_results.mean(), cv_results.std()))\n",
    "\n",
    "headers = [\"Model\", \"Mean Squared Error (mean)\", \"Mean Squared Error (std)\"]\n",
    "\n",
    "print(tabulate(zip(names, *zip(*results)), headers=headers, tablefmt=\"grid\"))"
   ]
  },
  {
   "cell_type": "code",
   "execution_count": 14,
   "id": "e16269d8",
   "metadata": {},
   "outputs": [
    {
     "name": "stdout",
     "output_type": "stream",
     "text": [
      "Evaluating Linear Regression on the test set...\n",
      "Evaluating Ridge Regression on the test set...\n",
      "Evaluating Lasso Regression on the test set...\n",
      "Evaluating Decision Tree Regressor on the test set...\n",
      "Evaluating Random Forest Regressor on the test set...\n",
      "Evaluating Support Vector Regressor on the test set...\n",
      "Evaluating K-Nearest Neighbours Regressor on the test set...\n",
      "+--------------------------------+---------------+----------------------+-------------+-----------------------+\n",
      "| Model                          |   Train Score |   Mean Squared Error |   R-squared |   Mean Absolute Error |\n",
      "+================================+===============+======================+=============+=======================+\n",
      "| Linear Regression              |      1        |          1.34414e-30 |  1          |           9.35399e-16 |\n",
      "+--------------------------------+---------------+----------------------+-------------+-----------------------+\n",
      "| Ridge Regression               |      0.999374 |          0.00172361  |  0.999403   |           0.0319759   |\n",
      "+--------------------------------+---------------+----------------------+-------------+-----------------------+\n",
      "| Lasso Regression               |      0        |          2.9054      | -0.00653928 |           1.29931     |\n",
      "+--------------------------------+---------------+----------------------+-------------+-----------------------+\n",
      "| Decision Tree Regressor        |      1        |          0.0076251   |  0.997358   |           0.00838095  |\n",
      "+--------------------------------+---------------+----------------------+-------------+-----------------------+\n",
      "| Random Forest Regressor        |      0.999971 |          0.000895452 |  0.99969    |           0.00455932  |\n",
      "+--------------------------------+---------------+----------------------+-------------+-----------------------+\n",
      "| Support Vector Regressor       |      0.993913 |          0.0337549   |  0.988306   |           0.0825447   |\n",
      "+--------------------------------+---------------+----------------------+-------------+-----------------------+\n",
      "| K-Nearest Neighbours Regressor |      0.953593 |          0.207786    |  0.928015   |           0.310824    |\n",
      "+--------------------------------+---------------+----------------------+-------------+-----------------------+\n"
     ]
    }
   ],
   "source": [
    "def get_metrics(model, X_test, y_test):\n",
    "    y_pred = model.predict(X_test)\n",
    "    mse = mean_squared_error(y_test, y_pred)\n",
    "    r2 = r2_score(y_test, y_pred)\n",
    "    mae = mean_absolute_error(y_test, y_pred)\n",
    "    train_score = model.score(X_train, y_train)\n",
    "    return [train_score, mse, r2, mae]\n",
    "\n",
    "results = []\n",
    "\n",
    "\n",
    "for name, model in regression_models:\n",
    "    print(f\"Evaluating {name} on the test set...\")\n",
    "   \n",
    "    model.fit(X_train, y_train)\n",
    "    \n",
    "    metrics = get_metrics(model, X_test, y_test)\n",
    "    \n",
    "    results.append([name] + metrics)\n",
    "\n",
    "headers = [\"Model\", \"Train Score\", \"Mean Squared Error\", \"R-squared\", \"Mean Absolute Error\"]\n",
    "\n",
    "print(tabulate(results, headers=headers, tablefmt=\"grid\"))"
   ]
  },
  {
   "cell_type": "markdown",
   "id": "76a7c327",
   "metadata": {},
   "source": [
    "### Note\n",
    "Splitting the dataset 80% training and 20% we already can see the algorithms with a better predicction performance are Decision Tree and Random Forest, so that it is been decided to carry on with the analysis just using this algorithms."
   ]
  },
  {
   "cell_type": "markdown",
   "id": "a480a73a",
   "metadata": {},
   "source": [
    "- Training splits 90-10%"
   ]
  },
  {
   "cell_type": "code",
   "execution_count": 15,
   "id": "740c9700",
   "metadata": {},
   "outputs": [
    {
     "data": {
      "text/plain": [
       "((2307, 7), (2307,), (2076, 7), (231, 7), (2076,), (231,))"
      ]
     },
     "execution_count": 15,
     "metadata": {},
     "output_type": "execute_result"
    }
   ],
   "source": [
    "X_train, X_test, y_train, y_test = train_test_split(X_scl, y, test_size=0.1)\n",
    "X.shape, y.shape, X_train.shape, X_test.shape, y_train.shape, y_test.shape"
   ]
  },
  {
   "cell_type": "code",
   "execution_count": 16,
   "id": "b539adad",
   "metadata": {},
   "outputs": [
    {
     "name": "stdout",
     "output_type": "stream",
     "text": [
      "Decision Tree Regressor: 0.000758 (0.000891)\n",
      "Random Forest Regressor: 0.000261 (0.000349)\n",
      "+-------------------------+-----------------------------+----------------------------+\n",
      "| Model                   |   Mean Squared Error (mean) |   Mean Squared Error (std) |\n",
      "+=========================+=============================+============================+\n",
      "| Decision Tree Regressor |                 0.000758248 |                0.000890767 |\n",
      "+-------------------------+-----------------------------+----------------------------+\n",
      "| Random Forest Regressor |                 0.000260666 |                0.000348868 |\n",
      "+-------------------------+-----------------------------+----------------------------+\n"
     ]
    }
   ],
   "source": [
    "regression_models = [\n",
    "    ('Decision Tree Regressor', DecisionTreeRegressor()),\n",
    "    ('Random Forest Regressor', RandomForestRegressor(n_estimators=500, max_depth=10)),\n",
    "]\n",
    "\n",
    "results = []\n",
    "names = []\n",
    "\n",
    "for name, model in regression_models:\n",
    "    kfold = KFold(n_splits=10, random_state=1, shuffle=True)\n",
    "    cv_results = cross_val_score(model, X_train, y_train, cv=kfold, scoring='neg_mean_squared_error')\n",
    "    results.append([-cv_results.mean(), cv_results.std()])\n",
    "    names.append(name)\n",
    "    print('%s: %f (%f)' % (name, -cv_results.mean(), cv_results.std()))\n",
    "\n",
    "headers = [\"Model\", \"Mean Squared Error (mean)\", \"Mean Squared Error (std)\"]\n",
    "\n",
    "print(tabulate(zip(names, *zip(*results)), headers=headers, tablefmt=\"grid\"))"
   ]
  },
  {
   "cell_type": "code",
   "execution_count": 17,
   "id": "96334f2c",
   "metadata": {},
   "outputs": [
    {
     "name": "stdout",
     "output_type": "stream",
     "text": [
      "Evaluating Decision Tree Regressor on the test set...\n",
      "Evaluating Random Forest Regressor on the test set...\n",
      "+-------------------------+---------------+----------------------+-------------+-----------------------+\n",
      "| Model                   |   Train Score |   Mean Squared Error |   R-squared |   Mean Absolute Error |\n",
      "+=========================+===============+======================+=============+=======================+\n",
      "| Decision Tree Regressor |      1        |          0.000269238 |    0.999909 |            0.00361905 |\n",
      "+-------------------------+---------------+----------------------+-------------+-----------------------+\n",
      "| Random Forest Regressor |      0.999989 |          9.64337e-05 |    0.999967 |            0.00316194 |\n",
      "+-------------------------+---------------+----------------------+-------------+-----------------------+\n"
     ]
    }
   ],
   "source": [
    "def get_metrics(model, X_test, y_test):\n",
    "    y_pred = model.predict(X_test)\n",
    "    mse = mean_squared_error(y_test, y_pred)\n",
    "    r2 = r2_score(y_test, y_pred)\n",
    "    mae = mean_absolute_error(y_test, y_pred)\n",
    "    train_score = model.score(X_train, y_train)\n",
    "    return [train_score, mse, r2, mae]\n",
    "\n",
    "results = []\n",
    "\n",
    "for name, model in regression_models:\n",
    "    print(f\"Evaluating {name} on the test set...\")\n",
    "    \n",
    "    model.fit(X_train, y_train)\n",
    "    \n",
    "    metrics = get_metrics(model, X_test, y_test)\n",
    "    \n",
    "    results.append([name] + metrics)\n",
    "\n",
    "headers = [\"Model\", \"Train Score\", \"Mean Squared Error\", \"R-squared\", \"Mean Absolute Error\"]\n",
    "\n",
    "print(tabulate(results, headers=headers, tablefmt=\"grid\"))"
   ]
  },
  {
   "cell_type": "markdown",
   "id": "0b782b7c",
   "metadata": {},
   "source": [
    "- Training splits 70-30%"
   ]
  },
  {
   "cell_type": "code",
   "execution_count": 18,
   "id": "4d3c3bfb",
   "metadata": {},
   "outputs": [
    {
     "data": {
      "text/plain": [
       "((2307, 7), (2307,), (1614, 7), (693, 7), (1614,), (693,))"
      ]
     },
     "execution_count": 18,
     "metadata": {},
     "output_type": "execute_result"
    }
   ],
   "source": [
    "X_train, X_test, y_train, y_test = train_test_split(X_scl, y, test_size=0.3)\n",
    "X.shape, y.shape, X_train.shape, X_test.shape, y_train.shape, y_test.shape"
   ]
  },
  {
   "cell_type": "code",
   "execution_count": 19,
   "id": "c3cd87fb",
   "metadata": {},
   "outputs": [
    {
     "name": "stdout",
     "output_type": "stream",
     "text": [
      "Decision Tree Regressor: 0.000656 (0.001271)\n",
      "Random Forest Regressor: 0.000410 (0.000268)\n",
      "+-------------------------+-----------------------------+----------------------------+\n",
      "| Model                   |   Mean Squared Error (mean) |   Mean Squared Error (std) |\n",
      "+=========================+=============================+============================+\n",
      "| Decision Tree Regressor |                 0.000655626 |                0.00127072  |\n",
      "+-------------------------+-----------------------------+----------------------------+\n",
      "| Random Forest Regressor |                 0.000409502 |                0.000268475 |\n",
      "+-------------------------+-----------------------------+----------------------------+\n"
     ]
    }
   ],
   "source": [
    "regression_models = [\n",
    "    ('Decision Tree Regressor', DecisionTreeRegressor()),\n",
    "    ('Random Forest Regressor', RandomForestRegressor(n_estimators=500, max_depth=10)),\n",
    "]\n",
    "\n",
    "results = []\n",
    "names = []\n",
    "\n",
    "for name, model in regression_models:\n",
    "    kfold = KFold(n_splits=10, random_state=1, shuffle=True)\n",
    "    cv_results = cross_val_score(model, X_train, y_train, cv=kfold, scoring='neg_mean_squared_error')\n",
    "    results.append([-cv_results.mean(), cv_results.std()])\n",
    "    names.append(name)\n",
    "    print('%s: %f (%f)' % (name, -cv_results.mean(), cv_results.std()))\n",
    "\n",
    "headers = [\"Model\", \"Mean Squared Error (mean)\", \"Mean Squared Error (std)\"]\n",
    "\n",
    "print(tabulate(zip(names, *zip(*results)), headers=headers, tablefmt=\"grid\"))"
   ]
  },
  {
   "cell_type": "code",
   "execution_count": 20,
   "id": "394b6f3e",
   "metadata": {},
   "outputs": [
    {
     "name": "stdout",
     "output_type": "stream",
     "text": [
      "Evaluating Decision Tree Regressor on the test set...\n",
      "Evaluating Random Forest Regressor on the test set...\n",
      "+-------------------------+---------------+----------------------+-------------+-----------------------+\n",
      "| Model                   |   Train Score |   Mean Squared Error |   R-squared |   Mean Absolute Error |\n",
      "+=========================+===============+======================+=============+=======================+\n",
      "| Decision Tree Regressor |      1        |          0.0012196   |    0.999614 |            0.00665079 |\n",
      "+-------------------------+---------------+----------------------+-------------+-----------------------+\n",
      "| Random Forest Regressor |      0.999977 |          0.000364194 |    0.999885 |            0.00508368 |\n",
      "+-------------------------+---------------+----------------------+-------------+-----------------------+\n"
     ]
    }
   ],
   "source": [
    "def get_metrics(model, X_test, y_test):\n",
    "    y_pred = model.predict(X_test)\n",
    "    mse = mean_squared_error(y_test, y_pred)\n",
    "    r2 = r2_score(y_test, y_pred)\n",
    "    mae = mean_absolute_error(y_test, y_pred)\n",
    "    train_score = model.score(X_train, y_train)\n",
    "    return [train_score, mse, r2, mae]\n",
    "\n",
    "results = []\n",
    "\n",
    "for name, model in regression_models:\n",
    "    print(f\"Evaluating {name} on the test set...\")\n",
    "    \n",
    "    model.fit(X_train, y_train)\n",
    "    \n",
    "    metrics = get_metrics(model, X_test, y_test)\n",
    "    \n",
    "    results.append([name] + metrics)\n",
    "\n",
    "headers = [\"Model\", \"Train Score\", \"Mean Squared Error\", \"R-squared\", \"Mean Absolute Error\"]\n",
    "\n",
    "print(tabulate(results, headers=headers, tablefmt=\"grid\"))"
   ]
  },
  {
   "cell_type": "markdown",
   "id": "94c5a597",
   "metadata": {},
   "source": [
    "As evidenced, optimal results are achieved by utilising random forest and decision tree methods in combination with a 70-30% data split. Therefore, we have decided to select them for further examination to ascertain if improvements can be made to achieve even more accurate predictions.\n",
    "### Best performance\n",
    "- Random forest\n",
    "- Decision tree\n",
    "- Splitting 70-30%"
   ]
  },
  {
   "cell_type": "markdown",
   "id": "8f133d28",
   "metadata": {},
   "source": [
    "### Note \n",
    "The algorithm we have obtained the best performances are decision tree and random forest and, although the Decision Tree Regressor shows a high R-squared score on the training set, the test set also demonstrates a reasonably high score, indicating some level of generalisation.\n",
    "On the other hand, the Random Forest Regressor performs slightly better on the test set with a lower training R-squared score, suggesting better generalisation compared to the Decision Tree Regressor.\n",
    "Therefore, we could attempt to perform hyperparameter tuning to enhance the efficacy of both models, especially the one generated from the random forest algorithm."
   ]
  },
  {
   "cell_type": "markdown",
   "id": "015423e5",
   "metadata": {},
   "source": [
    "### Hyperparameter Tuning"
   ]
  },
  {
   "cell_type": "code",
   "execution_count": null,
   "id": "b9ba26df",
   "metadata": {},
   "outputs": [
    {
     "name": "stdout",
     "output_type": "stream",
     "text": [
      "Fitting 5 folds for each of 162 candidates, totalling 810 fits\n"
     ]
    },
    {
     "name": "stderr",
     "output_type": "stream",
     "text": [
      "C:\\Users\\eduma\\anaconda3\\lib\\site-packages\\sklearn\\model_selection\\_validation.py:425: FitFailedWarning: \n",
      "270 fits failed out of a total of 810.\n",
      "The score on these train-test partitions for these parameters will be set to nan.\n",
      "If these failures are not expected, you can try to debug them by setting error_score='raise'.\n",
      "\n",
      "Below are more details about the failures:\n",
      "--------------------------------------------------------------------------------\n",
      "98 fits failed with the following error:\n",
      "Traceback (most recent call last):\n",
      "  File \"C:\\Users\\eduma\\anaconda3\\lib\\site-packages\\sklearn\\model_selection\\_validation.py\", line 729, in _fit_and_score\n",
      "    estimator.fit(X_train, y_train, **fit_params)\n",
      "  File \"C:\\Users\\eduma\\anaconda3\\lib\\site-packages\\sklearn\\base.py\", line 1145, in wrapper\n",
      "    estimator._validate_params()\n",
      "  File \"C:\\Users\\eduma\\anaconda3\\lib\\site-packages\\sklearn\\base.py\", line 638, in _validate_params\n",
      "    validate_parameter_constraints(\n",
      "  File \"C:\\Users\\eduma\\anaconda3\\lib\\site-packages\\sklearn\\utils\\_param_validation.py\", line 96, in validate_parameter_constraints\n",
      "    raise InvalidParameterError(\n",
      "sklearn.utils._param_validation.InvalidParameterError: The 'max_features' parameter of DecisionTreeRegressor must be an int in the range [1, inf), a float in the range (0.0, 1.0], a str among {'log2', 'sqrt'} or None. Got 'auto' instead.\n",
      "\n",
      "--------------------------------------------------------------------------------\n",
      "172 fits failed with the following error:\n",
      "Traceback (most recent call last):\n",
      "  File \"C:\\Users\\eduma\\anaconda3\\lib\\site-packages\\sklearn\\model_selection\\_validation.py\", line 729, in _fit_and_score\n",
      "    estimator.fit(X_train, y_train, **fit_params)\n",
      "  File \"C:\\Users\\eduma\\anaconda3\\lib\\site-packages\\sklearn\\base.py\", line 1145, in wrapper\n",
      "    estimator._validate_params()\n",
      "  File \"C:\\Users\\eduma\\anaconda3\\lib\\site-packages\\sklearn\\base.py\", line 638, in _validate_params\n",
      "    validate_parameter_constraints(\n",
      "  File \"C:\\Users\\eduma\\anaconda3\\lib\\site-packages\\sklearn\\utils\\_param_validation.py\", line 96, in validate_parameter_constraints\n",
      "    raise InvalidParameterError(\n",
      "sklearn.utils._param_validation.InvalidParameterError: The 'max_features' parameter of DecisionTreeRegressor must be an int in the range [1, inf), a float in the range (0.0, 1.0], a str among {'sqrt', 'log2'} or None. Got 'auto' instead.\n",
      "\n",
      "  warnings.warn(some_fits_failed_message, FitFailedWarning)\n",
      "C:\\Users\\eduma\\anaconda3\\lib\\site-packages\\sklearn\\model_selection\\_search.py:979: UserWarning: One or more of the test scores are non-finite: [        nan         nan         nan         nan         nan         nan\n",
      "         nan         nan         nan -0.17837169 -0.19759821 -0.18568021\n",
      " -0.34396907 -0.24180415 -0.31820778 -0.41406443 -0.30317965 -0.48010175\n",
      " -0.29813374 -0.1900349  -0.38959804 -0.29937481 -0.21526311 -0.22615435\n",
      " -0.19986581 -0.33205337 -0.4120058          nan         nan         nan\n",
      "         nan         nan         nan         nan         nan         nan\n",
      " -0.41280175 -0.28173839 -0.36013318 -0.2852412  -0.16735705 -0.31658706\n",
      " -0.35320509 -0.29395202 -0.33578177 -0.13482443 -0.40844016 -0.23995764\n",
      " -0.23195011 -0.30332799 -0.29461264 -0.27177011 -0.34399203 -0.3220521\n",
      "         nan         nan         nan         nan         nan         nan\n",
      "         nan         nan         nan -0.38776064 -0.37467174 -0.2074181\n",
      " -0.33988206 -0.23592138 -0.40152999 -0.26570497 -0.25676996 -0.17668322\n",
      " -0.30314259 -0.28985744 -0.28989884 -0.35693819 -0.25809502 -0.26630972\n",
      " -0.4854726  -0.33026396 -0.4470846          nan         nan         nan\n",
      "         nan         nan         nan         nan         nan         nan\n",
      " -0.19159725 -0.26637819 -0.21710426 -0.21010967 -0.2902065  -0.41879462\n",
      " -0.20022339 -0.36319488 -0.51054128 -0.20082972 -0.25435792 -0.31349589\n",
      " -0.15837025 -0.34997665 -0.21325256 -0.40592582 -0.39499603 -0.24860151\n",
      "         nan         nan         nan         nan         nan         nan\n",
      "         nan         nan         nan -0.25005182 -0.31720584 -0.20137188\n",
      " -0.34182496 -0.33776413 -0.2307402  -0.24900145 -0.28017508 -0.23473902\n",
      " -0.1904023  -0.22761839 -0.40065069 -0.15924697 -0.22124283 -0.38984286\n",
      " -0.34892633 -0.45307961 -0.35962657         nan         nan         nan\n",
      "         nan         nan         nan         nan         nan         nan\n",
      " -0.33463611 -0.24240339 -0.45484404 -0.19428105 -0.28290097 -0.47356416\n",
      " -0.22372945 -0.38471041 -0.39336699 -0.13799329 -0.21169816 -0.26378811\n",
      " -0.25135349 -0.21071243 -0.23450353 -0.38071399 -0.33821214 -0.44341975]\n",
      "  warnings.warn(\n"
     ]
    },
    {
     "name": "stdout",
     "output_type": "stream",
     "text": [
      "Best Decision Tree Parameters: {'max_depth': 10, 'max_features': 'log2', 'min_samples_leaf': 1, 'min_samples_split': 2}\n",
      "Best Decision Tree Score: -0.13482443014973985\n",
      "Fitting 5 folds for each of 486 candidates, totalling 2430 fits\n"
     ]
    }
   ],
   "source": [
    "# Decision Tree hyperparameter tuning\n",
    "dt_param_grid = {\n",
    "   'max_depth': [None, 10, 20, 30, 40, 50],\n",
    "   'min_samples_split': [2, 5, 10],\n",
    "   'min_samples_leaf': [1, 2, 4],\n",
    "   'max_features': ['auto', 'sqrt', 'log2']\n",
    "}\n",
    "\n",
    "dt_model = DecisionTreeRegressor()\n",
    "dt_grid_search = GridSearchCV(estimator=dt_model, param_grid=dt_param_grid, scoring='neg_mean_squared_error', cv=5, verbose=2, n_jobs=-1)\n",
    "dt_grid_search.fit(X_train, y_train)\n",
    "\n",
    "print(\"Best Decision Tree Parameters:\", dt_grid_search.best_params_)\n",
    "print(\"Best Decision Tree Score:\", dt_grid_search.best_score_)\n",
    "\n",
    "# Random Forest hyperparameter tuning\n",
    "rf_param_grid = {\n",
    "    'n_estimators': [100, 300, 500],\n",
    "    'max_depth': [None, 10, 20, 30, 40, 50],\n",
    "    'min_samples_split': [2, 5, 10],\n",
    "    'min_samples_leaf': [1, 2, 4],\n",
    "    'max_features': ['auto', 'sqrt', 'log2']\n",
    "}\n",
    "\n",
    "rf_model = RandomForestRegressor()\n",
    "rf_grid_search = GridSearchCV(estimator=rf_model, param_grid=rf_param_grid, scoring='neg_mean_squared_error', cv=5, verbose=2, n_jobs=-1)\n",
    "rf_grid_search.fit(X_train, y_train)\n",
    "\n",
    "print(\"Best Random Forest Parameters:\", rf_grid_search.best_params_)\n",
    "# print(\"Best Random Forest Score:\", rf_grid_search.best_score_)"
   ]
  },
  {
   "cell_type": "markdown",
   "id": "d0b89a15",
   "metadata": {},
   "source": [
    "### Note\n",
    "The negative mean squared error serves as a frequently used metric for optimizing grid search. The closer the score approximates 0 (or the more negative it is), the greater the model's performance. "
   ]
  },
  {
   "cell_type": "markdown",
   "id": "5f6f19ee",
   "metadata": {},
   "source": [
    "### Decision Tree hyperparameters tuned\n",
    "Best Parameters:\n",
    "\n",
    "max_depth: 10\n",
    "\n",
    "max_features: 'log2'\n",
    "\n",
    "min_samples_leaf: 1\n",
    "\n",
    "min_samples_split: 2\n",
    "\n",
    "Best Score: -498.92 (negative mean squared error)"
   ]
  },
  {
   "cell_type": "code",
   "execution_count": null,
   "id": "1253a2e1",
   "metadata": {},
   "outputs": [],
   "source": []
  },
  {
   "cell_type": "code",
   "execution_count": null,
   "id": "63eeb1cb",
   "metadata": {},
   "outputs": [],
   "source": []
  },
  {
   "cell_type": "code",
   "execution_count": null,
   "id": "d56fd3c9",
   "metadata": {},
   "outputs": [],
   "source": []
  },
  {
   "cell_type": "code",
   "execution_count": null,
   "id": "449f97d0",
   "metadata": {},
   "outputs": [],
   "source": []
  },
  {
   "cell_type": "code",
   "execution_count": null,
   "id": "af190b60",
   "metadata": {},
   "outputs": [],
   "source": []
  },
  {
   "cell_type": "code",
   "execution_count": null,
   "id": "e0525e0d",
   "metadata": {},
   "outputs": [],
   "source": []
  },
  {
   "cell_type": "code",
   "execution_count": null,
   "id": "8e2ea470",
   "metadata": {},
   "outputs": [],
   "source": []
  },
  {
   "cell_type": "code",
   "execution_count": null,
   "id": "c6a9ed95",
   "metadata": {},
   "outputs": [],
   "source": []
  }
 ],
 "metadata": {
  "kernelspec": {
   "display_name": "Python 3 (ipykernel)",
   "language": "python",
   "name": "python3"
  },
  "language_info": {
   "codemirror_mode": {
    "name": "ipython",
    "version": 3
   },
   "file_extension": ".py",
   "mimetype": "text/x-python",
   "name": "python",
   "nbconvert_exporter": "python",
   "pygments_lexer": "ipython3",
   "version": "3.9.7"
  }
 },
 "nbformat": 4,
 "nbformat_minor": 5
}
