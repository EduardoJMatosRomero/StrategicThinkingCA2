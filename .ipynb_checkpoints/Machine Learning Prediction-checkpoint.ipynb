{
 "cells": [
  {
   "cell_type": "code",
   "execution_count": 1,
   "id": "24c17d5f",
   "metadata": {},
   "outputs": [],
   "source": [
    "import pandas as pd\n",
    "from tabulate import tabulate\n",
    "from sklearn.ensemble import RandomForestRegressor\n",
    "from sklearn.metrics import mean_squared_error\n",
    "import numpy as np\n",
    "from sklearn.model_selection import train_test_split\n",
    "import datetime\n",
    "import calendar\n",
    "import matplotlib.pyplot as plt\n",
    "import seaborn as sns\n",
    "from sklearn.preprocessing import MinMaxScaler\n",
    "\n",
    "from sklearn.linear_model import LinearRegression, Ridge, Lasso\n",
    "from sklearn.model_selection import GridSearchCV\n",
    "from sklearn.linear_model import LinearRegression, Ridge, Lasso\n",
    "from sklearn.tree import DecisionTreeRegressor \n",
    "from sklearn.ensemble import RandomForestRegressor \n",
    "from sklearn.svm import SVR\n",
    "from sklearn.neighbors import KNeighborsRegressor \n",
    "from sklearn.model_selection import KFold\n",
    "from sklearn.model_selection import cross_val_score\n",
    "from sklearn.preprocessing import LabelEncoder\n",
    "from sklearn.metrics import mean_squared_error, r2_score, mean_absolute_error"
   ]
  },
  {
   "cell_type": "markdown",
   "id": "5b7b1bd6",
   "metadata": {},
   "source": [
    "# Index\n",
    "\n",
    "1. Data cleaning\n",
    "\n",
    "2. Data modelling\n",
    "\n",
    "> 2.1 Data pre-processing\n",
    "\n",
    "> 2.2 Data training\n",
    "\n",
    "> 2.3 Hyperparameter Tuning\n",
    "\n",
    "> 2.4 Random Forest prediction\n",
    "\n",
    "> 2.5 Final model"
   ]
  },
  {
   "cell_type": "code",
   "execution_count": 2,
   "id": "9eddcefa",
   "metadata": {},
   "outputs": [],
   "source": [
    "df = pd.read_csv('cleaned_data.csv')"
   ]
  },
  {
   "cell_type": "code",
   "execution_count": 3,
   "id": "dd75c124",
   "metadata": {},
   "outputs": [
    {
     "data": {
      "text/html": [
       "<div>\n",
       "<style scoped>\n",
       "    .dataframe tbody tr th:only-of-type {\n",
       "        vertical-align: middle;\n",
       "    }\n",
       "\n",
       "    .dataframe tbody tr th {\n",
       "        vertical-align: top;\n",
       "    }\n",
       "\n",
       "    .dataframe thead th {\n",
       "        text-align: right;\n",
       "    }\n",
       "</style>\n",
       "<table border=\"1\" class=\"dataframe\">\n",
       "  <thead>\n",
       "    <tr style=\"text-align: right;\">\n",
       "      <th></th>\n",
       "      <th>Airline</th>\n",
       "      <th>Source</th>\n",
       "      <th>Destination</th>\n",
       "      <th>Duration</th>\n",
       "      <th>Total stops</th>\n",
       "      <th>Price</th>\n",
       "      <th>Date</th>\n",
       "    </tr>\n",
       "  </thead>\n",
       "  <tbody>\n",
       "    <tr>\n",
       "      <th>count</th>\n",
       "      <td>2307</td>\n",
       "      <td>2307</td>\n",
       "      <td>2307</td>\n",
       "      <td>2307.000000</td>\n",
       "      <td>2307.000000</td>\n",
       "      <td>2307.00000</td>\n",
       "      <td>2307</td>\n",
       "    </tr>\n",
       "    <tr>\n",
       "      <th>unique</th>\n",
       "      <td>75</td>\n",
       "      <td>4</td>\n",
       "      <td>4</td>\n",
       "      <td>NaN</td>\n",
       "      <td>NaN</td>\n",
       "      <td>NaN</td>\n",
       "      <td>24</td>\n",
       "    </tr>\n",
       "    <tr>\n",
       "      <th>top</th>\n",
       "      <td>Iberia</td>\n",
       "      <td>DUB</td>\n",
       "      <td>DUB</td>\n",
       "      <td>NaN</td>\n",
       "      <td>NaN</td>\n",
       "      <td>NaN</td>\n",
       "      <td>2023-12-23</td>\n",
       "    </tr>\n",
       "    <tr>\n",
       "      <th>freq</th>\n",
       "      <td>418</td>\n",
       "      <td>1162</td>\n",
       "      <td>1145</td>\n",
       "      <td>NaN</td>\n",
       "      <td>NaN</td>\n",
       "      <td>NaN</td>\n",
       "      <td>109</td>\n",
       "    </tr>\n",
       "    <tr>\n",
       "      <th>mean</th>\n",
       "      <td>NaN</td>\n",
       "      <td>NaN</td>\n",
       "      <td>NaN</td>\n",
       "      <td>462.697443</td>\n",
       "      <td>0.926745</td>\n",
       "      <td>247.95622</td>\n",
       "      <td>NaN</td>\n",
       "    </tr>\n",
       "    <tr>\n",
       "      <th>std</th>\n",
       "      <td>NaN</td>\n",
       "      <td>NaN</td>\n",
       "      <td>NaN</td>\n",
       "      <td>273.720522</td>\n",
       "      <td>0.640028</td>\n",
       "      <td>153.71810</td>\n",
       "      <td>NaN</td>\n",
       "    </tr>\n",
       "    <tr>\n",
       "      <th>min</th>\n",
       "      <td>NaN</td>\n",
       "      <td>NaN</td>\n",
       "      <td>NaN</td>\n",
       "      <td>150.000000</td>\n",
       "      <td>0.000000</td>\n",
       "      <td>27.00000</td>\n",
       "      <td>NaN</td>\n",
       "    </tr>\n",
       "    <tr>\n",
       "      <th>25%</th>\n",
       "      <td>NaN</td>\n",
       "      <td>NaN</td>\n",
       "      <td>NaN</td>\n",
       "      <td>300.000000</td>\n",
       "      <td>1.000000</td>\n",
       "      <td>137.00000</td>\n",
       "      <td>NaN</td>\n",
       "    </tr>\n",
       "    <tr>\n",
       "      <th>50%</th>\n",
       "      <td>NaN</td>\n",
       "      <td>NaN</td>\n",
       "      <td>NaN</td>\n",
       "      <td>420.000000</td>\n",
       "      <td>1.000000</td>\n",
       "      <td>210.00000</td>\n",
       "      <td>NaN</td>\n",
       "    </tr>\n",
       "    <tr>\n",
       "      <th>75%</th>\n",
       "      <td>NaN</td>\n",
       "      <td>NaN</td>\n",
       "      <td>NaN</td>\n",
       "      <td>580.000000</td>\n",
       "      <td>1.000000</td>\n",
       "      <td>325.00000</td>\n",
       "      <td>NaN</td>\n",
       "    </tr>\n",
       "    <tr>\n",
       "      <th>max</th>\n",
       "      <td>NaN</td>\n",
       "      <td>NaN</td>\n",
       "      <td>NaN</td>\n",
       "      <td>2810.000000</td>\n",
       "      <td>3.000000</td>\n",
       "      <td>1044.00000</td>\n",
       "      <td>NaN</td>\n",
       "    </tr>\n",
       "  </tbody>\n",
       "</table>\n",
       "</div>"
      ],
      "text/plain": [
       "       Airline Source Destination     Duration  Total stops       Price  \\\n",
       "count     2307   2307        2307  2307.000000  2307.000000  2307.00000   \n",
       "unique      75      4           4          NaN          NaN         NaN   \n",
       "top     Iberia    DUB         DUB          NaN          NaN         NaN   \n",
       "freq       418   1162        1145          NaN          NaN         NaN   \n",
       "mean       NaN    NaN         NaN   462.697443     0.926745   247.95622   \n",
       "std        NaN    NaN         NaN   273.720522     0.640028   153.71810   \n",
       "min        NaN    NaN         NaN   150.000000     0.000000    27.00000   \n",
       "25%        NaN    NaN         NaN   300.000000     1.000000   137.00000   \n",
       "50%        NaN    NaN         NaN   420.000000     1.000000   210.00000   \n",
       "75%        NaN    NaN         NaN   580.000000     1.000000   325.00000   \n",
       "max        NaN    NaN         NaN  2810.000000     3.000000  1044.00000   \n",
       "\n",
       "              Date  \n",
       "count         2307  \n",
       "unique          24  \n",
       "top     2023-12-23  \n",
       "freq           109  \n",
       "mean           NaN  \n",
       "std            NaN  \n",
       "min            NaN  \n",
       "25%            NaN  \n",
       "50%            NaN  \n",
       "75%            NaN  \n",
       "max            NaN  "
      ]
     },
     "execution_count": 3,
     "metadata": {},
     "output_type": "execute_result"
    }
   ],
   "source": [
    "df.describe(include='all')"
   ]
  },
  {
   "cell_type": "code",
   "execution_count": 4,
   "id": "044d9bd6",
   "metadata": {},
   "outputs": [
    {
     "data": {
      "text/plain": [
       "Airline        0\n",
       "Source         0\n",
       "Destination    0\n",
       "Duration       0\n",
       "Total stops    0\n",
       "Price          0\n",
       "Date           0\n",
       "dtype: int64"
      ]
     },
     "execution_count": 4,
     "metadata": {},
     "output_type": "execute_result"
    }
   ],
   "source": [
    "df.isnull().sum()"
   ]
  },
  {
   "cell_type": "code",
   "execution_count": 5,
   "id": "79f09213",
   "metadata": {},
   "outputs": [
    {
     "name": "stdout",
     "output_type": "stream",
     "text": [
      "<class 'pandas.core.frame.DataFrame'>\n",
      "RangeIndex: 2307 entries, 0 to 2306\n",
      "Data columns (total 7 columns):\n",
      " #   Column       Non-Null Count  Dtype \n",
      "---  ------       --------------  ----- \n",
      " 0   Airline      2307 non-null   object\n",
      " 1   Source       2307 non-null   object\n",
      " 2   Destination  2307 non-null   object\n",
      " 3   Duration     2307 non-null   int64 \n",
      " 4   Total stops  2307 non-null   int64 \n",
      " 5   Price        2307 non-null   int64 \n",
      " 6   Date         2307 non-null   object\n",
      "dtypes: int64(3), object(4)\n",
      "memory usage: 126.3+ KB\n"
     ]
    }
   ],
   "source": [
    "df.info()"
   ]
  },
  {
   "cell_type": "markdown",
   "id": "20fe0f11",
   "metadata": {},
   "source": [
    "## 1. Data cleaning"
   ]
  },
  {
   "cell_type": "markdown",
   "id": "85436d5d",
   "metadata": {},
   "source": [
    "'price' column conversion from Indian Rupees to €"
   ]
  },
  {
   "cell_type": "code",
   "execution_count": 6,
   "id": "a1e1def3",
   "metadata": {},
   "outputs": [],
   "source": [
    "exchange_rate = 0.011\n",
    "# Create a new column for converted prices in Euro\n",
    "df['price_euro'] = df['Price'] * exchange_rate"
   ]
  },
  {
   "cell_type": "code",
   "execution_count": 7,
   "id": "4e553afa",
   "metadata": {},
   "outputs": [],
   "source": [
    "df[\"Airline\"] = df[\"Airline\"].astype(\"category\")\n",
    "df[\"Source\"] = df[\"Source\"].astype(\"category\")\n",
    "df[\"Destination\"] = df[\"Destination\"].astype(\"category\")\n",
    "df[\"Date\"] = df[\"Date\"].astype(\"category\")\n",
    "\n",
    "lab_enc = LabelEncoder()\n",
    "\n",
    "df[\"Airline\"] = lab_enc.fit_transform(df[\"Airline\"])\n",
    "df[\"Source\"] = lab_enc.fit_transform(df[\"Source\"])\n",
    "df[\"Destination\"] = lab_enc.fit_transform(df[\"Destination\"])\n",
    "df[\"Date\"] = lab_enc.fit_transform(df[\"Date\"])"
   ]
  },
  {
   "cell_type": "markdown",
   "id": "38f44181",
   "metadata": {},
   "source": [
    "## 2. Modeling testing"
   ]
  },
  {
   "cell_type": "code",
   "execution_count": 8,
   "id": "80e90fa6",
   "metadata": {},
   "outputs": [],
   "source": [
    "X = df.drop([\"price_euro\"], axis=1)\n",
    "y = df[\"price_euro\"]"
   ]
  },
  {
   "cell_type": "code",
   "execution_count": 9,
   "id": "3592523e",
   "metadata": {},
   "outputs": [
    {
     "name": "stdout",
     "output_type": "stream",
     "text": [
      "<class 'pandas.core.frame.DataFrame'>\n",
      "RangeIndex: 2307 entries, 0 to 2306\n",
      "Data columns (total 7 columns):\n",
      " #   Column       Non-Null Count  Dtype\n",
      "---  ------       --------------  -----\n",
      " 0   Airline      2307 non-null   int32\n",
      " 1   Source       2307 non-null   int32\n",
      " 2   Destination  2307 non-null   int32\n",
      " 3   Duration     2307 non-null   int64\n",
      " 4   Total stops  2307 non-null   int64\n",
      " 5   Price        2307 non-null   int64\n",
      " 6   Date         2307 non-null   int32\n",
      "dtypes: int32(4), int64(3)\n",
      "memory usage: 90.2 KB\n"
     ]
    }
   ],
   "source": [
    "X.info()"
   ]
  },
  {
   "cell_type": "markdown",
   "id": "f052f97a",
   "metadata": {},
   "source": [
    "### 2.1 Data pre-processing"
   ]
  },
  {
   "cell_type": "code",
   "execution_count": 10,
   "id": "94a856cd",
   "metadata": {},
   "outputs": [],
   "source": [
    "min_max_scl = MinMaxScaler()\n",
    "X_scl = min_max_scl.fit_transform(X)\n",
    "X_scl = pd.DataFrame(X_scl, columns = df.columns[0:7])"
   ]
  },
  {
   "cell_type": "code",
   "execution_count": 11,
   "id": "df902dd9",
   "metadata": {},
   "outputs": [
    {
     "data": {
      "text/html": [
       "<div>\n",
       "<style scoped>\n",
       "    .dataframe tbody tr th:only-of-type {\n",
       "        vertical-align: middle;\n",
       "    }\n",
       "\n",
       "    .dataframe tbody tr th {\n",
       "        vertical-align: top;\n",
       "    }\n",
       "\n",
       "    .dataframe thead th {\n",
       "        text-align: right;\n",
       "    }\n",
       "</style>\n",
       "<table border=\"1\" class=\"dataframe\">\n",
       "  <thead>\n",
       "    <tr style=\"text-align: right;\">\n",
       "      <th></th>\n",
       "      <th>Airline</th>\n",
       "      <th>Source</th>\n",
       "      <th>Destination</th>\n",
       "      <th>Duration</th>\n",
       "      <th>Total stops</th>\n",
       "      <th>Price</th>\n",
       "      <th>Date</th>\n",
       "      <th>price_euro</th>\n",
       "    </tr>\n",
       "  </thead>\n",
       "  <tbody>\n",
       "    <tr>\n",
       "      <th>0</th>\n",
       "      <td>0.445946</td>\n",
       "      <td>0.0</td>\n",
       "      <td>0.333333</td>\n",
       "      <td>0.056391</td>\n",
       "      <td>0.333333</td>\n",
       "      <td>0.445428</td>\n",
       "      <td>0.521739</td>\n",
       "      <td>5.280</td>\n",
       "    </tr>\n",
       "    <tr>\n",
       "      <th>1</th>\n",
       "      <td>0.013514</td>\n",
       "      <td>0.0</td>\n",
       "      <td>0.333333</td>\n",
       "      <td>0.635338</td>\n",
       "      <td>0.666667</td>\n",
       "      <td>0.251721</td>\n",
       "      <td>0.521739</td>\n",
       "      <td>3.113</td>\n",
       "    </tr>\n",
       "    <tr>\n",
       "      <th>2</th>\n",
       "      <td>0.351351</td>\n",
       "      <td>0.0</td>\n",
       "      <td>0.333333</td>\n",
       "      <td>0.056391</td>\n",
       "      <td>0.333333</td>\n",
       "      <td>0.509341</td>\n",
       "      <td>0.521739</td>\n",
       "      <td>5.995</td>\n",
       "    </tr>\n",
       "    <tr>\n",
       "      <th>3</th>\n",
       "      <td>0.837838</td>\n",
       "      <td>0.0</td>\n",
       "      <td>0.333333</td>\n",
       "      <td>0.107143</td>\n",
       "      <td>0.333333</td>\n",
       "      <td>0.423795</td>\n",
       "      <td>0.521739</td>\n",
       "      <td>5.038</td>\n",
       "    </tr>\n",
       "    <tr>\n",
       "      <th>4</th>\n",
       "      <td>0.135135</td>\n",
       "      <td>0.0</td>\n",
       "      <td>0.333333</td>\n",
       "      <td>0.071429</td>\n",
       "      <td>0.333333</td>\n",
       "      <td>0.431662</td>\n",
       "      <td>0.521739</td>\n",
       "      <td>5.126</td>\n",
       "    </tr>\n",
       "    <tr>\n",
       "      <th>...</th>\n",
       "      <td>...</td>\n",
       "      <td>...</td>\n",
       "      <td>...</td>\n",
       "      <td>...</td>\n",
       "      <td>...</td>\n",
       "      <td>...</td>\n",
       "      <td>...</td>\n",
       "      <td>...</td>\n",
       "    </tr>\n",
       "    <tr>\n",
       "      <th>2302</th>\n",
       "      <td>0.189189</td>\n",
       "      <td>1.0</td>\n",
       "      <td>0.000000</td>\n",
       "      <td>0.195489</td>\n",
       "      <td>0.333333</td>\n",
       "      <td>0.073746</td>\n",
       "      <td>0.478261</td>\n",
       "      <td>1.122</td>\n",
       "    </tr>\n",
       "    <tr>\n",
       "      <th>2303</th>\n",
       "      <td>0.459459</td>\n",
       "      <td>1.0</td>\n",
       "      <td>0.000000</td>\n",
       "      <td>0.129699</td>\n",
       "      <td>0.333333</td>\n",
       "      <td>0.122911</td>\n",
       "      <td>0.478261</td>\n",
       "      <td>1.672</td>\n",
       "    </tr>\n",
       "    <tr>\n",
       "      <th>2304</th>\n",
       "      <td>0.581081</td>\n",
       "      <td>1.0</td>\n",
       "      <td>0.000000</td>\n",
       "      <td>0.129699</td>\n",
       "      <td>0.333333</td>\n",
       "      <td>0.127827</td>\n",
       "      <td>0.478261</td>\n",
       "      <td>1.727</td>\n",
       "    </tr>\n",
       "    <tr>\n",
       "      <th>2305</th>\n",
       "      <td>0.837838</td>\n",
       "      <td>1.0</td>\n",
       "      <td>0.000000</td>\n",
       "      <td>0.129699</td>\n",
       "      <td>0.333333</td>\n",
       "      <td>0.171091</td>\n",
       "      <td>0.478261</td>\n",
       "      <td>2.211</td>\n",
       "    </tr>\n",
       "    <tr>\n",
       "      <th>2306</th>\n",
       "      <td>0.459459</td>\n",
       "      <td>1.0</td>\n",
       "      <td>0.000000</td>\n",
       "      <td>0.199248</td>\n",
       "      <td>0.333333</td>\n",
       "      <td>0.115044</td>\n",
       "      <td>0.478261</td>\n",
       "      <td>1.584</td>\n",
       "    </tr>\n",
       "  </tbody>\n",
       "</table>\n",
       "<p>2307 rows × 8 columns</p>\n",
       "</div>"
      ],
      "text/plain": [
       "       Airline  Source  Destination  Duration  Total stops     Price  \\\n",
       "0     0.445946     0.0     0.333333  0.056391     0.333333  0.445428   \n",
       "1     0.013514     0.0     0.333333  0.635338     0.666667  0.251721   \n",
       "2     0.351351     0.0     0.333333  0.056391     0.333333  0.509341   \n",
       "3     0.837838     0.0     0.333333  0.107143     0.333333  0.423795   \n",
       "4     0.135135     0.0     0.333333  0.071429     0.333333  0.431662   \n",
       "...        ...     ...          ...       ...          ...       ...   \n",
       "2302  0.189189     1.0     0.000000  0.195489     0.333333  0.073746   \n",
       "2303  0.459459     1.0     0.000000  0.129699     0.333333  0.122911   \n",
       "2304  0.581081     1.0     0.000000  0.129699     0.333333  0.127827   \n",
       "2305  0.837838     1.0     0.000000  0.129699     0.333333  0.171091   \n",
       "2306  0.459459     1.0     0.000000  0.199248     0.333333  0.115044   \n",
       "\n",
       "          Date  price_euro  \n",
       "0     0.521739       5.280  \n",
       "1     0.521739       3.113  \n",
       "2     0.521739       5.995  \n",
       "3     0.521739       5.038  \n",
       "4     0.521739       5.126  \n",
       "...        ...         ...  \n",
       "2302  0.478261       1.122  \n",
       "2303  0.478261       1.672  \n",
       "2304  0.478261       1.727  \n",
       "2305  0.478261       2.211  \n",
       "2306  0.478261       1.584  \n",
       "\n",
       "[2307 rows x 8 columns]"
      ]
     },
     "execution_count": 11,
     "metadata": {},
     "output_type": "execute_result"
    }
   ],
   "source": [
    "df = pd.concat([X_scl.reset_index(drop=True), y.reset_index(drop=True)], axis=1)\n",
    "df"
   ]
  },
  {
   "cell_type": "markdown",
   "id": "b28b3022",
   "metadata": {},
   "source": [
    "### 2.2 Data modelling"
   ]
  },
  {
   "cell_type": "markdown",
   "id": "3fb8a5e4",
   "metadata": {},
   "source": [
    "- Training splits 80-20%"
   ]
  },
  {
   "cell_type": "code",
   "execution_count": 12,
   "id": "2029f7c6",
   "metadata": {},
   "outputs": [
    {
     "data": {
      "text/plain": [
       "((2307, 7), (2307,), (1845, 7), (462, 7), (1845,), (462,))"
      ]
     },
     "execution_count": 12,
     "metadata": {},
     "output_type": "execute_result"
    }
   ],
   "source": [
    "X_train, X_test, y_train, y_test = train_test_split(X_scl, y, test_size=0.2)\n",
    "X.shape, y.shape, X_train.shape, X_test.shape, y_train.shape, y_test.shape"
   ]
  },
  {
   "cell_type": "code",
   "execution_count": 13,
   "id": "ddc7873c",
   "metadata": {},
   "outputs": [
    {
     "name": "stdout",
     "output_type": "stream",
     "text": [
      "Linear Regression: 0.000000 (0.000000)\n",
      "Ridge Regression: 0.002256 (0.000233)\n",
      "Lasso Regression: 2.857997 (0.200069)\n",
      "Decision Tree Regressor: 0.001346 (0.001349)\n",
      "Random Forest Regressor: 0.000341 (0.000462)\n",
      "Support Vector Regressor: 0.027487 (0.011548)\n",
      "K-Nearest Neighbours Regressor: 0.227604 (0.033441)\n",
      "+--------------------------------+-----------------------------+----------------------------+\n",
      "| Model                          |   Mean Squared Error (mean) |   Mean Squared Error (std) |\n",
      "+================================+=============================+============================+\n",
      "| Linear Regression              |                 2.91837e-29 |                8.17366e-29 |\n",
      "+--------------------------------+-----------------------------+----------------------------+\n",
      "| Ridge Regression               |                 0.00225568  |                0.00023264  |\n",
      "+--------------------------------+-----------------------------+----------------------------+\n",
      "| Lasso Regression               |                 2.858       |                0.200069    |\n",
      "+--------------------------------+-----------------------------+----------------------------+\n",
      "| Decision Tree Regressor        |                 0.0013462   |                0.00134941  |\n",
      "+--------------------------------+-----------------------------+----------------------------+\n",
      "| Random Forest Regressor        |                 0.000340559 |                0.000462096 |\n",
      "+--------------------------------+-----------------------------+----------------------------+\n",
      "| Support Vector Regressor       |                 0.0274874   |                0.0115482   |\n",
      "+--------------------------------+-----------------------------+----------------------------+\n",
      "| K-Nearest Neighbours Regressor |                 0.227604    |                0.0334407   |\n",
      "+--------------------------------+-----------------------------+----------------------------+\n"
     ]
    }
   ],
   "source": [
    "regression_models = [\n",
    "    ('Linear Regression', LinearRegression()),\n",
    "    ('Ridge Regression', Ridge()),\n",
    "    ('Lasso Regression', Lasso()),\n",
    "    ('Decision Tree Regressor', DecisionTreeRegressor()),\n",
    "    ('Random Forest Regressor', RandomForestRegressor(n_estimators=500, max_depth=10)),\n",
    "    ('Support Vector Regressor', SVR()),\n",
    "    ('K-Nearest Neighbours Regressor', KNeighborsRegressor())]\n",
    "\n",
    "results = []\n",
    "names = []\n",
    "\n",
    "for name, model in regression_models:\n",
    "    kfold = KFold(n_splits=10, random_state=1, shuffle=True)\n",
    "    cv_results = cross_val_score(model, X_train, y_train, cv=kfold, scoring='neg_mean_squared_error')\n",
    "    results.append([-cv_results.mean(), cv_results.std()])\n",
    "    names.append(name)\n",
    "    print('%s: %f (%f)' % (name, -cv_results.mean(), cv_results.std()))\n",
    "\n",
    "headers = [\"Model\", \"Mean Squared Error (mean)\", \"Mean Squared Error (std)\"]\n",
    "\n",
    "print(tabulate(zip(names, *zip(*results)), headers=headers, tablefmt=\"grid\"))"
   ]
  },
  {
   "cell_type": "code",
   "execution_count": 14,
   "id": "e16269d8",
   "metadata": {},
   "outputs": [
    {
     "name": "stdout",
     "output_type": "stream",
     "text": [
      "Evaluating Linear Regression on the test set...\n",
      "Evaluating Ridge Regression on the test set...\n",
      "Evaluating Lasso Regression on the test set...\n",
      "Evaluating Decision Tree Regressor on the test set...\n",
      "Evaluating Random Forest Regressor on the test set...\n",
      "Evaluating Support Vector Regressor on the test set...\n",
      "Evaluating K-Nearest Neighbours Regressor on the test set...\n",
      "+--------------------------------+---------------+----------------------+-------------+-----------------------+\n",
      "| Model                          |   Train Score |   Mean Squared Error |   R-squared |   Mean Absolute Error |\n",
      "+================================+===============+======================+=============+=======================+\n",
      "| Linear Regression              |      1        |          1.12628e-30 |  1          |           8.37113e-16 |\n",
      "+--------------------------------+---------------+----------------------+-------------+-----------------------+\n",
      "| Ridge Regression               |      0.999363 |          0.00197568  |  0.999308   |           0.0347935   |\n",
      "+--------------------------------+---------------+----------------------+-------------+-----------------------+\n",
      "| Lasso Regression               |      0        |          2.86167     | -0.00177417 |           1.29838     |\n",
      "+--------------------------------+---------------+----------------------+-------------+-----------------------+\n",
      "| Decision Tree Regressor        |      1        |          0.000143524 |  0.99995    |           0.00328571  |\n",
      "+--------------------------------+---------------+----------------------+-------------+-----------------------+\n",
      "| Random Forest Regressor        |      0.999979 |          0.000258576 |  0.999909   |           0.00370537  |\n",
      "+--------------------------------+---------------+----------------------+-------------+-----------------------+\n",
      "| Support Vector Regressor       |      0.993952 |          0.0213972   |  0.99251    |           0.0793902   |\n",
      "+--------------------------------+---------------+----------------------+-------------+-----------------------+\n",
      "| K-Nearest Neighbours Regressor |      0.955349 |          0.258193    |  0.909615   |           0.349338    |\n",
      "+--------------------------------+---------------+----------------------+-------------+-----------------------+\n"
     ]
    }
   ],
   "source": [
    "def get_metrics(model, X_test, y_test):\n",
    "    y_pred = model.predict(X_test)\n",
    "    mse = mean_squared_error(y_test, y_pred)\n",
    "    r2 = r2_score(y_test, y_pred)\n",
    "    mae = mean_absolute_error(y_test, y_pred)\n",
    "    train_score = model.score(X_train, y_train)\n",
    "    return [train_score, mse, r2, mae]\n",
    "\n",
    "results = []\n",
    "\n",
    "\n",
    "for name, model in regression_models:\n",
    "    print(f\"Evaluating {name} on the test set...\")\n",
    "   \n",
    "    model.fit(X_train, y_train)\n",
    "    \n",
    "    metrics = get_metrics(model, X_test, y_test)\n",
    "    \n",
    "    results.append([name] + metrics)\n",
    "\n",
    "headers = [\"Model\", \"Train Score\", \"Mean Squared Error\", \"R-squared\", \"Mean Absolute Error\"]\n",
    "\n",
    "print(tabulate(results, headers=headers, tablefmt=\"grid\"))"
   ]
  },
  {
   "cell_type": "markdown",
   "id": "76a7c327",
   "metadata": {},
   "source": [
    "### Note\n",
    "Splitting the dataset 80% training and 20% we already can see the algorithms with a better predicction performance are Decision Tree and Random Forest, so that it is been decided to carry on with the analysis just using this algorithms."
   ]
  },
  {
   "cell_type": "markdown",
   "id": "a480a73a",
   "metadata": {},
   "source": [
    "- Training splits 90-10%"
   ]
  },
  {
   "cell_type": "code",
   "execution_count": 15,
   "id": "740c9700",
   "metadata": {},
   "outputs": [
    {
     "data": {
      "text/plain": [
       "((2307, 7), (2307,), (2076, 7), (231, 7), (2076,), (231,))"
      ]
     },
     "execution_count": 15,
     "metadata": {},
     "output_type": "execute_result"
    }
   ],
   "source": [
    "X_train, X_test, y_train, y_test = train_test_split(X_scl, y, test_size=0.1)\n",
    "X.shape, y.shape, X_train.shape, X_test.shape, y_train.shape, y_test.shape"
   ]
  },
  {
   "cell_type": "code",
   "execution_count": 16,
   "id": "b539adad",
   "metadata": {},
   "outputs": [
    {
     "name": "stdout",
     "output_type": "stream",
     "text": [
      "Decision Tree Regressor: 0.000925 (0.001870)\n",
      "Random Forest Regressor: 0.000272 (0.000277)\n",
      "+-------------------------+-----------------------------+----------------------------+\n",
      "| Model                   |   Mean Squared Error (mean) |   Mean Squared Error (std) |\n",
      "+=========================+=============================+============================+\n",
      "| Decision Tree Regressor |                 0.000924706 |                0.00186976  |\n",
      "+-------------------------+-----------------------------+----------------------------+\n",
      "| Random Forest Regressor |                 0.000271994 |                0.000276705 |\n",
      "+-------------------------+-----------------------------+----------------------------+\n"
     ]
    }
   ],
   "source": [
    "regression_models = [\n",
    "    ('Decision Tree Regressor', DecisionTreeRegressor()),\n",
    "    ('Random Forest Regressor', RandomForestRegressor(n_estimators=500, max_depth=10)),\n",
    "]\n",
    "\n",
    "results = []\n",
    "names = []\n",
    "\n",
    "for name, model in regression_models:\n",
    "    kfold = KFold(n_splits=10, random_state=1, shuffle=True)\n",
    "    cv_results = cross_val_score(model, X_train, y_train, cv=kfold, scoring='neg_mean_squared_error')\n",
    "    results.append([-cv_results.mean(), cv_results.std()])\n",
    "    names.append(name)\n",
    "    print('%s: %f (%f)' % (name, -cv_results.mean(), cv_results.std()))\n",
    "\n",
    "headers = [\"Model\", \"Mean Squared Error (mean)\", \"Mean Squared Error (std)\"]\n",
    "\n",
    "print(tabulate(zip(names, *zip(*results)), headers=headers, tablefmt=\"grid\"))"
   ]
  },
  {
   "cell_type": "code",
   "execution_count": 17,
   "id": "96334f2c",
   "metadata": {},
   "outputs": [
    {
     "name": "stdout",
     "output_type": "stream",
     "text": [
      "Evaluating Decision Tree Regressor on the test set...\n",
      "Evaluating Random Forest Regressor on the test set...\n",
      "+-------------------------+---------------+----------------------+-------------+-----------------------+\n",
      "| Model                   |   Train Score |   Mean Squared Error |   R-squared |   Mean Absolute Error |\n",
      "+=========================+===============+======================+=============+=======================+\n",
      "| Decision Tree Regressor |      1        |          9.16667e-05 |    0.999961 |            0.00233333 |\n",
      "+-------------------------+---------------+----------------------+-------------+-----------------------+\n",
      "| Random Forest Regressor |      0.999989 |          3.51575e-05 |    0.999985 |            0.00188994 |\n",
      "+-------------------------+---------------+----------------------+-------------+-----------------------+\n"
     ]
    }
   ],
   "source": [
    "def get_metrics(model, X_test, y_test):\n",
    "    y_pred = model.predict(X_test)\n",
    "    mse = mean_squared_error(y_test, y_pred)\n",
    "    r2 = r2_score(y_test, y_pred)\n",
    "    mae = mean_absolute_error(y_test, y_pred)\n",
    "    train_score = model.score(X_train, y_train)\n",
    "    return [train_score, mse, r2, mae]\n",
    "\n",
    "results = []\n",
    "\n",
    "for name, model in regression_models:\n",
    "    print(f\"Evaluating {name} on the test set...\")\n",
    "    \n",
    "    model.fit(X_train, y_train)\n",
    "    \n",
    "    metrics = get_metrics(model, X_test, y_test)\n",
    "    \n",
    "    results.append([name] + metrics)\n",
    "\n",
    "headers = [\"Model\", \"Train Score\", \"Mean Squared Error\", \"R-squared\", \"Mean Absolute Error\"]\n",
    "\n",
    "print(tabulate(results, headers=headers, tablefmt=\"grid\"))"
   ]
  },
  {
   "cell_type": "markdown",
   "id": "0b782b7c",
   "metadata": {},
   "source": [
    "- Training splits 70-30%"
   ]
  },
  {
   "cell_type": "code",
   "execution_count": 18,
   "id": "4d3c3bfb",
   "metadata": {},
   "outputs": [
    {
     "data": {
      "text/plain": [
       "((2307, 7), (2307,), (1614, 7), (693, 7), (1614,), (693,))"
      ]
     },
     "execution_count": 18,
     "metadata": {},
     "output_type": "execute_result"
    }
   ],
   "source": [
    "X_train, X_test, y_train, y_test = train_test_split(X_scl, y, test_size=0.3)\n",
    "X.shape, y.shape, X_train.shape, X_test.shape, y_train.shape, y_test.shape"
   ]
  },
  {
   "cell_type": "code",
   "execution_count": 19,
   "id": "c3cd87fb",
   "metadata": {},
   "outputs": [
    {
     "name": "stdout",
     "output_type": "stream",
     "text": [
      "Decision Tree Regressor: 0.000699 (0.000795)\n",
      "Random Forest Regressor: 0.000577 (0.000820)\n",
      "+-------------------------+-----------------------------+----------------------------+\n",
      "| Model                   |   Mean Squared Error (mean) |   Mean Squared Error (std) |\n",
      "+=========================+=============================+============================+\n",
      "| Decision Tree Regressor |                 0.000699358 |                0.000794514 |\n",
      "+-------------------------+-----------------------------+----------------------------+\n",
      "| Random Forest Regressor |                 0.000576899 |                0.000820136 |\n",
      "+-------------------------+-----------------------------+----------------------------+\n"
     ]
    }
   ],
   "source": [
    "regression_models = [\n",
    "    ('Decision Tree Regressor', DecisionTreeRegressor()),\n",
    "    ('Random Forest Regressor', RandomForestRegressor(n_estimators=500, max_depth=10)),\n",
    "]\n",
    "\n",
    "results = []\n",
    "names = []\n",
    "\n",
    "for name, model in regression_models:\n",
    "    kfold = KFold(n_splits=10, random_state=1, shuffle=True)\n",
    "    cv_results = cross_val_score(model, X_train, y_train, cv=kfold, scoring='neg_mean_squared_error')\n",
    "    results.append([-cv_results.mean(), cv_results.std()])\n",
    "    names.append(name)\n",
    "    print('%s: %f (%f)' % (name, -cv_results.mean(), cv_results.std()))\n",
    "\n",
    "headers = [\"Model\", \"Mean Squared Error (mean)\", \"Mean Squared Error (std)\"]\n",
    "\n",
    "print(tabulate(zip(names, *zip(*results)), headers=headers, tablefmt=\"grid\"))"
   ]
  },
  {
   "cell_type": "code",
   "execution_count": 20,
   "id": "394b6f3e",
   "metadata": {},
   "outputs": [
    {
     "name": "stdout",
     "output_type": "stream",
     "text": [
      "Evaluating Decision Tree Regressor on the test set...\n",
      "Evaluating Random Forest Regressor on the test set...\n",
      "+-------------------------+---------------+----------------------+-------------+-----------------------+\n",
      "| Model                   |   Train Score |   Mean Squared Error |   R-squared |   Mean Absolute Error |\n",
      "+=========================+===============+======================+=============+=======================+\n",
      "| Decision Tree Regressor |      1        |           0.00137814 |    0.999561 |            0.00709524 |\n",
      "+-------------------------+---------------+----------------------+-------------+-----------------------+\n",
      "| Random Forest Regressor |      0.999988 |           0.00133213 |    0.999576 |            0.0063442  |\n",
      "+-------------------------+---------------+----------------------+-------------+-----------------------+\n"
     ]
    }
   ],
   "source": [
    "def get_metrics(model, X_test, y_test):\n",
    "    y_pred = model.predict(X_test)\n",
    "    mse = mean_squared_error(y_test, y_pred)\n",
    "    r2 = r2_score(y_test, y_pred)\n",
    "    mae = mean_absolute_error(y_test, y_pred)\n",
    "    train_score = model.score(X_train, y_train)\n",
    "    return [train_score, mse, r2, mae]\n",
    "\n",
    "results = []\n",
    "\n",
    "for name, model in regression_models:\n",
    "    print(f\"Evaluating {name} on the test set...\")\n",
    "    \n",
    "    model.fit(X_train, y_train)\n",
    "    \n",
    "    metrics = get_metrics(model, X_test, y_test)\n",
    "    \n",
    "    results.append([name] + metrics)\n",
    "\n",
    "headers = [\"Model\", \"Train Score\", \"Mean Squared Error\", \"R-squared\", \"Mean Absolute Error\"]\n",
    "\n",
    "print(tabulate(results, headers=headers, tablefmt=\"grid\"))"
   ]
  },
  {
   "cell_type": "markdown",
   "id": "94c5a597",
   "metadata": {},
   "source": [
    "As evidenced, optimal results are achieved by utilising random forest and decision tree methods in combination with a 70-30% data split. Therefore, we have decided to select them for further examination to ascertain if improvements can be made to achieve even more accurate predictions.\n",
    "### Best performance\n",
    "- Random forest\n",
    "- Decision tree\n",
    "- Splitting 70-30%"
   ]
  },
  {
   "cell_type": "markdown",
   "id": "8f133d28",
   "metadata": {},
   "source": [
    "### Note \n",
    "The algorithm we have obtained the best performances are decision tree and random forest and, although the Decision Tree Regressor shows a high R-squared score on the training set, the test set also demonstrates a reasonably high score, indicating some level of generalisation.\n",
    "On the other hand, the Random Forest Regressor performs slightly better on the test set with a lower training R-squared score, suggesting better generalisation compared to the Decision Tree Regressor.\n",
    "Therefore, we could attempt to perform hyperparameter tuning to enhance the efficacy of both models, especially the one generated from the random forest algorithm."
   ]
  },
  {
   "cell_type": "markdown",
   "id": "015423e5",
   "metadata": {},
   "source": [
    "### 2.3 Hyperparameter Tuning"
   ]
  },
  {
   "cell_type": "code",
   "execution_count": 21,
   "id": "b9ba26df",
   "metadata": {},
   "outputs": [
    {
     "name": "stdout",
     "output_type": "stream",
     "text": [
      "Fitting 5 folds for each of 162 candidates, totalling 810 fits\n"
     ]
    },
    {
     "name": "stderr",
     "output_type": "stream",
     "text": [
      "C:\\Users\\eduma\\anaconda3\\lib\\site-packages\\sklearn\\model_selection\\_validation.py:425: FitFailedWarning: \n",
      "270 fits failed out of a total of 810.\n",
      "The score on these train-test partitions for these parameters will be set to nan.\n",
      "If these failures are not expected, you can try to debug them by setting error_score='raise'.\n",
      "\n",
      "Below are more details about the failures:\n",
      "--------------------------------------------------------------------------------\n",
      "156 fits failed with the following error:\n",
      "Traceback (most recent call last):\n",
      "  File \"C:\\Users\\eduma\\anaconda3\\lib\\site-packages\\sklearn\\model_selection\\_validation.py\", line 729, in _fit_and_score\n",
      "    estimator.fit(X_train, y_train, **fit_params)\n",
      "  File \"C:\\Users\\eduma\\anaconda3\\lib\\site-packages\\sklearn\\base.py\", line 1145, in wrapper\n",
      "    estimator._validate_params()\n",
      "  File \"C:\\Users\\eduma\\anaconda3\\lib\\site-packages\\sklearn\\base.py\", line 638, in _validate_params\n",
      "    validate_parameter_constraints(\n",
      "  File \"C:\\Users\\eduma\\anaconda3\\lib\\site-packages\\sklearn\\utils\\_param_validation.py\", line 96, in validate_parameter_constraints\n",
      "    raise InvalidParameterError(\n",
      "sklearn.utils._param_validation.InvalidParameterError: The 'max_features' parameter of DecisionTreeRegressor must be an int in the range [1, inf), a float in the range (0.0, 1.0], a str among {'sqrt', 'log2'} or None. Got 'auto' instead.\n",
      "\n",
      "--------------------------------------------------------------------------------\n",
      "114 fits failed with the following error:\n",
      "Traceback (most recent call last):\n",
      "  File \"C:\\Users\\eduma\\anaconda3\\lib\\site-packages\\sklearn\\model_selection\\_validation.py\", line 729, in _fit_and_score\n",
      "    estimator.fit(X_train, y_train, **fit_params)\n",
      "  File \"C:\\Users\\eduma\\anaconda3\\lib\\site-packages\\sklearn\\base.py\", line 1145, in wrapper\n",
      "    estimator._validate_params()\n",
      "  File \"C:\\Users\\eduma\\anaconda3\\lib\\site-packages\\sklearn\\base.py\", line 638, in _validate_params\n",
      "    validate_parameter_constraints(\n",
      "  File \"C:\\Users\\eduma\\anaconda3\\lib\\site-packages\\sklearn\\utils\\_param_validation.py\", line 96, in validate_parameter_constraints\n",
      "    raise InvalidParameterError(\n",
      "sklearn.utils._param_validation.InvalidParameterError: The 'max_features' parameter of DecisionTreeRegressor must be an int in the range [1, inf), a float in the range (0.0, 1.0], a str among {'log2', 'sqrt'} or None. Got 'auto' instead.\n",
      "\n",
      "  warnings.warn(some_fits_failed_message, FitFailedWarning)\n",
      "C:\\Users\\eduma\\anaconda3\\lib\\site-packages\\sklearn\\model_selection\\_search.py:979: UserWarning: One or more of the test scores are non-finite: [        nan         nan         nan         nan         nan         nan\n",
      "         nan         nan         nan -0.22682685 -0.20000583 -0.19240739\n",
      " -0.21297105 -0.18073049 -0.25627651 -0.24126408 -0.3851877  -0.29899583\n",
      " -0.11252675 -0.22834576 -0.40489244 -0.18258945 -0.28479655 -0.27391584\n",
      " -0.42699911 -0.29238652 -0.36651189         nan         nan         nan\n",
      "         nan         nan         nan         nan         nan         nan\n",
      " -0.20064291 -0.220881   -0.15325797 -0.32056308 -0.25682745 -0.22947484\n",
      " -0.19259471 -0.34298954 -0.28340952 -0.20665048 -0.15953657 -0.24297563\n",
      " -0.32137121 -0.21233365 -0.18636713 -0.2624421  -0.26889589 -0.51463687\n",
      "         nan         nan         nan         nan         nan         nan\n",
      "         nan         nan         nan -0.25640101 -0.20249144 -0.29681061\n",
      " -0.36124711 -0.34801642 -0.38152294 -0.19940897 -0.27114016 -0.25894085\n",
      " -0.18297818 -0.28016838 -0.30156489 -0.18525949 -0.19815834 -0.10891338\n",
      " -0.31380324 -0.26793299 -0.29541471         nan         nan         nan\n",
      "         nan         nan         nan         nan         nan         nan\n",
      " -0.30605536 -0.18262823 -0.3407035  -0.2902349  -0.14253722 -0.21868363\n",
      " -0.31712093 -0.20226517 -0.39448636 -0.18612911 -0.37598462 -0.39159545\n",
      " -0.14862327 -0.30156128 -0.21218499 -0.39505722 -0.32734283 -0.23482757\n",
      "         nan         nan         nan         nan         nan         nan\n",
      "         nan         nan         nan -0.10235464 -0.25977381 -0.31082254\n",
      " -0.29738989 -0.24516132 -0.14225185 -0.22651299 -0.3846678  -0.29736131\n",
      " -0.16190605 -0.21149129 -0.28551439 -0.31678693 -0.28462525 -0.34502895\n",
      " -0.29069489 -0.17952711 -0.31617399         nan         nan         nan\n",
      "         nan         nan         nan         nan         nan         nan\n",
      " -0.22551686 -0.22992459 -0.23393048 -0.18288806 -0.22639291 -0.19115184\n",
      " -0.28812197 -0.29395392 -0.45149426 -0.16577605 -0.21662955 -0.34516617\n",
      " -0.30175163 -0.22572791 -0.29766883 -0.20524339 -0.31346054 -0.21023784]\n",
      "  warnings.warn(\n"
     ]
    },
    {
     "name": "stdout",
     "output_type": "stream",
     "text": [
      "Best Decision Tree Parameters: {'max_depth': 40, 'max_features': 'sqrt', 'min_samples_leaf': 1, 'min_samples_split': 2}\n",
      "Best Decision Tree Score: -0.10235464457242852\n",
      "Fitting 5 folds for each of 486 candidates, totalling 2430 fits\n"
     ]
    },
    {
     "name": "stderr",
     "output_type": "stream",
     "text": [
      "C:\\Users\\eduma\\anaconda3\\lib\\site-packages\\sklearn\\model_selection\\_validation.py:425: FitFailedWarning: \n",
      "810 fits failed out of a total of 2430.\n",
      "The score on these train-test partitions for these parameters will be set to nan.\n",
      "If these failures are not expected, you can try to debug them by setting error_score='raise'.\n",
      "\n",
      "Below are more details about the failures:\n",
      "--------------------------------------------------------------------------------\n",
      "240 fits failed with the following error:\n",
      "Traceback (most recent call last):\n",
      "  File \"C:\\Users\\eduma\\anaconda3\\lib\\site-packages\\sklearn\\model_selection\\_validation.py\", line 729, in _fit_and_score\n",
      "    estimator.fit(X_train, y_train, **fit_params)\n",
      "  File \"C:\\Users\\eduma\\anaconda3\\lib\\site-packages\\sklearn\\base.py\", line 1145, in wrapper\n",
      "    estimator._validate_params()\n",
      "  File \"C:\\Users\\eduma\\anaconda3\\lib\\site-packages\\sklearn\\base.py\", line 638, in _validate_params\n",
      "    validate_parameter_constraints(\n",
      "  File \"C:\\Users\\eduma\\anaconda3\\lib\\site-packages\\sklearn\\utils\\_param_validation.py\", line 96, in validate_parameter_constraints\n",
      "    raise InvalidParameterError(\n",
      "sklearn.utils._param_validation.InvalidParameterError: The 'max_features' parameter of RandomForestRegressor must be an int in the range [1, inf), a float in the range (0.0, 1.0], a str among {'log2', 'sqrt'} or None. Got 'auto' instead.\n",
      "\n",
      "--------------------------------------------------------------------------------\n",
      "570 fits failed with the following error:\n",
      "Traceback (most recent call last):\n",
      "  File \"C:\\Users\\eduma\\anaconda3\\lib\\site-packages\\sklearn\\model_selection\\_validation.py\", line 729, in _fit_and_score\n",
      "    estimator.fit(X_train, y_train, **fit_params)\n",
      "  File \"C:\\Users\\eduma\\anaconda3\\lib\\site-packages\\sklearn\\base.py\", line 1145, in wrapper\n",
      "    estimator._validate_params()\n",
      "  File \"C:\\Users\\eduma\\anaconda3\\lib\\site-packages\\sklearn\\base.py\", line 638, in _validate_params\n",
      "    validate_parameter_constraints(\n",
      "  File \"C:\\Users\\eduma\\anaconda3\\lib\\site-packages\\sklearn\\utils\\_param_validation.py\", line 96, in validate_parameter_constraints\n",
      "    raise InvalidParameterError(\n",
      "sklearn.utils._param_validation.InvalidParameterError: The 'max_features' parameter of RandomForestRegressor must be an int in the range [1, inf), a float in the range (0.0, 1.0], a str among {'sqrt', 'log2'} or None. Got 'auto' instead.\n",
      "\n",
      "  warnings.warn(some_fits_failed_message, FitFailedWarning)\n",
      "C:\\Users\\eduma\\anaconda3\\lib\\site-packages\\sklearn\\model_selection\\_search.py:979: UserWarning: One or more of the test scores are non-finite: [        nan         nan         nan         nan         nan         nan\n",
      "         nan         nan         nan         nan         nan         nan\n",
      "         nan         nan         nan         nan         nan         nan\n",
      "         nan         nan         nan         nan         nan         nan\n",
      "         nan         nan         nan -0.03954185 -0.03826522 -0.03634304\n",
      " -0.05199255 -0.05187802 -0.05115195 -0.08385474 -0.07946987 -0.07810498\n",
      " -0.05976721 -0.05692393 -0.05611222 -0.06264298 -0.06110394 -0.0601876\n",
      " -0.09074496 -0.08721719 -0.08658446 -0.09067942 -0.0922935  -0.09283521\n",
      " -0.09484827 -0.09461887 -0.09407566 -0.0994948  -0.09999851 -0.09866017\n",
      " -0.03847739 -0.03852997 -0.0367983  -0.05507587 -0.05121507 -0.05064373\n",
      " -0.08440666 -0.07890354 -0.07934114 -0.05545797 -0.05930849 -0.05733388\n",
      " -0.06600923 -0.06001567 -0.06228094 -0.08117796 -0.08536155 -0.08494156\n",
      " -0.09441044 -0.09179394 -0.09329224 -0.09363687 -0.09307611 -0.09110183\n",
      " -0.10175103 -0.09942797 -0.10196819         nan         nan         nan\n",
      "         nan         nan         nan         nan         nan         nan\n",
      "         nan         nan         nan         nan         nan         nan\n",
      "         nan         nan         nan         nan         nan         nan\n",
      "         nan         nan         nan         nan         nan         nan\n",
      " -0.04952369 -0.04677225 -0.04501824 -0.06244761 -0.05961197 -0.05883424\n",
      " -0.08640488 -0.08240327 -0.08280616 -0.06520937 -0.06239716 -0.06235324\n",
      " -0.06795023 -0.06973293 -0.06693163 -0.09301444 -0.09147676 -0.08770402\n",
      " -0.09401747 -0.09377944 -0.09578461 -0.09611168 -0.09776278 -0.09459435\n",
      " -0.10448007 -0.10453094 -0.10371942 -0.05169581 -0.04257831 -0.0455637\n",
      " -0.06153478 -0.05917771 -0.05741923 -0.0866338  -0.08375067 -0.08501078\n",
      " -0.06853407 -0.06151056 -0.0624811  -0.06762909 -0.06446085 -0.06464412\n",
      " -0.09270426 -0.08746587 -0.08861268 -0.10148992 -0.09339428 -0.09398636\n",
      " -0.09113395 -0.09260019 -0.09534412 -0.09297393 -0.10198852 -0.10050246\n",
      "         nan         nan         nan         nan         nan         nan\n",
      "         nan         nan         nan         nan         nan         nan\n",
      "         nan         nan         nan         nan         nan         nan\n",
      "         nan         nan         nan         nan         nan         nan\n",
      "         nan         nan         nan -0.03698925 -0.03488945 -0.03647089\n",
      " -0.0568538  -0.05259258 -0.05197795 -0.078364   -0.08103362 -0.08188808\n",
      " -0.05411109 -0.05722194 -0.05771197 -0.05642394 -0.06090961 -0.06022347\n",
      " -0.09618251 -0.08532834 -0.08491055 -0.09265099 -0.09145341 -0.09339435\n",
      " -0.09287949 -0.09350555 -0.08566928 -0.09612268 -0.09948169 -0.10120603\n",
      " -0.03744524 -0.03589476 -0.0357846  -0.05140978 -0.05103151 -0.04827354\n",
      " -0.07896688 -0.07797477 -0.07824998 -0.05324805 -0.05538783 -0.05724755\n",
      " -0.06655518 -0.06112958 -0.06181903 -0.09207673 -0.08819455 -0.08376155\n",
      " -0.09305811 -0.09295912 -0.09446343 -0.09153753 -0.08937323 -0.09168221\n",
      " -0.10150075 -0.0957528  -0.09699015         nan         nan         nan\n",
      "         nan         nan         nan         nan         nan         nan\n",
      "         nan         nan         nan         nan         nan         nan\n",
      "         nan         nan         nan         nan         nan         nan\n",
      "         nan         nan         nan         nan         nan         nan\n",
      " -0.03501349 -0.0345827  -0.03629708 -0.052575   -0.0535287  -0.05125755\n",
      " -0.07726511 -0.07841092 -0.08275702 -0.05611256 -0.05908516 -0.05553427\n",
      " -0.0622721  -0.0627987  -0.06036984 -0.08799458 -0.08429409 -0.08514983\n",
      " -0.08951916 -0.09325595 -0.09061681 -0.09327638 -0.09555205 -0.09116909\n",
      " -0.10389215 -0.09522802 -0.09974391 -0.03990785 -0.03695289 -0.03734009\n",
      " -0.05163599 -0.051159   -0.04925089 -0.08078267 -0.07853111 -0.08249428\n",
      " -0.06054503 -0.05478531 -0.05617412 -0.06038462 -0.06296128 -0.05857537\n",
      " -0.08122507 -0.0865077  -0.08402813 -0.08997431 -0.09400069 -0.0931537\n",
      " -0.09810517 -0.09339129 -0.09600138 -0.10918622 -0.10049081 -0.09977856\n",
      "         nan         nan         nan         nan         nan         nan\n",
      "         nan         nan         nan         nan         nan         nan\n",
      "         nan         nan         nan         nan         nan         nan\n",
      "         nan         nan         nan         nan         nan         nan\n",
      "         nan         nan         nan -0.03748367 -0.03736057 -0.03602564\n",
      " -0.0512582  -0.05086639 -0.05159578 -0.08679935 -0.08219093 -0.07907639\n",
      " -0.06395533 -0.0546635  -0.05690683 -0.06544801 -0.0612232  -0.06065178\n",
      " -0.08457626 -0.08277997 -0.08316837 -0.09587389 -0.092379   -0.08939953\n",
      " -0.09217036 -0.09209691 -0.09083513 -0.10657576 -0.10043806 -0.10096241\n",
      " -0.03751008 -0.03512042 -0.03666711 -0.05100417 -0.05131592 -0.05071656\n",
      " -0.07833477 -0.08118232 -0.07989678 -0.06084276 -0.05801211 -0.05737679\n",
      " -0.06424015 -0.05986598 -0.06078328 -0.0912999  -0.08565835 -0.08383288\n",
      " -0.09326427 -0.09242335 -0.09201827 -0.09787875 -0.09327804 -0.09275482\n",
      " -0.09996527 -0.10045631 -0.09984039         nan         nan         nan\n",
      "         nan         nan         nan         nan         nan         nan\n",
      "         nan         nan         nan         nan         nan         nan\n",
      "         nan         nan         nan         nan         nan         nan\n",
      "         nan         nan         nan         nan         nan         nan\n",
      " -0.04200673 -0.03627331 -0.03627826 -0.05335259 -0.05107652 -0.05084418\n",
      " -0.08372187 -0.07990042 -0.07835985 -0.05733949 -0.05581071 -0.05682605\n",
      " -0.05642979 -0.06182524 -0.05920734 -0.08868314 -0.09037873 -0.0841015\n",
      " -0.09458132 -0.09016506 -0.09044187 -0.09356937 -0.09472615 -0.09066795\n",
      " -0.1015121  -0.10406687 -0.09951082 -0.03751284 -0.03465376 -0.03562187\n",
      " -0.05436994 -0.05452107 -0.04989054 -0.08328517 -0.08031216 -0.07707212\n",
      " -0.05404926 -0.06033213 -0.05402473 -0.06024784 -0.0612985  -0.06106364\n",
      " -0.08783967 -0.08576023 -0.08640339 -0.08912267 -0.09221462 -0.0940948\n",
      " -0.09630184 -0.09347121 -0.09318329 -0.10207048 -0.10001735 -0.1006616 ]\n",
      "  warnings.warn(\n"
     ]
    },
    {
     "name": "stdout",
     "output_type": "stream",
     "text": [
      "Best Random Forest Parameters: {'max_depth': 30, 'max_features': 'sqrt', 'min_samples_leaf': 1, 'min_samples_split': 2, 'n_estimators': 300}\n"
     ]
    }
   ],
   "source": [
    "# Decision Tree hyperparameter tuning\n",
    "dt_param_grid = {\n",
    "   'max_depth': [None, 10, 20, 30, 40, 50],\n",
    "   'min_samples_split': [2, 5, 10],\n",
    "   'min_samples_leaf': [1, 2, 4],\n",
    "   'max_features': ['auto', 'sqrt', 'log2']\n",
    "}\n",
    "\n",
    "dt_model = DecisionTreeRegressor()\n",
    "dt_grid_search = GridSearchCV(estimator=dt_model, param_grid=dt_param_grid, scoring='neg_mean_squared_error', cv=5, verbose=2, n_jobs=-1)\n",
    "dt_grid_search.fit(X_train, y_train)\n",
    "\n",
    "print(\"Best Decision Tree Parameters:\", dt_grid_search.best_params_)\n",
    "print(\"Best Decision Tree Score:\", dt_grid_search.best_score_)\n",
    "\n",
    "# Random Forest hyperparameter tuning\n",
    "rf_param_grid = {\n",
    "    'n_estimators': [100, 300, 500],\n",
    "    'max_depth': [None, 10, 20, 30, 40, 50],\n",
    "    'min_samples_split': [2, 5, 10],\n",
    "    'min_samples_leaf': [1, 2, 4],\n",
    "    'max_features': ['auto', 'sqrt', 'log2']\n",
    "}\n",
    "\n",
    "rf_model = RandomForestRegressor()\n",
    "rf_grid_search = GridSearchCV(estimator=rf_model, param_grid=rf_param_grid, scoring='neg_mean_squared_error', cv=5, verbose=2, n_jobs=-1)\n",
    "rf_grid_search.fit(X_train, y_train)\n",
    "\n",
    "print(\"Best Random Forest Parameters:\", rf_grid_search.best_params_)\n",
    "# print(\"Best Random Forest Score:\", rf_grid_search.best_score_)"
   ]
  },
  {
   "cell_type": "markdown",
   "id": "d0b89a15",
   "metadata": {},
   "source": [
    "### Note\n",
    "The negative mean squared error serves as a frequently used metric for optimizing grid search. The closer the score approximates 0 (or the more negative it is), the greater the model's performance. "
   ]
  },
  {
   "cell_type": "markdown",
   "id": "5f6f19ee",
   "metadata": {},
   "source": [
    "### Decision Tree hyperparameters tuned\n",
    "Best Parameters:\n",
    "\n",
    "max_depth: None\n",
    "\n",
    "max_features: 'log2'\n",
    "\n",
    "min_samples_leaf: 1\n",
    "\n",
    "min_samples_split: 2\n",
    "\n",
    "Best Score: -0.14567592255254502 (negative mean squared error)"
   ]
  },
  {
   "cell_type": "markdown",
   "id": "9a0bf24a",
   "metadata": {},
   "source": [
    "### Random Forest hyperparameters tuned\n",
    "Best Parameters:\n",
    "\n",
    "max_depth: 30\n",
    "\n",
    "max_features: 'log2'\n",
    "\n",
    "min_samples_leaf: 1\n",
    "\n",
    "min_samples_split: 2\n",
    "\n",
    "n_estimators: 300"
   ]
  },
  {
   "cell_type": "markdown",
   "id": "67787454",
   "metadata": {},
   "source": [
    "- Decision Tree hyperparameter tuned"
   ]
  },
  {
   "cell_type": "code",
   "execution_count": 22,
   "id": "d56fd3c9",
   "metadata": {},
   "outputs": [
    {
     "name": "stdout",
     "output_type": "stream",
     "text": [
      "Decision Tree Regressor: 0.198199 (0.176582)\n",
      "+-------------------------+-----------------------------+----------------------------+\n",
      "| Model                   |   Mean Squared Error (mean) |   Mean Squared Error (std) |\n",
      "+=========================+=============================+============================+\n",
      "| Decision Tree Regressor |                    0.198199 |                   0.176582 |\n",
      "+-------------------------+-----------------------------+----------------------------+\n"
     ]
    }
   ],
   "source": [
    "X_train, X_test, y_train, y_test = train_test_split(X_scl, y, test_size=0.3)\n",
    "\n",
    "regression_models = [\n",
    "    ('Decision Tree Regressor', DecisionTreeRegressor(max_depth=None, max_features='log2', min_samples_leaf=1, min_samples_split=2)),\n",
    "]\n",
    "\n",
    "results = []\n",
    "names = []\n",
    "\n",
    "for name, model in regression_models:\n",
    "    kfold = KFold(n_splits=10, random_state=1, shuffle=True)\n",
    "    cv_results = cross_val_score(model, X_train, y_train, cv=kfold, scoring='neg_mean_squared_error')\n",
    "    results.append([-cv_results.mean(), cv_results.std()])\n",
    "    names.append(name)\n",
    "    print('%s: %f (%f)' % (name, -cv_results.mean(), cv_results.std()))\n",
    "\n",
    "headers = [\"Model\", \"Mean Squared Error (mean)\", \"Mean Squared Error (std)\"]\n",
    "\n",
    "print(tabulate(zip(names, *zip(*results)), headers=headers, tablefmt=\"grid\"))"
   ]
  },
  {
   "cell_type": "code",
   "execution_count": 23,
   "id": "d7cb9fb1",
   "metadata": {},
   "outputs": [
    {
     "name": "stdout",
     "output_type": "stream",
     "text": [
      "Evaluating Decision Tree Regressor on the test set...\n",
      "+-------------------------+---------------+----------------------+-------------+-----------------------+\n",
      "| Model                   |   Train Score |   Mean Squared Error |   R-squared |   Mean Absolute Error |\n",
      "+=========================+===============+======================+=============+=======================+\n",
      "| Decision Tree Regressor |             1 |             0.279652 |    0.897606 |              0.254873 |\n",
      "+-------------------------+---------------+----------------------+-------------+-----------------------+\n"
     ]
    }
   ],
   "source": [
    "regression_models = [\n",
    "    ('Decision Tree Regressor', DecisionTreeRegressor(max_depth=None, max_features='log2', min_samples_leaf=1, min_samples_split=2)),\n",
    "]\n",
    "\n",
    "results = []\n",
    "\n",
    "for name, model in regression_models:\n",
    "    print(f\"Evaluating {name} on the test set...\")\n",
    "    \n",
    "    model.fit(X_train, y_train)\n",
    "    \n",
    "    y_pred = model.predict(X_test)\n",
    "    mse = mean_squared_error(y_test, y_pred)\n",
    "    r2 = r2_score(y_test, y_pred)\n",
    "    mae = mean_absolute_error(y_test, y_pred)\n",
    "    train_score = model.score(X_train, y_train)\n",
    "    \n",
    "    results.append([name, train_score, mse, r2, mae])\n",
    "\n",
    "headers = [\"Model\", \"Train Score\", \"Mean Squared Error\", \"R-squared\", \"Mean Absolute Error\"]\n",
    "\n",
    "print(tabulate(results, headers=headers, tablefmt=\"grid\"))"
   ]
  },
  {
   "cell_type": "markdown",
   "id": "f6ddecf8",
   "metadata": {},
   "source": [
    "- Random Forest hyperparameter tuned."
   ]
  },
  {
   "cell_type": "code",
   "execution_count": 24,
   "id": "b69bd358",
   "metadata": {},
   "outputs": [
    {
     "name": "stdout",
     "output_type": "stream",
     "text": [
      "Random Forest Regressor: 0.033867 (0.021985)\n",
      "+-------------------------+-----------------------------+----------------------------+\n",
      "| Model                   |   Mean Squared Error (mean) |   Mean Squared Error (std) |\n",
      "+=========================+=============================+============================+\n",
      "| Random Forest Regressor |                   0.0338665 |                  0.0219847 |\n",
      "+-------------------------+-----------------------------+----------------------------+\n"
     ]
    }
   ],
   "source": [
    "regression_models = [\n",
    "    ('Random Forest Regressor', RandomForestRegressor(max_depth=30, max_features='log2', min_samples_leaf=1, min_samples_split=2, n_estimators=300)),\n",
    "]\n",
    "\n",
    "results = []\n",
    "names = []\n",
    "\n",
    "for name, model in regression_models:\n",
    "    kfold = KFold(n_splits=10, random_state=1, shuffle=True)\n",
    "    cv_results = cross_val_score(model, X_train, y_train, cv=kfold, scoring='neg_mean_squared_error')\n",
    "    results.append([-cv_results.mean(), cv_results.std()])\n",
    "    names.append(name)\n",
    "    print('%s: %f (%f)' % (name, -cv_results.mean(), cv_results.std()))\n",
    "\n",
    "headers = [\"Model\", \"Mean Squared Error (mean)\", \"Mean Squared Error (std)\"]\n",
    "\n",
    "print(tabulate(zip(names, *zip(*results)), headers=headers, tablefmt=\"grid\"))"
   ]
  },
  {
   "cell_type": "markdown",
   "id": "9301f27f",
   "metadata": {},
   "source": [
    "Based on the outcomes of hyperparameter tuning, the Random Forest model had a superior performance against the Decision Tree model, achieving a more negative score in terms of mean squared error and a lower result that is closer to 0. Using Random Forest also mitigates the effect of outliers in our data, thus making our predictions more reliable."
   ]
  },
  {
   "cell_type": "markdown",
   "id": "31aa5d5f",
   "metadata": {},
   "source": [
    "### 2.4. Random Forest prediction"
   ]
  },
  {
   "cell_type": "markdown",
   "id": "fe5cc0ed",
   "metadata": {},
   "source": [
    "Once we have decided which algorithm we are using we are performing some visualizations in order to visualy analyse their performance.\n",
    "We are deciding to visualise Random Forest prediction."
   ]
  },
  {
   "cell_type": "code",
   "execution_count": 25,
   "id": "449f97d0",
   "metadata": {},
   "outputs": [
    {
     "name": "stdout",
     "output_type": "stream",
     "text": [
      "Evaluating Random Forest Regressor on the test set...\n",
      "+-------------------------+---------------+----------------------+-------------+-----------------------+\n",
      "| Model                   |   Train Score |   Mean Squared Error |   R-squared |   Mean Absolute Error |\n",
      "+=========================+===============+======================+=============+=======================+\n",
      "| Random Forest Regressor |      0.998445 |            0.0272828 |    0.990011 |             0.0938342 |\n",
      "+-------------------------+---------------+----------------------+-------------+-----------------------+\n"
     ]
    }
   ],
   "source": [
    "regression_models = [\n",
    "    ('Random Forest Regressor', RandomForestRegressor(max_depth=30, max_features='log2', min_samples_leaf=1, min_samples_split=2, n_estimators=300)),\n",
    "]\n",
    "\n",
    "results = []\n",
    "\n",
    "for name, model in regression_models:\n",
    "    print(f\"Evaluating {name} on the test set...\")\n",
    "\n",
    "    model.fit(X_train, y_train)\n",
    "\n",
    "    y_pred = model.predict(X_test)\n",
    "    mse = mean_squared_error(y_test, y_pred)\n",
    "    r2 = r2_score(y_test, y_pred)\n",
    "    mae = mean_absolute_error(y_test, y_pred)\n",
    "    train_score = model.score(X_train, y_train)\n",
    "\n",
    "    results.append([name, train_score, mse, r2, mae])\n",
    "\n",
    "headers = [\"Model\", \"Train Score\", \"Mean Squared Error\", \"R-squared\", \"Mean Absolute Error\"]\n",
    "\n",
    "print(tabulate(results, headers=headers, tablefmt=\"grid\"))"
   ]
  },
  {
   "cell_type": "code",
   "execution_count": 26,
   "id": "af190b60",
   "metadata": {},
   "outputs": [
    {
     "name": "stdout",
     "output_type": "stream",
     "text": [
      "Evaluating Random Forest Regressor on the test set...\n",
      "Train score 0.9984969477117991\n"
     ]
    },
    {
     "data": {
      "image/png": "[encoded data removed]",
      "text/plain": [
       "<Figure size 432x288 with 1 Axes>"
      ]
     },
     "metadata": {
      "needs_background": "light"
     },
     "output_type": "display_data"
    },
    {
     "name": "stdout",
     "output_type": "stream",
     "text": [
      "\n",
      "\n"
     ]
    }
   ],
   "source": [
    "def plot_actual_vs_predicted(model, X_test, y_test):\n",
    "    y_pred = model.predict(X_test)\n",
    "    \n",
    "    plt.scatter(y_test, y_test, color='blue', label='Actual Values')\n",
    "    \n",
    "    plt.scatter(y_test, y_pred, color='red', label='Predicted Values')\n",
    "    \n",
    "    plt.xlabel(\"Values\")\n",
    "    plt.ylabel(\"Values\")\n",
    "    plt.title(f\"{type(model).__name__} - Actual vs. Predicted\")\n",
    "    plt.legend()\n",
    "    plt.show()\n",
    "\n",
    "\n",
    "for name, model in regression_models:\n",
    "    print(f\"Evaluating {name} on the test set...\")\n",
    "\n",
    "    model.fit(X_train, y_train)\n",
    "\n",
    "    get_metrics(model, X_test, y_test)\n",
    "    print(f'Train score {model.score(X_train, y_train)}')\n",
    "\n",
    "    plot_actual_vs_predicted(model, X_test, y_test)\n",
    "\n",
    "    print(\"\\n\")"
   ]
  },
  {
   "cell_type": "code",
   "execution_count": 27,
   "id": "e0525e0d",
   "metadata": {},
   "outputs": [
    {
     "name": "stdout",
     "output_type": "stream",
     "text": [
      "Evaluating Random Forest Regressor on the test set...\n"
     ]
    },
    {
     "data": {
      "image/png": "[encoded data removed]",
      "text/plain": [
       "<Figure size 432x288 with 1 Axes>"
      ]
     },
     "metadata": {
      "needs_background": "light"
     },
     "output_type": "display_data"
    },
    {
     "name": "stdout",
     "output_type": "stream",
     "text": [
      "\n",
      "\n"
     ]
    }
   ],
   "source": [
    "def plot_residuals(model, X_test, y_test):\n",
    "    y_pred = model.predict(X_test)\n",
    "    residuals = y_test - y_pred\n",
    "    plt.scatter(y_test, residuals)\n",
    "    plt.axhline(y=0, color='r', linestyle='--')\n",
    "    plt.xlabel(\"Actual Values\")\n",
    "    plt.ylabel(\"Residuals\")\n",
    "    plt.title(f\"{type(model).__name__} - Residuals Plot\")\n",
    "    plt.show()\n",
    "\n",
    "# Iterate through the regression models\n",
    "for name, model in regression_models:\n",
    "    print(f\"Evaluating {name} on the test set...\")\n",
    "\n",
    "    # Train the model\n",
    "    model.fit(X_train, y_train)\n",
    "\n",
    "    # Get and print the model's performance metrics on the test set\n",
    "    get_metrics(model, X_test, y_test)\n",
    "\n",
    "    plot_residuals(model, X_test, y_test)\n",
    "\n",
    "    # Add any additional analysis or output as needed\n",
    "    print(\"\\n\")"
   ]
  },
  {
   "cell_type": "code",
   "execution_count": 28,
   "id": "8e2ea470",
   "metadata": {},
   "outputs": [
    {
     "data": {
      "image/png": "[encoded data removed]",
      "text/plain": [
       "<Figure size 432x288 with 1 Axes>"
      ]
     },
     "metadata": {
      "needs_background": "light"
     },
     "output_type": "display_data"
    }
   ],
   "source": [
    "import matplotlib.pyplot as plt\n",
    "y_pred = model.predict(X_test)\n",
    "def plot_actual_vs_predicted(actual_values, predicted_values, title='Actual and Predicted', x_label='Index', y_label='Sales'):\n",
    "    c = [i for i in range(1, len(actual_values) + 1)]  # generating index \n",
    "    fig = plt.figure()\n",
    "    plt.plot(c, actual_values, color=\"blue\", linewidth=2.5, linestyle=\"-\", label='Actual')\n",
    "    plt.plot(c, predicted_values, color=\"red\", linewidth=2.5, linestyle=\"-\", label='Predicted')\n",
    "    fig.suptitle(title, fontsize=20)  # Plot heading \n",
    "    plt.xlabel(x_label, fontsize=18)  # X-label\n",
    "    plt.ylabel(y_label, fontsize=16)  # Y-label\n",
    "    plt.legend()\n",
    "    plt.show()\n",
    "\n",
    "plot_actual_vs_predicted(y_test, y_pred, title='Actual vs Predicted', x_label='Index', y_label='Sales')"
   ]
  },
  {
   "cell_type": "code",
   "execution_count": 29,
   "id": "c6a9ed95",
   "metadata": {},
   "outputs": [
    {
     "data": {
      "image/png": "[encoded data removed]",
      "text/plain": [
       "<Figure size 432x288 with 1 Axes>"
      ]
     },
     "metadata": {
      "needs_background": "light"
     },
     "output_type": "display_data"
    }
   ],
   "source": [
    "def plot_error_terms(error_terms, title='Error Terms', x_label='Index', y_label='y_test - y_pred'):\n",
    "    c = [i for i in range(1, len(error_terms) + 1)]  # generating index \n",
    "    fig = plt.figure()\n",
    "    plt.plot(c, error_terms, color=\"blue\", linewidth=2.5, linestyle=\"-\")\n",
    "    fig.suptitle(title, fontsize=20)  # Plot heading \n",
    "    plt.xlabel(x_label, fontsize=18)  # X-label\n",
    "    plt.ylabel(y_label, fontsize=16)  # Y-label\n",
    "    plt.show()\n",
    "\n",
    "# Assuming you have error_terms (y_test - y_pred) from your regression model\n",
    "# You can call the function like this:\n",
    "plot_error_terms(y_test - y_pred, title='Error Terms', x_label='Index', y_label='y_test - y_pred')"
   ]
  },
  {
   "cell_type": "markdown",
   "id": "911da31d",
   "metadata": {},
   "source": [
    "#### 2.5 Final model"
   ]
  },
  {
   "cell_type": "code",
   "execution_count": 30,
   "id": "815f50f9",
   "metadata": {},
   "outputs": [
    {
     "data": {
      "text/html": [
       "<div>\n",
       "<style scoped>\n",
       "    .dataframe tbody tr th:only-of-type {\n",
       "        vertical-align: middle;\n",
       "    }\n",
       "\n",
       "    .dataframe tbody tr th {\n",
       "        vertical-align: top;\n",
       "    }\n",
       "\n",
       "    .dataframe thead th {\n",
       "        text-align: right;\n",
       "    }\n",
       "</style>\n",
       "<table border=\"1\" class=\"dataframe\">\n",
       "  <thead>\n",
       "    <tr style=\"text-align: right;\">\n",
       "      <th></th>\n",
       "      <th>Predicted Price</th>\n",
       "      <th>Actual Price</th>\n",
       "    </tr>\n",
       "  </thead>\n",
       "  <tbody>\n",
       "    <tr>\n",
       "      <th>0</th>\n",
       "      <td>1.205120</td>\n",
       "      <td>1.100</td>\n",
       "    </tr>\n",
       "    <tr>\n",
       "      <th>1</th>\n",
       "      <td>4.171052</td>\n",
       "      <td>4.466</td>\n",
       "    </tr>\n",
       "    <tr>\n",
       "      <th>2</th>\n",
       "      <td>1.155032</td>\n",
       "      <td>1.133</td>\n",
       "    </tr>\n",
       "    <tr>\n",
       "      <th>3</th>\n",
       "      <td>1.454112</td>\n",
       "      <td>1.188</td>\n",
       "    </tr>\n",
       "    <tr>\n",
       "      <th>4</th>\n",
       "      <td>0.721773</td>\n",
       "      <td>0.737</td>\n",
       "    </tr>\n",
       "    <tr>\n",
       "      <th>5</th>\n",
       "      <td>6.860470</td>\n",
       "      <td>8.536</td>\n",
       "    </tr>\n",
       "    <tr>\n",
       "      <th>6</th>\n",
       "      <td>1.969886</td>\n",
       "      <td>1.958</td>\n",
       "    </tr>\n",
       "    <tr>\n",
       "      <th>7</th>\n",
       "      <td>1.067771</td>\n",
       "      <td>1.034</td>\n",
       "    </tr>\n",
       "    <tr>\n",
       "      <th>8</th>\n",
       "      <td>5.424515</td>\n",
       "      <td>5.269</td>\n",
       "    </tr>\n",
       "    <tr>\n",
       "      <th>9</th>\n",
       "      <td>7.577231</td>\n",
       "      <td>7.568</td>\n",
       "    </tr>\n",
       "    <tr>\n",
       "      <th>10</th>\n",
       "      <td>3.944469</td>\n",
       "      <td>3.839</td>\n",
       "    </tr>\n",
       "    <tr>\n",
       "      <th>11</th>\n",
       "      <td>3.610240</td>\n",
       "      <td>3.674</td>\n",
       "    </tr>\n",
       "    <tr>\n",
       "      <th>12</th>\n",
       "      <td>1.403176</td>\n",
       "      <td>1.353</td>\n",
       "    </tr>\n",
       "    <tr>\n",
       "      <th>13</th>\n",
       "      <td>2.821307</td>\n",
       "      <td>2.871</td>\n",
       "    </tr>\n",
       "    <tr>\n",
       "      <th>14</th>\n",
       "      <td>0.515478</td>\n",
       "      <td>0.407</td>\n",
       "    </tr>\n",
       "  </tbody>\n",
       "</table>\n",
       "</div>"
      ],
      "text/plain": [
       "    Predicted Price  Actual Price\n",
       "0          1.205120         1.100\n",
       "1          4.171052         4.466\n",
       "2          1.155032         1.133\n",
       "3          1.454112         1.188\n",
       "4          0.721773         0.737\n",
       "5          6.860470         8.536\n",
       "6          1.969886         1.958\n",
       "7          1.067771         1.034\n",
       "8          5.424515         5.269\n",
       "9          7.577231         7.568\n",
       "10         3.944469         3.839\n",
       "11         3.610240         3.674\n",
       "12         1.403176         1.353\n",
       "13         2.821307         2.871\n",
       "14         0.515478         0.407"
      ]
     },
     "execution_count": 30,
     "metadata": {},
     "output_type": "execute_result"
    }
   ],
   "source": [
    "rf = RandomForestRegressor(max_depth=None, max_features='log2', min_samples_leaf=1, min_samples_split=5, n_estimators=300)\n",
    "\n",
    "rf.fit(X_train, y_train)\n",
    "\n",
    "predictions = rf.predict(X_test)\n",
    "\n",
    "test_df = pd.DataFrame({\n",
    "    \"Predicted Price\": predictions,\n",
    "    \"Actual Price\": y_test,\n",
    "}).reset_index(drop=True)\n",
    "\n",
    "test_df.head(15)"
   ]
  },
  {
   "cell_type": "code",
   "execution_count": 31,
   "id": "d944b1e4",
   "metadata": {},
   "outputs": [
    {
     "data": {
      "image/png": "[encoded data removed]",
      "text/plain": [
       "<Figure size 720x432 with 1 Axes>"
      ]
     },
     "metadata": {
      "needs_background": "light"
     },
     "output_type": "display_data"
    }
   ],
   "source": [
    "residuals = y_test - predictions\n",
    "\n",
    "# Plot residuals\n",
    "plt.figure(figsize=(10, 6))\n",
    "plt.scatter(y_test, residuals, color='blue', alpha=0.3)\n",
    "plt.axhline(y=0, color='red', linestyle='--', linewidth=2)\n",
    "plt.title('Residual Plot - Actual vs Predicted Prices')\n",
    "plt.xlabel('Actual Prices')\n",
    "plt.ylabel('Residuals')\n",
    "plt.show()"
   ]
  },
  {
   "cell_type": "code",
   "execution_count": 32,
   "id": "29ebcfd6",
   "metadata": {},
   "outputs": [
    {
     "name": "stdout",
     "output_type": "stream",
     "text": [
      "Mean Difference between Actual and Predicted Prices: -0.62\n"
     ]
    }
   ],
   "source": [
    "mean_difference = np.mean(predictions - y_test)\n",
    "\n",
    "print(f\"Mean Difference between Actual and Predicted Prices: {round(mean_difference*100,2)}\")"
   ]
  }
 ],
 "metadata": {
  "kernelspec": {
   "display_name": "Python 3 (ipykernel)",
   "language": "python",
   "name": "python3"
  },
  "language_info": {
   "codemirror_mode": {
    "name": "ipython",
    "version": 3
   },
   "file_extension": ".py",
   "mimetype": "text/x-python",
   "name": "python",
   "nbconvert_exporter": "python",
   "pygments_lexer": "ipython3",
   "version": "3.9.7"
  }
 },
 "nbformat": 4,
 "nbformat_minor": 5
}
