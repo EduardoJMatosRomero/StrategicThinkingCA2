{
 "cells": [
  {
   "cell_type": "code",
   "execution_count": 1,
   "id": "48fe8e14",
   "metadata": {},
   "outputs": [],
   "source": [
    "#pip install selenium\n",
    "from time import sleep\n",
    "import pandas as pd\n",
    "from selenium import webdriver\n",
    "from selenium.webdriver.chrome.options import Options\n",
    "from selenium.webdriver.common.keys import Keys\n",
    "from bs4 import BeautifulSoup\n",
    "import re\n",
    "import numpy as np\n",
    "from tqdm import tqdm\n",
    "\n",
    "from selenium.webdriver.support.ui import WebDriverWait\n",
    "from selenium.webdriver.support import expected_conditions as EC\n",
    "from selenium.webdriver.common.by import By\n",
    "from selenium.common.exceptions import NoSuchElementException \n",
    "from selenium.webdriver.chrome.service import Service"
   ]
  },
  {
   "cell_type": "code",
   "execution_count": 2,
   "id": "6bf75fe7",
   "metadata": {},
   "outputs": [],
   "source": [
    "#pip install --upgrade selenium"
   ]
  },
  {
   "cell_type": "code",
   "execution_count": 3,
   "id": "5f5737ac",
   "metadata": {},
   "outputs": [],
   "source": [
    "chrome_options = webdriver.ChromeOptions()\n",
    "# Add any additional options you need\n",
    "\n",
    "service = Service(executable_path=\"C:\\\\Users\\\\eduma\\\\Downloads\\\\chromedriver-win64\\\\chromedriver-win64\\\\chromedriver.exe\")\n",
    "\n",
    "# Specify the binary location (replace with your Chrome executable path)\n",
    "chrome_options.binary_location = \"C:\\\\Program Files (x86)\\\\Google\\\\Chrome\\\\Application\\\\chrome.exe\"\n",
    "\n",
    "# Launch the driver\n",
    "#driver = webdriver.Chrome(service=service, options=chrome_options)\n",
    "driver = webdriver.Chrome()"
   ]
  },
  {
   "cell_type": "code",
   "execution_count": 6,
   "id": "0d2aa4ba",
   "metadata": {},
   "outputs": [
    {
     "name": "stdout",
     "output_type": "stream",
     "text": [
      "Please enter -1 when done.\n",
      "----------\n",
      "From which city?\n",
      "DUB\n",
      "Where to?\n",
      "MAD\n",
      "----------\n",
      "From which city?\n",
      "MAD\n",
      "Where to?\n",
      "DUB\n",
      "----------\n",
      "From which city?\n",
      "DUB\n",
      "Where to?\n",
      "TFN\n",
      "----------\n",
      "From which city?\n",
      "TFN\n",
      "Where to?\n",
      "DUB\n",
      "----------\n",
      "From which city?\n",
      "DUB\n",
      "Where to?\n",
      "IBZ\n",
      "----------\n",
      "From which city?\n",
      "IBZ\n",
      "Where to?\n",
      "DUB\n",
      "----------\n",
      "From which city?\n",
      "-1\n",
      "\n",
      "Routes:\n",
      "DUB => MAD\n",
      "MAD => DUB\n",
      "DUB => TFN\n",
      "TFN => DUB\n",
      "DUB => IBZ\n",
      "IBZ => DUB\n"
     ]
    }
   ],
   "source": [
    "# get user input for routes\n",
    "sources = []\n",
    "destinations = []\n",
    "print(\"Please enter -1 when done.\")\n",
    "print(\"-\"*10)\n",
    "while True:\n",
    "    sources.append(input(\"From which city?\\n\"))\n",
    "    if \"-1\" in sources: \n",
    "        sources.pop(-1)\n",
    "        break\n",
    "    destinations.append(input(\"Where to?\\n\"))\n",
    "    if \"-1\" in destinations: \n",
    "        sources.pop(-1)\n",
    "        destinations.pop(-1)\n",
    "        break\n",
    "    print(\"-\"*10)\n",
    "\n",
    "print(\"\\nRoutes:\")\n",
    "for i in range(len(sources)):\n",
    "    print(f\"{sources[i]} => {destinations[i]}\")"
   ]
  },
  {
   "cell_type": "code",
   "execution_count": 7,
   "id": "d6a7daf7",
   "metadata": {},
   "outputs": [
    {
     "name": "stdout",
     "output_type": "stream",
     "text": [
      "Start Date, Please use YYYY-MM-DD format only 2024-03-25\n",
      "End Date, Please use YYYY-MM-DD format only 2024-03-30\n"
     ]
    }
   ],
   "source": [
    "# get user input for period (start and end date)\n",
    "start_date = np.datetime64(input('Start Date, Please use YYYY-MM-DD format only '))\n",
    "end_date = np.datetime64(input('End Date, Please use YYYY-MM-DD format only '))\n",
    "days = end_date - start_date\n",
    "num_days = days.item().days"
   ]
  },
  {
   "cell_type": "code",
   "execution_count": 8,
   "id": "edcdc257",
   "metadata": {},
   "outputs": [],
   "source": [
    "def get_airlines(soup):\n",
    "    airline = []\n",
    "    airlines = soup.find_all('div',class_='J0g6-operator-text',text=True)\n",
    "    for i in airlines:\n",
    "        airline.append(i.text)\n",
    "    return airline\n",
    "    \n",
    "def get_total_stops(soup):\n",
    "    stops_list = []\n",
    "    stops = soup.find_all('span',class_='JWEO-stops-text')\n",
    "\n",
    "    for i in stops:\n",
    "        stops_list.append(i.text)\n",
    "    return stops_list\n",
    "\n",
    "def get_price(soup):\n",
    "    prices = []\n",
    "    price = soup.find_all('div',class_='f8F1-price-text')\n",
    "\n",
    "    for i in price:\n",
    "        prices.append(i.text)\n",
    "    return prices\n",
    "\n",
    "def get_duration(soup):\n",
    "    duration_list = []\n",
    "    duration = soup.find_all('div' , class_='xdW8 xdW8-mod-full-airport')\n",
    "    for i in duration:\n",
    "        duration_list.append(i.text)\n",
    "    return duration_list"
   ]
  },
  {
   "cell_type": "code",
   "execution_count": 9,
   "id": "3e02ba57",
   "metadata": {
    "scrolled": true
   },
   "outputs": [
    {
     "name": "stderr",
     "output_type": "stream",
     "text": [
      "\r",
      "  0%|          | 0/6 [00:00<?, ?it/s]"
     ]
    },
    {
     "name": "stdout",
     "output_type": "stream",
     "text": [
      "Button pressed\n"
     ]
    },
    {
     "name": "stderr",
     "output_type": "stream",
     "text": [
      "\r",
      " 17%|█▋        | 1/6 [00:25<02:07, 25.48s/it]"
     ]
    },
    {
     "name": "stdout",
     "output_type": "stream",
     "text": [
      "['KLM', 'Aer Lingus', 'Iberia', 'Iberia Express', 'Vueling', 'Aer Lingus', 'Iberia', 'KLM', 'KLM', 'British Airways', 'British Airways, Iberia', 'Vueling', 'TAP AIR PORTUGAL', 'British Airways', 'British Airways, Iberia', 'KLM']\n",
      "['1 stop', 'direct', 'direct', 'direct', 'direct', 'direct', 'direct', '1 stop', '1 stop', '1 stop', '1 stop', '1 stop', '1 stop', '1 stop', '1 stop', '1 stop']\n",
      "['€117', '€110', '€115', '€116', '€151', '€157', '€172', '€110', '€123', '€141', '€146', '€123', '€136', '€139', '€146', '€167']\n",
      "['5h 05m', '2h 50m', '2h 35m', '2h 35m', '2h 35m', '2h 35m', '2h 50m', '5h 05m', '5h 10m', '5h 15m', '5h 15m', '7h 20m', '5h 50m', '6h 15m', '6h 15m', '5h 20m']\n",
      "Button pressed\n"
     ]
    },
    {
     "name": "stderr",
     "output_type": "stream",
     "text": [
      "\r",
      " 33%|███▎      | 2/6 [00:42<01:22, 20.71s/it]"
     ]
    },
    {
     "name": "stdout",
     "output_type": "stream",
     "text": [
      "['Aer Lingus', 'Aer Lingus', 'Iberia', 'Iberia Express', 'Iberia', 'Vueling', 'Aer Lingus', 'KLM', 'KLM', 'Lufthansa', 'KLM', 'KLM', 'Aer Lingus, easyJet', 'Lufthansa', 'British Airways, Iberia', 'Aer Lingus, Brussels Airlines']\n",
      "['direct', 'direct', 'direct', 'direct', 'direct', 'direct', 'direct', '1 stop', '1 stop', '1 stop', '1 stop', '1 stop', '1 stop', '1 stop', '1 stop', '1 stop']\n",
      "['€105', '€99', '€107', '€128', '€136', '€154', '€160', '€114', '€114', '€140', '€114', '€153', '€144', '€147', '€183', '€130']\n",
      "['2h 50m', '2h 50m', '2h 35m', '2h 35m', '2h 50m', '2h 35m', '2h 35m', '5h 05m', '5h 10m', '5h 55m', '9h 00m', '5h 20m', '4h 55m', '6h 10m', '5h 05m', '6h 55m']\n",
      "Button pressed\n"
     ]
    },
    {
     "name": "stderr",
     "output_type": "stream",
     "text": [
      "\r",
      " 50%|█████     | 3/6 [01:00<00:58, 19.46s/it]"
     ]
    },
    {
     "name": "stdout",
     "output_type": "stream",
     "text": [
      "['Aer Lingus', 'Aer Lingus', 'Iberia Express', 'Iberia', 'Iberia', 'Aer Lingus', 'British Airways', 'Vueling', 'British Airways', 'KLM', 'KLM', 'KLM', 'Lufthansa', 'KLM', 'British Airways', 'Vueling']\n",
      "['direct', 'direct', 'direct', 'direct', 'direct', 'direct', 'direct', 'direct', 'direct', '1 stop', '1 stop', '1 stop', '1 stop', '1 stop', '1 stop', '1 stop']\n",
      "['€120', '€114', '€120', '€121', '€136', '€160', '€176', '€190', '€218', '€136', '€136', '€172', '€160', '€143', '€193', '€162']\n",
      "['2h 50m', '2h 50m', '2h 35m', '2h 35m', '2h 50m', '2h 35m', '2h 50m', '2h 35m', '2h 35m', '5h 10m', '5h 20m', '5h 05m', '5h 55m', '9h 00m', '5h 15m', '7h 10m']\n",
      "Button pressed\n"
     ]
    },
    {
     "name": "stderr",
     "output_type": "stream",
     "text": [
      "\r",
      " 67%|██████▋   | 4/6 [01:17<00:37, 18.51s/it]"
     ]
    },
    {
     "name": "stdout",
     "output_type": "stream",
     "text": [
      "['Aer Lingus', 'Aer Lingus', 'Aer Lingus', 'Iberia', 'Iberia', 'Iberia', 'Iberia', 'Iberia Express', 'Iberia Express', 'Vueling', 'Vueling', 'Aer Lingus', 'Aer Lingus', 'KLM', 'KLM', 'Aer Lingus, Iberia']\n",
      "['direct', 'direct', 'direct', 'direct', 'direct', 'direct', 'direct', 'direct', 'direct', 'direct', 'direct', 'direct', 'direct', '1 stop', '1 stop', '1 stop']\n",
      "['€93', '€87', '€87', '€94', '€135', '€220', '€220', '€222', '€222', '€244', '€244', '€254', '€254', '€186', '€205', '€168']\n",
      "['2h 35m', '2h 35m', '2h 50m', '2h 50m', '2h 35m', '2h 35m', '2h 35m', '2h 35m', '2h 35m', '2h 35m', '2h 35m', '2h 35m', '2h 35m', '5h 20m', '5h 10m', '6h 30m']\n",
      "Button pressed\n"
     ]
    },
    {
     "name": "stderr",
     "output_type": "stream",
     "text": [
      "\r",
      " 83%|████████▎ | 5/6 [01:35<00:18, 18.13s/it]"
     ]
    },
    {
     "name": "stdout",
     "output_type": "stream",
     "text": [
      "['Aer Lingus', 'Aer Lingus', 'Aer Lingus', 'Iberia', 'Iberia Express', 'Aer Lingus', 'Iberia', 'Iberia', 'Vueling', 'Vueling', 'KLM', 'KLM', 'British Airways, Iberia', 'British Airways', 'Aer Lingus, Air Europa', 'British Airways']\n",
      "['direct', 'direct', 'direct', 'direct', 'direct', 'direct', 'direct', 'direct', 'direct', '1 stop', '1 stop', '1 stop', '1 stop', '1 stop', '1 stop', '1 stop']\n",
      "['€120', '€114', '€134', '€181', '€222', '€254', '€181', '€230', '€244', '€179', '€291', '€280', '€265', '€326', '€250', '€299']\n",
      "['2h 35m', '2h 35m', '2h 50m', '2h 35m', '2h 35m', '2h 35m', '2h 50m', '2h 35m', '2h 35m', '5h 25m', '5h 05m', '5h 10m', '5h 15m', '5h 15m', '5h 20m', '5h 40m']\n",
      "Button pressed\n"
     ]
    },
    {
     "name": "stderr",
     "output_type": "stream",
     "text": [
      "100%|██████████| 6/6 [01:52<00:00, 18.75s/it]\n"
     ]
    },
    {
     "name": "stdout",
     "output_type": "stream",
     "text": [
      "['Aer Lingus', 'Aer Lingus', 'Iberia', 'Iberia', 'Iberia Express', 'TAP AIR PORTUGAL', 'Vueling', 'Vueling', 'Iberia Express', 'Iberia', 'Aer Lingus', 'Aer Lingus', 'Vueling', 'Vueling, Air Europa', 'Aer Lingus, Air Europa', 'TAP AIR PORTUGAL']\n",
      "['direct', 'direct', 'direct', 'direct', 'direct', '1 stop', 'direct', 'direct', 'direct', 'direct', 'direct', 'direct', '1 stop', '1 stop', '1 stop', '1 stop']\n",
      "['€140', '€133', '€176', '€222', '€222', '€140', '€244', '€244', '€245', '€246', '€254', '€254', '€180', '€168', '€198', '€190']\n",
      "['2h 50m', '2h 50m', '2h 50m', '2h 35m', '2h 35m', '5h 50m', '2h 35m', '2h 35m', '2h 35m', '2h 35m', '2h 35m', '2h 35m', '6h 20m', '6h 20m', '6h 00m', '8h 15m']\n",
      "Successfully saved DUB => MAD route as DUB_MAD.csv\n"
     ]
    },
    {
     "name": "stderr",
     "output_type": "stream",
     "text": [
      "\r",
      "  0%|          | 0/6 [00:00<?, ?it/s]"
     ]
    },
    {
     "name": "stdout",
     "output_type": "stream",
     "text": [
      "Button pressed\n"
     ]
    },
    {
     "name": "stderr",
     "output_type": "stream",
     "text": [
      "\r",
      " 17%|█▋        | 1/6 [00:25<02:08, 25.69s/it]"
     ]
    },
    {
     "name": "stdout",
     "output_type": "stream",
     "text": [
      "['Aer Lingus', 'Iberia Express', 'easyJet, Aer Lingus', 'Iberia', 'Aer Lingus', 'Aer Lingus', 'Iberia', 'Vueling', 'British Airways', 'British Airways', 'TAP AIR PORTUGAL', 'Air Europa, Aer Lingus', 'Lufthansa', 'Vueling, Aer Lingus', 'KLM', 'Iberia, Aer Lingus', 'Iberia, Aer Lingus']\n",
      "['direct', 'direct', '1 stop', 'direct', 'direct', 'direct', 'direct', 'direct', 'direct', 'direct', '1 stop', '1 stop', '1 stop', '1 stop', '1 stop', '1 stop', '1 stop']\n",
      "['€126', '€114', '€103', '€115', '€119', '€126', '€143', '€158', '€181', '€181', '€127', '€119', '€136', '€160', '€169', '€147', '€142']\n",
      "['2h 45m', '2h 40m', '15h 40m', '2h 40m', '2h 45m', '2h 40m', '2h 45m', '2h 40m', '2h 40m', '2h 45m', '6h 45m', '6h 50m', '6h 55m', '5h 15m', '6h 10m', '6h 35m', '7h 05m']\n",
      "Button pressed\n"
     ]
    },
    {
     "name": "stderr",
     "output_type": "stream",
     "text": [
      "\r",
      " 33%|███▎      | 2/6 [00:42<01:21, 20.39s/it]"
     ]
    },
    {
     "name": "stdout",
     "output_type": "stream",
     "text": [
      "['Aer Lingus', 'Aer Lingus', 'Iberia', 'Iberia Express', 'Iberia', 'Aer Lingus', 'British Airways', 'Vueling', 'British Airways', 'Iberia Express, Aer Lingus', 'Lufthansa', 'Air Europa, Aer Lingus', 'Iberia Express, Aer Lingus', 'Lufthansa', 'KLM', 'Air Europa, Aer Lingus']\n",
      "['direct', 'direct', 'direct', 'direct', 'direct', 'direct', 'direct', 'direct', 'direct', '1 stop', '1 stop', '1 stop', '1 stop', '1 stop', '1 stop', '1 stop']\n",
      "['€87', '€80', '€101', '€107', '€115', '€126', '€140', '€158', '€181', '€104', '€128', '€113', '€114', '€136', '€130', '€142']\n",
      "['2h 45m', '2h 45m', '2h 45m', '2h 30m', '2h 30m', '2h 30m', '2h 45m', '2h 30m', '2h 30m', '7h 20m', '6h 10m', '8h 05m', '8h 00m', '6h 55m', '7h 40m', '5h 55m']\n",
      "Button pressed\n"
     ]
    },
    {
     "name": "stderr",
     "output_type": "stream",
     "text": [
      "\r",
      " 50%|█████     | 3/6 [00:58<00:55, 18.62s/it]"
     ]
    },
    {
     "name": "stdout",
     "output_type": "stream",
     "text": [
      "['Aer Lingus', 'Aer Lingus', 'Iberia', 'Iberia Express', 'Iberia', 'Aer Lingus', 'Vueling', 'Iberia, Aer Lingus', 'Air Europa, Aer Lingus', 'Lufthansa', 'Iberia, Aer Lingus', 'TAP AIR PORTUGAL', 'Iberia Express, Aer Lingus', 'easyJet, British Airways', 'easyJet, Air France', 'easyJet, TAP AIR PORTUGAL']\n",
      "['direct', 'direct', 'direct', 'direct', 'direct', 'direct', 'direct', '1 stop', '1 stop', '1 stop', '1 stop', '1 stop', '1 stop', '1 stop', '1 stop', '1 stop']\n",
      "['€87', '€80', '€103', '€159', '€163', '€166', '€195', '€115', '€147', '€158', '€124', '€127', '€125', '€137', '€142', '€162']\n",
      "['2h 45m', '2h 45m', '2h 45m', '2h 40m', '2h 40m', '2h 40m', '2h 40m', '8h 00m', '4h 20m', '6h 10m', '7h 35m', '9h 20m', '8h 00m', '7h 25m', '7h 00m', '6h 15m']\n",
      "Button pressed\n"
     ]
    },
    {
     "name": "stderr",
     "output_type": "stream",
     "text": [
      "\r",
      " 67%|██████▋   | 4/6 [01:15<00:35, 17.82s/it]"
     ]
    },
    {
     "name": "stdout",
     "output_type": "stream",
     "text": [
      "['Aer Lingus', 'Aer Lingus', 'Iberia', 'Aer Lingus', 'Iberia', 'Iberia Express', 'Iberia', 'Aer Lingus', 'Vueling', 'Iberia Express', 'Iberia', 'Vueling', 'Aer Lingus', 'KLM', 'Lufthansa', 'KLM']\n",
      "['direct', 'direct', 'direct', 'direct', 'direct', 'direct', 'direct', 'direct', 'direct', 'direct', 'direct', 'direct', 'direct', '1 stop', '1 stop', '1 stop']\n",
      "['€87', '€80', '€103', '€104', '€145', '€194', '€200', '€210', '€225', '€262', '€271', '€286', '€310', '€187', '€211', '€203']\n",
      "['2h 40m', '2h 40m', '2h 40m', '2h 45m', '2h 45m', '2h 40m', '2h 40m', '2h 40m', '2h 40m', '2h 30m', '2h 30m', '2h 30m', '2h 30m', '7h 40m', '6h 10m', '6h 40m']\n",
      "Button pressed\n"
     ]
    },
    {
     "name": "stderr",
     "output_type": "stream",
     "text": [
      "\r",
      " 83%|████████▎ | 5/6 [01:32<00:17, 17.45s/it]"
     ]
    },
    {
     "name": "stdout",
     "output_type": "stream",
     "text": [
      "['Aer Lingus', 'Aer Lingus', 'TAP AIR PORTUGAL', 'Aer Lingus', 'Iberia', 'Iberia', 'Iberia', 'Iberia Express', 'Aer Lingus', 'British Airways', 'British Airways', 'Vueling', 'British Airways', 'Vueling', 'Iberia, British Airways', 'KLM', 'Vueling, Aer Lingus']\n",
      "['direct', 'direct', '1 stop', 'direct', 'direct', 'direct', 'direct', 'direct', 'direct', 'direct', 'direct', 'direct', 'direct', '1 stop', '1 stop', '1 stop', '1 stop']\n",
      "['€87', '€80', '€76', '€80', '€98', '€98', '€110', '€114', '€126', '€140', '€140', '€158', '€181', '€118', '€149', '€159', '€168']\n",
      "['2h 40m', '2h 40m', '12h 10m', '2h 45m', '2h 40m', '2h 45m', '2h 40m', '2h 40m', '2h 40m', '2h 45m', '2h 40m', '2h 40m', '2h 40m', '6h 15m', '6h 40m', '6h 40m', '5h 15m']\n",
      "Button pressed\n"
     ]
    },
    {
     "name": "stderr",
     "output_type": "stream",
     "text": [
      "100%|██████████| 6/6 [01:48<00:00, 18.16s/it]\n"
     ]
    },
    {
     "name": "stdout",
     "output_type": "stream",
     "text": [
      "['Aer Lingus', 'Aer Lingus', 'TAP AIR PORTUGAL', 'Iberia', 'Iberia Express', 'Iberia', 'Iberia Express', 'Iberia', 'Aer Lingus', 'Aer Lingus', 'British Airways', 'Vueling', 'Vueling', 'British Airways', 'British Airways', 'TAP AIR PORTUGAL']\n",
      "['direct', 'direct', '1 stop', 'direct', 'direct', 'direct', 'direct', 'direct', 'direct', 'direct', 'direct', 'direct', 'direct', 'direct', 'direct', '1 stop']\n",
      "['€87', '€80', '€76', '€101', '€114', '€115', '€114', '€115', '€126', '€126', '€140', '€158', '€158', '€181', '€181', '€76']\n",
      "['2h 45m', '2h 45m', '6h 20m', '2h 45m', '2h 30m', '2h 30m', '2h 40m', '2h 40m', '2h 30m', '2h 40m', '2h 45m', '2h 30m', '2h 40m', '2h 30m', '2h 40m', '9h 20m']\n",
      "Successfully saved MAD => DUB route as MAD_DUB.csv\n"
     ]
    },
    {
     "name": "stderr",
     "output_type": "stream",
     "text": [
      "\r",
      "  0%|          | 0/6 [00:00<?, ?it/s]"
     ]
    },
    {
     "name": "stdout",
     "output_type": "stream",
     "text": [
      "Button pressed\n"
     ]
    },
    {
     "name": "stderr",
     "output_type": "stream",
     "text": [
      "\r",
      " 17%|█▋        | 1/6 [00:25<02:08, 25.61s/it]"
     ]
    },
    {
     "name": "stdout",
     "output_type": "stream",
     "text": [
      "['Vueling', 'Aer Lingus, Vueling', 'Iberia', 'Vueling', 'Multiple Airlines', 'Vueling', 'Iberia', 'Multiple Airlines', 'Multiple Airlines', 'Multiple Airlines', 'Multiple Airlines', 'British Airways, Vueling', 'Aer Lingus, Vueling', 'Aer Lingus, Vueling', 'Iberia']\n",
      "['1 stop', '2 stops', '1 stop', '1 stop', '2 stops', '2 stops', '1 stop', '2 stops', '2 stops', '2 stops', '2 stops', '2 stops', '2 stops', '2 stops', '1 stop']\n",
      "['€196', '€152', '€410', '€206', '€207', '€204', '€401', '€207', '€209', '€212', '€204', '€194', '€200', '€198', '€474']\n",
      "['9h 45m', '12h 40m', '7h 35m', '12h 40m', '9h 50m', '9h 35m', '9h 15m', '11h 10m', '12h 30m', '12h 30m', '14h 20m', '15h 10m', '13h 20m', '15h 15m', '9h 45m']\n",
      "Button pressed\n"
     ]
    },
    {
     "name": "stderr",
     "output_type": "stream",
     "text": [
      "\r",
      " 33%|███▎      | 2/6 [00:42<01:22, 20.66s/it]"
     ]
    },
    {
     "name": "stdout",
     "output_type": "stream",
     "text": [
      "['Aer Lingus, Binter Canarias', 'Multiple Airlines', 'Aer Lingus, Binter Canarias', 'Vueling', 'Aer Lingus, Binter Canarias', 'Aer Lingus, Air Europa', 'Aer Lingus, Binter Canarias', 'Aer Lingus, Binter Canarias', 'Aer Lingus, Binter Canarias', 'SWISS, Vueling', 'Multiple Airlines', 'Aer Lingus, Vueling', 'Multiple Airlines', 'Vueling', 'KLM', 'KLM']\n",
      "['1 stop', '3 stops', '1 stop', '1 stop', '1 stop', '2 stops', '1 stop', '1 stop', '1 stop', '2 stops', '2 stops', '2 stops', '2 stops', '1 stop', '2 stops', '2 stops']\n",
      "['€342', '€233', '€371', '€361', '€384', '€262', '€371', '€247', '€362', '€247', '€281', '€253', '€250', '€361', '€554', '€554']\n",
      "['7h 45m', '23h 20m', '7h 00m', '8h 20m', '7h 15m', '10h 25m', '8h 00m', '11h 25m', '8h 40m', '11h 15m', '10h 55m', '11h 55m', '12h 15m', '11h 10m', '11h 00m', '15h 35m']\n",
      "Button pressed\n"
     ]
    },
    {
     "name": "stderr",
     "output_type": "stream",
     "text": [
      "\r",
      " 50%|█████     | 3/6 [00:59<00:56, 18.85s/it]"
     ]
    },
    {
     "name": "stdout",
     "output_type": "stream",
     "text": [
      "['Vueling', 'Multiple Airlines', 'Aer Lingus, Binter Canarias', 'Vueling', 'Aer Lingus, Vueling', 'Multiple Airlines', 'Multiple Airlines', 'Vueling', 'Aer Lingus, Vueling', 'British Airways, Vueling', 'Multiple Airlines', 'Iberia', 'Multiple Airlines', 'Vueling', 'Vueling', 'Multiple Airlines']\n",
      "['1 stop', '2 stops', '1 stop', '1 stop', '1 stop', '2 stops', '2 stops', '2 stops', '2 stops', '2 stops', '3 stops', '1 stop', '3 stops', '2 stops', '2 stops', '2 stops']\n",
      "['€281', '€208', '€331', '€248', '€374', '€240', '€253', '€330', '€283', '€280', '€237', '€634', '€418', '€344', '€363', '€240']\n",
      "['9h 35m', '15h 40m', '8h 40m', '12h 30m', '8h 35m', '11h 50m', '12h 30m', '9h 25m', '11h 15m', '12h 45m', '13h 20m', '7h 35m', '9h 50m', '12h 20m', '12h 00m', '14h 20m']\n",
      "Button pressed\n"
     ]
    },
    {
     "name": "stderr",
     "output_type": "stream",
     "text": [
      "\r",
      " 67%|██████▋   | 4/6 [01:16<00:36, 18.06s/it]"
     ]
    },
    {
     "name": "stdout",
     "output_type": "stream",
     "text": [
      "['Aer Lingus, Binter Canarias', 'Aer Lingus, Binter Canarias', 'Aer Lingus, Binter Canarias', 'Aer Lingus, Iberia Express', 'Aer Lingus, Iberia', 'Aer Lingus, Canaryfly', 'Aer Lingus, Iberia Express', 'Aer Lingus, Iberia', 'Aer Lingus, Air Europa', 'Vueling', 'Aer Lingus, Canaryfly', 'Iberia', 'Multiple Airlines', 'Vueling', 'Multiple Airlines']\n",
      "['1 stop', '1 stop', '1 stop', '1 stop', '1 stop', '1 stop', '1 stop', '1 stop', '1 stop', '1 stop', '1 stop', '1 stop', '2 stops', '1 stop', '2 stops']\n",
      "['€244', '€234', '€316', '€281', '€289', '€284', '€270', '€278', '€257', '€529', '€265', '€459', '€273', '€515', '€330']\n",
      "['6h 55m', '11h 25m', '6h 10m', '7h 35m', '7h 35m', '7h 45m', '9h 15m', '9h 15m', '11h 25m', '8h 20m', '11h 25m', '8h 20m', '9h 05m', '9h 15m', '10h 25m']\n",
      "Button pressed\n"
     ]
    },
    {
     "name": "stderr",
     "output_type": "stream",
     "text": [
      "\r",
      " 83%|████████▎ | 5/6 [01:33<00:17, 17.59s/it]"
     ]
    },
    {
     "name": "stdout",
     "output_type": "stream",
     "text": [
      "['Aer Lingus, Binter Canarias', 'Aer Lingus, Vueling', 'Aer Lingus, Iberia Express', 'Aer Lingus, Vueling', 'Aer Lingus, Binter Canarias', 'Aer Lingus, Iberia', 'Aer Lingus, Vueling', 'Aer Lingus, Binter Canarias', 'Aer Lingus, Iberia Express', 'Aer Lingus, Binter Canarias', 'Iberia', 'Aer Lingus, Vueling', 'Aer Lingus, Binter Canarias', 'Aer Lingus, Binter Canarias', 'Multiple Airlines', 'Aer Lingus, Binter Canarias']\n",
      "['1 stop', '1 stop', '1 stop', '1 stop', '1 stop', '1 stop', '1 stop', '1 stop', '1 stop', '1 stop', '1 stop', '1 stop', '1 stop', '1 stop', '2 stops', '2 stops']\n",
      "['€298', '€241', '€335', '€352', '€458', '€343', '€263', '€443', '€335', '€298', '€639', '€306', '€401', '€401', '€299', '€402']\n",
      "['6h 55m', '16h 55m', '7h 35m', '7h 20m', '6h 10m', '7h 35m', '11h 45m', '7h 20m', '9h 15m', '11h 25m', '7h 35m', '12h 25m', '9h 55m', '10h 00m', '11h 50m', '8h 40m']\n",
      "Button pressed\n"
     ]
    },
    {
     "name": "stderr",
     "output_type": "stream",
     "text": [
      "100%|██████████| 6/6 [01:49<00:00, 18.28s/it]\n"
     ]
    },
    {
     "name": "stdout",
     "output_type": "stream",
     "text": [
      "['Vueling', 'Multiple Airlines', 'Aer Lingus, Binter Canarias', 'Aer Lingus, Canaryfly', 'Aer Lingus, Binter Canarias', 'Aer Lingus, Binter Canarias', 'Aer Lingus, Binter Canarias', 'Aer Lingus, Binter Canarias', 'Aer Lingus, Vueling', 'Aer Lingus, Binter Canarias', 'Multiple Airlines', 'Multiple Airlines', 'Iberia', 'Multiple Airlines', 'Multiple Airlines']\n",
      "['1 stop', '2 stops', '1 stop', '1 stop', '1 stop', '1 stop', '1 stop', '1 stop', '1 stop', '1 stop', '2 stops', '2 stops', '1 stop', '2 stops', '2 stops']\n",
      "['€295', '€229', '€281', '€284', '€338', '€281', '€429', '€353', '€352', '€281', '€240', '€255', '€517', '€336', '€288']\n",
      "['7h 35m', '11h 35m', '7h 00m', '7h 45m', '6h 55m', '8h 00m', '6h 10m', '7h 15m', '7h 20m', '9h 00m', '10h 10m', '10h 35m', '7h 35m', '10h 15m', '10h 55m']\n",
      "Successfully saved DUB => TFN route as DUB_TFN.csv\n"
     ]
    },
    {
     "name": "stderr",
     "output_type": "stream",
     "text": [
      "\r",
      "  0%|          | 0/6 [00:00<?, ?it/s]"
     ]
    },
    {
     "name": "stdout",
     "output_type": "stream",
     "text": [
      "Button pressed\n"
     ]
    },
    {
     "name": "stderr",
     "output_type": "stream",
     "text": [
      "\r",
      " 17%|█▋        | 1/6 [00:25<02:09, 25.94s/it]"
     ]
    },
    {
     "name": "stdout",
     "output_type": "stream",
     "text": [
      "['Vueling, Aer Lingus', 'Iberia Express, Aer Lingus', 'Iberia, Aer Lingus', 'Vueling', 'Iberia', 'Multiple Airlines', 'Vueling', 'Multiple Airlines', 'Iberia', 'Air Europa, Aer Lingus', 'Iberia Express, Iberia', 'Iberia', 'Air Europa, Iberia', 'Vueling, KLM', 'Vueling']\n",
      "['1 stop', '1 stop', '1 stop', '1 stop', '1 stop', '2 stops', '1 stop', '2 stops', '1 stop', '1 stop', '1 stop', '1 stop', '1 stop', '2 stops', '1 stop']\n",
      "['€172', '€222', '€225', '€281', '€249', '€196', '€281', '€191', '€241', '€264', '€222', '€232', '€219', '€217', '€306']\n",
      "['7h 55m', '6h 40m', '6h 40m', '7h 00m', '7h 00m', '10h 00m', '8h 15m', '11h 00m', '8h 15m', '8h 25m', '10h 20m', '10h 20m', '11h 10m', '11h 30m', '11h 20m']\n",
      "Button pressed\n"
     ]
    },
    {
     "name": "stderr",
     "output_type": "stream",
     "text": [
      "\r",
      " 33%|███▎      | 2/6 [00:42<01:22, 20.65s/it]"
     ]
    },
    {
     "name": "stdout",
     "output_type": "stream",
     "text": [
      "['Binter Canarias, Aer Lingus', 'Canaryfly, Aer Lingus', 'Iberia Express, Aer Lingus', 'Binter Canarias, Aer Lingus', 'Iberia, Aer Lingus', 'Binter Canarias, Aer Lingus', 'Binter Canarias, Aer Lingus', 'Binter Canarias, Aer Lingus', 'Air Europa, Aer Lingus', 'Binter Canarias, Aer Lingus', 'Binter Canarias, Aer Lingus', 'Binter Canarias, Aer Lingus', 'Binter Canarias, Aer Lingus', 'Multiple Airlines', 'Multiple Airlines']\n",
      "['1 stop', '1 stop', '1 stop', '1 stop', '1 stop', '1 stop', '1 stop', '1 stop', '1 stop', '1 stop', '1 stop', '2 stops', '1 stop', '2 stops', '2 stops']\n",
      "['€155', '€132', '€156', '€160', '€171', '€160', '€155', '€202', '€141', '€155', '€208', '€212', '€155', '€205', '€214']\n",
      "['6h 30m', '10h 35m', '6h 40m', '7h 00m', '6h 40m', '7h 30m', '8h 30m', '7h 10m', '10h 35m', '9h 30m', '8h 20m', '7h 10m', '10h 30m', '9h 20m', '10h 00m']\n",
      "Button pressed\n"
     ]
    },
    {
     "name": "stderr",
     "output_type": "stream",
     "text": [
      "\r",
      " 50%|█████     | 3/6 [00:59<00:56, 18.88s/it]"
     ]
    },
    {
     "name": "stdout",
     "output_type": "stream",
     "text": [
      "['Vueling, Aer Lingus', 'Air Europa, Aer Lingus', 'Iberia Express, Aer Lingus', 'Binter Canarias, Aer Lingus', 'Canaryfly, Aer Lingus', 'Multiple Airlines', 'Vueling', 'Iberia Express', 'Iberia', 'Vueling', 'Multiple Airlines', 'Multiple Airlines', 'Iberia', 'Multiple Airlines', 'Multiple Airlines']\n",
      "['1 stop', '1 stop', '1 stop', '1 stop', '1 stop', '2 stops', '1 stop', '1 stop', '1 stop', '1 stop', '2 stops', '2 stops', '1 stop', '2 stops', '2 stops']\n",
      "['€107', '€155', '€273', '€208', '€169', '€165', '€421', '€357', '€374', '€421', '€173', '€217', '€361', '€205', '€226']\n",
      "['11h 05m', '10h 35m', '6h 40m', '8h 20m', '10h 35m', '10h 00m', '7h 00m', '7h 00m', '7h 00m', '8h 15m', '11h 20m', '9h 45m', '8h 15m', '10h 20m', '10h 15m']\n",
      "Button pressed\n"
     ]
    },
    {
     "name": "stderr",
     "output_type": "stream",
     "text": [
      "\r",
      " 67%|██████▋   | 4/6 [01:16<00:36, 18.06s/it]"
     ]
    },
    {
     "name": "stdout",
     "output_type": "stream",
     "text": [
      "['Air Europa, Aer Lingus', 'Multiple Airlines', 'Binter Canarias, Aer Lingus', 'Iberia Express, Aer Lingus', 'Iberia, Aer Lingus', 'Binter Canarias, Aer Lingus', 'Binter Canarias, Aer Lingus', 'Iberia Express, Aer Lingus', 'Binter Canarias, Aer Lingus', 'Multiple Airlines', 'Vueling', 'Multiple Airlines', 'Binter Canarias, Aer Lingus', 'Vueling', 'Iberia Express']\n",
      "['1 stop', '2 stops', '1 stop', '1 stop', '1 stop', '1 stop', '1 stop', '1 stop', '1 stop', '2 stops', '1 stop', '2 stops', '1 stop', '1 stop', '1 stop']\n",
      "['€236', '€226', '€241', '€261', '€269', '€350', '€337', '€326', '€358', '€240', '€491', '€230', '€237', '€451', '€460']\n",
      "['6h 30m', '11h 20m', '6h 40m', '6h 30m', '6h 30m', '6h 30m', '7h 00m', '6h 40m', '7h 30m', '10h 00m', '7h 00m', '11h 15m', '11h 10m', '8h 15m', '7h 00m']\n",
      "Button pressed\n"
     ]
    },
    {
     "name": "stderr",
     "output_type": "stream",
     "text": [
      "\r",
      " 83%|████████▎ | 5/6 [01:33<00:17, 17.56s/it]"
     ]
    },
    {
     "name": "stdout",
     "output_type": "stream",
     "text": [
      "['Vueling', 'Binter Canarias, Aer Lingus', 'Vueling', 'Binter Canarias, Aer Lingus', 'Air Europa, Aer Lingus', 'Iberia', 'Binter Canarias, Aer Lingus', 'Binter Canarias, Aer Lingus', 'Iberia', 'Vueling', 'Iberia', 'Iberia', 'Iberia', 'British Airways', 'British Airways']\n",
      "['1 stop', '1 stop', '1 stop', '1 stop', '1 stop', '1 stop', '2 stops', '2 stops', '1 stop', '1 stop', '1 stop', '1 stop', '1 stop', '2 stops', '2 stops']\n",
      "['€181', '€216', '€386', '€330', '€236', '€444', '€216', '€216', '€444', '€386', '€429', '€653', '€653', '€682', '€682']\n",
      "['7h 45m', '7h 55m', '7h 00m', '7h 20m', '9h 00m', '7h 00m', '9h 25m', '10h 25m', '7h 45m', '8h 40m', '8h 40m', '6h 40m', '7h 45m', '9h 55m', '10h 10m']\n",
      "Button pressed\n"
     ]
    },
    {
     "name": "stderr",
     "output_type": "stream",
     "text": [
      "100%|██████████| 6/6 [01:49<00:00, 18.29s/it]\n"
     ]
    },
    {
     "name": "stdout",
     "output_type": "stream",
     "text": [
      "['Air Europa, Aer Lingus', 'Multiple Airlines', 'Iberia Express, Aer Lingus', 'Iberia, Aer Lingus', 'Vueling', 'Binter Canarias, Aer Lingus', 'Binter Canarias, Iberia Express', 'Vueling', 'Binter Canarias, Aer Lingus', 'Canaryfly, Aer Lingus', 'Canaryfly, Aer Lingus', 'Iberia', 'Iberia Express', 'Iberia', 'Multiple Airlines']\n",
      "['1 stop', '2 stops', '1 stop', '1 stop', '1 stop', '1 stop', '1 stop', '1 stop', '1 stop', '2 stops', '1 stop', '1 stop', '1 stop', '1 stop', '2 stops']\n",
      "['€273', '€229', '€273', '€282', '€426', '€436', '€373', '€386', '€411', '€359', '€299', '€651', '€476', '€499', '€281']\n",
      "['6h 30m', '11h 20m', '6h 40m', '6h 40m', '7h 00m', '6h 30m', '7h 20m', '8h 15m', '7h 20m', '7h 10m', '10h 35m', '6h 40m', '7h 00m', '7h 00m', '11h 05m']\n",
      "Successfully saved TFN => DUB route as TFN_DUB.csv\n"
     ]
    },
    {
     "name": "stderr",
     "output_type": "stream",
     "text": [
      "\r",
      "  0%|          | 0/6 [00:00<?, ?it/s]"
     ]
    },
    {
     "name": "stdout",
     "output_type": "stream",
     "text": [
      "Button pressed\n"
     ]
    },
    {
     "name": "stderr",
     "output_type": "stream",
     "text": [
      "\r",
      " 17%|█▋        | 1/6 [00:25<02:07, 25.45s/it]"
     ]
    },
    {
     "name": "stdout",
     "output_type": "stream",
     "text": [
      "['KLM', 'Aer Lingus, Vueling', 'Multiple Airlines', 'British Airways', 'Vueling', 'KLM', 'Vueling', 'Aer Lingus, Vueling', 'Aer Lingus, Transavia', 'Vueling', 'Aer Lingus, Vueling', 'Aer Lingus, Vueling', 'British Airways, Vueling', 'Iberia', 'British Airways', 'British Airways', 'Multiple Airlines']\n",
      "['1 stop', '1 stop', '3 stops', '1 stop', '1 stop', '1 stop', '1 stop', '1 stop', '1 stop', '1 stop', '1 stop', '2 stops', '2 stops', '1 stop', '1 stop', '1 stop', '2 stops']\n",
      "['€163', '€118', '€115', '€211', '€145', '€155', '€122', '€200', '€161', '€120', '€200', '€152', '€144', '€414', '€140', '€145', '€169']\n",
      "['7h 50m', '5h 05m', '26h 30m', '4h 35m', '7h 00m', '7h 50m', '9h 10m', '5h 40m', '7h 30m', '12h 20m', '6h 40m', '7h 50m', '9h 40m', '7h 00m', '16h 10m', '16h 20m', '7h 50m']\n",
      "Button pressed\n"
     ]
    },
    {
     "name": "stderr",
     "output_type": "stream",
     "text": [
      "\r",
      " 33%|███▎      | 2/6 [00:42<01:21, 20.34s/it]"
     ]
    },
    {
     "name": "stdout",
     "output_type": "stream",
     "text": [
      "['Aer Lingus, Vueling', 'KLM', 'British Airways', 'Aer Lingus, Air Europa', 'Aer Lingus, Vueling', 'Vueling', 'Vueling', 'Vueling, Iberia', 'Vueling, Transavia France', 'Aer Lingus, Vueling', 'Multiple Airlines', 'Iberia', 'British Airways, Vueling', 'Multiple Airlines', 'British Airways', 'Iberia']\n",
      "['1 stop', '1 stop', '1 stop', '1 stop', '1 stop', '1 stop', '1 stop', '2 stops', '2 stops', '1 stop', '2 stops', '1 stop', '2 stops', '2 stops', '1 stop', '1 stop']\n",
      "['€182', '€124', '€263', '€184', '€193', '€365', '€229', '€188', '€173', '€168', '€156', '€500', '€170', '€158', '€548', '€244']\n",
      "['5h 40m', '22h 10m', '4h 35m', '5h 45m', '6h 40m', '5h 00m', '9h 00m', '6h 35m', '7h 40m', '14h 40m', '10h 45m', '5h 00m', '8h 45m', '10h 30m', '5h 00m', '9h 00m']\n",
      "Button pressed\n"
     ]
    },
    {
     "name": "stderr",
     "output_type": "stream",
     "text": [
      "\r",
      " 50%|█████     | 3/6 [00:58<00:55, 18.60s/it]"
     ]
    },
    {
     "name": "stdout",
     "output_type": "stream",
     "text": [
      "['KLM', 'KLM', 'British Airways, easyJet', 'Vueling', 'KLM', 'British Airways', 'Vueling', 'Aer Lingus, Transavia', 'Aer Lingus, Air Europa', 'Aer Lingus, Vueling', 'KLM, Transavia', 'Vueling', 'Aer Lingus, Vueling', 'KLM, Vueling', 'Aer Lingus, Vueling', 'Iberia', 'Multiple Airlines']\n",
      "['1 stop', '1 stop', '2 stops', '1 stop', '1 stop', '1 stop', '1 stop', '1 stop', '1 stop', '1 stop', '1 stop', '1 stop', '1 stop', '2 stops', '1 stop', '1 stop', '2 stops']\n",
      "['€116', '€108', '€105', '€175', '€108', '€306', '€158', '€235', '€263', '€270', '€233', '€161', '€313', '€177', '€311', '€463', '€200']\n",
      "['6h 40m', '6h 40m', '21h 15m', '6h 35m', '9h 35m', '4h 35m', '9h 00m', '5h 30m', '5h 45m', '5h 40m', '6h 40m', '12h 10m', '5h 55m', '8h 30m', '6h 40m', '6h 35m', '7h 45m']\n",
      "Button pressed\n"
     ]
    },
    {
     "name": "stderr",
     "output_type": "stream",
     "text": [
      "\r",
      " 67%|██████▋   | 4/6 [01:15<00:35, 17.72s/it]"
     ]
    },
    {
     "name": "stdout",
     "output_type": "stream",
     "text": [
      "['Aer Lingus, Air Europa', 'KLM', 'KLM', 'Aer Lingus, Vueling', 'Vueling', 'Aer Lingus, Vueling', 'Aer Lingus, Vueling', 'Iberia', 'British Airways', 'Vueling', 'Vueling', 'Vueling', 'Vueling', 'Aer Lingus, Vueling', 'KLM', 'Aer Lingus, Vueling']\n",
      "['1 stop', '1 stop', '1 stop', '1 stop', '1 stop', '2 stops', '1 stop', '1 stop', '1 stop', '1 stop', '1 stop', '2 stops', '2 stops', '2 stops', '1 stop', '2 stops']\n",
      "['€276', '€199', '€325', '€326', '€460', '€233', '€326', '€499', '€427', '€327', '€471', '€210', '€210', '€238', '€325', '€207']\n",
      "['5h 45m', '23h 35m', '5h 35m', '5h 40m', '5h 00m', '8h 55m', '6h 40m', '5h 00m', '6h 10m', '9h 00m', '6h 15m', '13h 30m', '13h 30m', '10h 05m', '10h 10m', '14h 30m']\n",
      "Button pressed\n"
     ]
    },
    {
     "name": "stderr",
     "output_type": "stream",
     "text": [
      "\r",
      " 83%|████████▎ | 5/6 [01:31<00:17, 17.39s/it]"
     ]
    },
    {
     "name": "stdout",
     "output_type": "stream",
     "text": [
      "['KLM', 'Vueling', 'Aer Lingus, Vueling', 'Aer Lingus, Vueling', 'KLM', 'Aer Lingus, Air Europa', 'Aer Lingus, Vueling', 'KLM', 'Aer Lingus, Vueling', 'Air France, Vueling', 'Iberia', 'British Airways', 'British Airways', 'Aer Lingus, Vueling', 'Aer Lingus, Iberia Express', 'Transavia France, Iberia']\n",
      "['1 stop', '1 stop', '1 stop', '1 stop', '1 stop', '1 stop', '1 stop', '1 stop', '1 stop', '1 stop', '1 stop', '1 stop', '1 stop', '2 stops', '1 stop', '2 stops']\n",
      "['€195', '€196', '€168', '€207', '€187', '€223', '€284', '€187', '€265', '€295', '€488', '€227', '€227', '€178', '€270', '€236']\n",
      "['8h 05m', '6h 20m', '16h 30m', '5h 05m', '8h 05m', '5h 45m', '5h 15m', '11h 00m', '6h 30m', '7h 00m', '6h 20m', '12h 20m', '12h 35m', '16h 20m', '8h 35m', '7h 50m']\n",
      "Button pressed\n"
     ]
    },
    {
     "name": "stderr",
     "output_type": "stream",
     "text": [
      "100%|██████████| 6/6 [01:48<00:00, 18.07s/it]\n"
     ]
    },
    {
     "name": "stdout",
     "output_type": "stream",
     "text": [
      "['KLM', 'Vueling', 'KLM', 'Aer Lingus, Air Europa', 'Aer Lingus, Vueling', 'KLM', 'Vueling', 'Iberia', 'Aer Lingus, easyJet', 'KLM', 'Vueling', 'Aer Lingus, easyJet', 'Aer Lingus, Vueling', 'Aer Lingus, easyJet', 'KLM', 'TAP AIR PORTUGAL, Air Europa']\n",
      "['1 stop', '1 stop', '1 stop', '1 stop', '1 stop', '1 stop', '1 stop', '1 stop', '1 stop', '1 stop', '1 stop', '1 stop', '1 stop', '1 stop', '1 stop', '2 stops']\n",
      "['€116', '€158', '€109', '€223', '€290', '€139', '€149', '€432', '€153', '€129', '€377', '€153', '€328', '€157', '€171', '€233']\n",
      "['13h 00m', '7h 15m', '13h 00m', '5h 45m', '6h 05m', '17h 00m', '15h 35m', '7h 15m', '12h 30m', '24h 30m', '8h 40m', '14h 30m', '7h 50m', '15h 30m', '21h 35m', '8h 40m']\n",
      "Successfully saved DUB => IBZ route as DUB_IBZ.csv\n"
     ]
    },
    {
     "name": "stderr",
     "output_type": "stream",
     "text": [
      "\r",
      "  0%|          | 0/6 [00:00<?, ?it/s]"
     ]
    },
    {
     "name": "stdout",
     "output_type": "stream",
     "text": [
      "Button pressed\n"
     ]
    },
    {
     "name": "stderr",
     "output_type": "stream",
     "text": [
      "\r",
      " 17%|█▋        | 1/6 [00:26<02:12, 26.53s/it]"
     ]
    },
    {
     "name": "stdout",
     "output_type": "stream",
     "text": [
      "['KLM', 'Multiple Airlines', 'Vueling, Aer Lingus', 'Vueling, Aer Lingus', 'British Airways', 'British Airways', 'Iberia Express, Aer Lingus', 'British Airways', 'Vueling, Aer Lingus', 'KLM', 'British Airways', 'Transavia, Aer Lingus', 'Iberia, British Airways', 'Vueling', 'Transavia, KLM', 'British Airways']\n",
      "['1 stop', '2 stops', '1 stop', '1 stop', '1 stop', '1 stop', '1 stop', '1 stop', '1 stop', '1 stop', '1 stop', '1 stop', '1 stop', '1 stop', '1 stop', '1 stop']\n",
      "['€102', '€101', '€138', '€118', '€168', '€185', '€211', '€168', '€140', '€109', '€186', '€206', '€254', '€275', '€184', '€188']\n",
      "['7h 30m', '18h 20m', '5h 30m', '6h 40m', '6h 20m', '7h 20m', '5h 30m', '7h 10m', '8h 05m', '17h 35m', '7h 45m', '6h 30m', '6h 20m', '5h 55m', '7h 30m', '8h 25m']\n",
      "Button pressed\n"
     ]
    },
    {
     "name": "stderr",
     "output_type": "stream",
     "text": [
      "\r",
      " 33%|███▎      | 2/6 [00:43<01:24, 21.01s/it]"
     ]
    },
    {
     "name": "stdout",
     "output_type": "stream",
     "text": [
      "['British Airways', 'Vueling', 'British Airways', 'Vueling, Aer Lingus', 'British Airways', 'British Airways, Aer Lingus', 'British Airways', 'British Airways, Aer Lingus', 'Iberia, British Airways', 'British Airways', 'Iberia, British Airways', 'British Airways', 'British Airways, Aer Lingus', 'Iberia Express, Aer Lingus', 'British Airways, Aer Lingus']\n",
      "['1 stop', '1 stop', '1 stop', '1 stop', '1 stop', '1 stop', '1 stop', '1 stop', '1 stop', '1 stop', '1 stop', '1 stop', '1 stop', '1 stop', '1 stop']\n",
      "['€123', '€93', '€129', '€125', '€129', '€123', '€153', '€123', '€191', '€153', '€242', '€171', '€123', '€241', '€143']\n",
      "['7h 20m', '13h 40m', '6h 20m', '6h 40m', '7h 10m', '7h 45m', '7h 45m', '8h 45m', '7h 20m', '8h 45m', '6h 20m', '8h 25m', '9h 45m', '5h 30m', '8h 25m']\n",
      "Button pressed\n"
     ]
    },
    {
     "name": "stderr",
     "output_type": "stream",
     "text": [
      "\r",
      " 50%|█████     | 3/6 [01:00<00:57, 19.17s/it]"
     ]
    },
    {
     "name": "stdout",
     "output_type": "stream",
     "text": [
      "['KLM', 'British Airways', 'British Airways', 'British Airways, Aer Lingus', 'British Airways, Aer Lingus', 'British Airways', 'Vueling, Aer Lingus', 'British Airways', 'British Airways, Aer Lingus', 'Iberia Express, Aer Lingus', 'Transavia, KLM', 'British Airways', 'Iberia, British Airways', 'British Airways', 'British Airways', 'British Airways, Aer Lingus']\n",
      "['1 stop', '1 stop', '1 stop', '1 stop', '1 stop', '1 stop', '1 stop', '1 stop', '1 stop', '1 stop', '1 stop', '1 stop', '1 stop', '1 stop', '1 stop', '1 stop']\n",
      "['€124', '€101', '€148', '€127', '€120', '€156', '€167', '€154', '€127', '€204', '€197', '€161', '€230', '€194', '€156', '€127']\n",
      "['5h 45m', '20h 00m', '6h 20m', '7h 45m', '8h 25m', '7h 45m', '6h 40m', '7h 10m', '8h 45m', '5h 30m', '5h 45m', '8h 25m', '6h 20m', '7h 20m', '8h 45m', '9h 45m']\n",
      "Button pressed\n"
     ]
    },
    {
     "name": "stderr",
     "output_type": "stream",
     "text": [
      "\r",
      " 67%|██████▋   | 4/6 [01:17<00:36, 18.29s/it]"
     ]
    },
    {
     "name": "stdout",
     "output_type": "stream",
     "text": [
      "['British Airways', 'KLM', 'British Airways', 'British Airways', 'British Airways', 'British Airways', 'Iberia, British Airways', 'British Airways', 'Iberia, British Airways', 'Iberia', 'Vueling', 'Iberia', 'Iberia, British Airways', 'Iberia, British Airways', 'KLM']\n",
      "['1 stop', '1 stop', '1 stop', '1 stop', '1 stop', '1 stop', '1 stop', '1 stop', '1 stop', '1 stop', '1 stop', '1 stop', '1 stop', '1 stop', '1 stop']\n",
      "['€153', '€132', '€206', '€153', '€209', '€152', '€297', '€232', '€225', '€148', '€342', '€148', '€237', '€331', '€167']\n",
      "['7h 15m', '12h 20m', '4h 50m', '8h 15m', '5h 40m', '8h 45m', '4h 50m', '6h 55m', '7h 15m', '16h 55m', '5h 55m', '26h 40m', '8h 45m', '6h 55m', '20h 55m']\n",
      "Button pressed\n"
     ]
    },
    {
     "name": "stderr",
     "output_type": "stream",
     "text": [
      "\r",
      " 83%|████████▎ | 5/6 [01:34<00:17, 17.88s/it]"
     ]
    },
    {
     "name": "stdout",
     "output_type": "stream",
     "text": [
      "['Vueling', 'Vueling, Transavia France', 'Vueling, Transavia France', 'British Airways, Aer Lingus', 'British Airways', 'British Airways', 'British Airways, Aer Lingus', 'Vueling', 'Vueling, Aer Lingus', 'British Airways', 'British Airways', 'British Airways', 'British Airways', 'British Airways, Aer Lingus', 'British Airways', 'Jet2, Aer Lingus']\n",
      "['1 stop', '1 stop', '1 stop', '1 stop', '1 stop', '1 stop', '1 stop', '1 stop', '1 stop', '1 stop', '1 stop', '1 stop', '1 stop', '1 stop', '1 stop', '1 stop']\n",
      "['€142', '€126', '€153', '€127', '€148', '€163', '€137', '€142', '€188', '€154', '€197', '€201', '€153', '€137', '€148', '€164']\n",
      "['4h 50m', '18h 15m', '5h 30m', '8h 25m', '7h 45m', '7h 15m', '7h 45m', '8h 05m', '6h 10m', '7h 30m', '6h 20m', '7h 10m', '8h 25m', '8h 45m', '8h 45m', '7h 25m']\n",
      "Button pressed\n"
     ]
    },
    {
     "name": "stderr",
     "output_type": "stream",
     "text": [
      "100%|██████████| 6/6 [01:51<00:00, 18.65s/it]"
     ]
    },
    {
     "name": "stdout",
     "output_type": "stream",
     "text": [
      "['British Airways', 'Vueling', 'British Airways, Aer Lingus', 'British Airways', 'British Airways', 'Vueling', 'British Airways, Aer Lingus', 'Iberia Express, Aer Lingus', 'Iberia, British Airways', 'Iberia, TAP AIR PORTUGAL', 'Vueling, Aer Lingus', 'British Airways', 'British Airways, Aer Lingus', 'British Airways', 'British Airways, Aer Lingus']\n",
      "['1 stop', '1 stop', '1 stop', '1 stop', '1 stop', '1 stop', '1 stop', '1 stop', '1 stop', '2 stops', '1 stop', '1 stop', '1 stop', '1 stop', '1 stop']\n",
      "['€145', '€115', '€129', '€164', '€145', '€188', '€129', '€224', '€213', '€134', '€196', '€145', '€131', '€145', '€257']\n",
      "['6h 50m', '12h 55m', '8h 00m', '7h 00m', '8h 00m', '7h 20m', '9h 20m', '5h 30m', '6h 50m', '8h 15m', '6h 40m', '9h 20m', '10h 20m', '10h 20m', '6h 50m']\n",
      "Successfully saved IBZ => DUB route as IBZ_DUB.csv\n"
     ]
    },
    {
     "name": "stderr",
     "output_type": "stream",
     "text": [
      "\n"
     ]
    }
   ],
   "source": [
    "# Set the path to the ChromeDriver executable\n",
    "chromedriver_path = \"C:\\\\Users\\\\eduma\\\\Downloads\\\\chromedriver-win64\\\\chromedriver-win64\\\\chromedriver.exe\"\n",
    "\n",
    "# Launch the driver using the Service class\n",
    "service = Service(chromedriver_path)\n",
    "#driver = webdriver.Chrome(service=service)\n",
    "#driver = webdriver.Chrome()\n",
    "\n",
    "for i in range(len(sources)):\n",
    "    column_names = [\"Airline\", \"Source\", \"Destination\", \"Duration\", \"Total stops\", \"Price\", \"Date\"]\n",
    "    df = pd.DataFrame(columns=column_names)\n",
    "\n",
    "    for j in tqdm(range(num_days + 1)):\n",
    "        # close and open driver every 10 days to avoid captcha\n",
    "        if j % 10 == 0:\n",
    "            driver.quit()\n",
    "            #service = Service(chromedriver_path)\n",
    "            #driver = webdriver.Chrome(service=service)\n",
    "            service = Service()\n",
    "            driver = webdriver.Chrome()\n",
    "\n",
    "        url = f\"https://www.kayak.ie/flights/{sources[i]}-{destinations[i]}/{start_date+j}\"\n",
    "        driver.get(url)\n",
    "        sleep(15)\n",
    "\n",
    "        # click show more button to get all flights\n",
    "        try:\n",
    "            show_more_button = WebDriverWait(driver, 20).until(\n",
    "                EC.presence_of_element_located((By.XPATH, '//div[@class=\"ULvh-button show-more-button\"]'))\n",
    "            )\n",
    "            show_more_button.click()\n",
    "            print(\"Button pressed\")\n",
    "        except NoSuchElementException:\n",
    "            print(\"Show more button not found. Skipping to the next iteration.\")\n",
    "            continue\n",
    "\n",
    "        soup = BeautifulSoup(driver.page_source, 'html.parser')\n",
    "        airlines = get_airlines(soup)\n",
    "        total_stops = get_total_stops(soup)\n",
    "        prices = get_price(soup)\n",
    "        duration = get_duration(soup)\n",
    "        print(airlines)\n",
    "        print(total_stops)\n",
    "        print(prices)\n",
    "        print(duration)\n",
    "        new_data = pd.DataFrame({\n",
    "            'Airline': airlines,\n",
    "            'Duration': duration,\n",
    "            'Total stops': total_stops,\n",
    "            'Price': prices,\n",
    "            'Date': start_date + j\n",
    "        })\n",
    "        df = pd.concat([df, new_data], ignore_index=True, axis=0)\n",
    "\n",
    "    df['Source'] = sources[i]\n",
    "    df['Destination'] = destinations[i]\n",
    "    df = df.replace('\\n', '', regex=True)\n",
    "    df = df.reset_index(drop=True)\n",
    "\n",
    "    # save data as a CSV file for each route\n",
    "    df.to_csv(f'{sources[i]}_{destinations[i]}.csv', index=False)\n",
    "    print(f\"Successfully saved {sources[i]} => {destinations[i]} route as {sources[i]}_{destinations[i]}.csv\")\n",
    "\n",
    "driver.quit()"
   ]
  },
  {
   "cell_type": "code",
   "execution_count": null,
   "id": "abc76c13",
   "metadata": {},
   "outputs": [],
   "source": []
  }
 ],
 "metadata": {
  "kernelspec": {
   "display_name": "Python 3 (ipykernel)",
   "language": "python",
   "name": "python3"
  },
  "language_info": {
   "codemirror_mode": {
    "name": "ipython",
    "version": 3
   },
   "file_extension": ".py",
   "mimetype": "text/x-python",
   "name": "python",
   "nbconvert_exporter": "python",
   "pygments_lexer": "ipython3",
   "version": "3.9.7"
  }
 },
 "nbformat": 4,
 "nbformat_minor": 5
}
