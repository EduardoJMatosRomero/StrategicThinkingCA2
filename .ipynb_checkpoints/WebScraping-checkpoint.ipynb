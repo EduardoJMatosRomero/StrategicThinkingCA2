{
 "cells": [
  {
   "cell_type": "code",
   "execution_count": 1,
   "id": "48fe8e14",
   "metadata": {},
   "outputs": [],
   "source": [
    "#pip install selenium\n",
    "from time import sleep\n",
    "import pandas as pd\n",
    "from selenium import webdriver\n",
    "from selenium.webdriver.chrome.options import Options\n",
    "from selenium.webdriver.common.keys import Keys\n",
    "from bs4 import BeautifulSoup\n",
    "import re\n",
    "import numpy as np\n",
    "from tqdm import tqdm\n",
    "\n",
    "from selenium.webdriver.support.ui import WebDriverWait\n",
    "from selenium.webdriver.support import expected_conditions as EC\n",
    "from selenium.webdriver.common.by import By\n",
    "from selenium.common.exceptions import NoSuchElementException \n",
    "from selenium.webdriver.chrome.service import Service"
   ]
  },
  {
   "cell_type": "code",
   "execution_count": 2,
   "id": "6bf75fe7",
   "metadata": {},
   "outputs": [],
   "source": [
    "#pip install --upgrade selenium"
   ]
  },
  {
   "cell_type": "code",
   "execution_count": 3,
   "id": "5f5737ac",
   "metadata": {},
   "outputs": [],
   "source": [
    "chrome_options = webdriver.ChromeOptions()\n",
    "# Add any additional options you need\n",
    "\n",
    "service = Service(executable_path=\"C:\\\\Users\\\\eduma\\\\Downloads\\\\chromedriver-win64\\\\chromedriver-win64\\\\chromedriver.exe\")\n",
    "\n",
    "# Specify the binary location (replace with your Chrome executable path)\n",
    "chrome_options.binary_location = \"C:\\\\Program Files (x86)\\\\Google\\\\Chrome\\\\Application\\\\chrome.exe\"\n",
    "\n",
    "# Launch the driver\n",
    "#driver = webdriver.Chrome(service=service, options=chrome_options)\n",
    "driver = webdriver.Chrome()"
   ]
  },
  {
   "cell_type": "code",
   "execution_count": 4,
   "id": "0d2aa4ba",
   "metadata": {},
   "outputs": [
    {
     "name": "stdout",
     "output_type": "stream",
     "text": [
      "Please enter -1 when done.\n",
      "----------\n",
      "From which city?\n",
      "DUB\n",
      "Where to?\n",
      "MAD\n",
      "----------\n",
      "From which city?\n",
      "MAD\n",
      "Where to?\n",
      "DUB\n",
      "----------\n",
      "From which city?\n",
      "DUB\n",
      "Where to?\n",
      "TFN\n",
      "----------\n",
      "From which city?\n",
      "TFN\n",
      "Where to?\n",
      "DUB\n",
      "----------\n",
      "From which city?\n",
      "DUB\n",
      "Where to?\n",
      "IBZ\n",
      "----------\n",
      "From which city?\n",
      "IBZ\n",
      "Where to?\n",
      "DUB\n",
      "----------\n",
      "From which city?\n",
      "-1\n",
      "\n",
      "Routes:\n",
      "DUB => MAD\n",
      "MAD => DUB\n",
      "DUB => TFN\n",
      "TFN => DUB\n",
      "DUB => IBZ\n",
      "IBZ => DUB\n"
     ]
    }
   ],
   "source": [
    "# get user input for routes\n",
    "sources = []\n",
    "destinations = []\n",
    "print(\"Please enter -1 when done.\")\n",
    "print(\"-\"*10)\n",
    "while True:\n",
    "    sources.append(input(\"From which city?\\n\"))\n",
    "    if \"-1\" in sources: \n",
    "        sources.pop(-1)\n",
    "        break\n",
    "    destinations.append(input(\"Where to?\\n\"))\n",
    "    if \"-1\" in destinations: \n",
    "        sources.pop(-1)\n",
    "        destinations.pop(-1)\n",
    "        break\n",
    "    print(\"-\"*10)\n",
    "\n",
    "print(\"\\nRoutes:\")\n",
    "for i in range(len(sources)):\n",
    "    print(f\"{sources[i]} => {destinations[i]}\")"
   ]
  },
  {
   "cell_type": "code",
   "execution_count": 5,
   "id": "d6a7daf7",
   "metadata": {},
   "outputs": [
    {
     "name": "stdout",
     "output_type": "stream",
     "text": [
      "Start Date, Please use YYYY-MM-DD format only 2023-12-15\n",
      "End Date, Please use YYYY-MM-DD format only 2023-12-15\n"
     ]
    }
   ],
   "source": [
    "# get user input for period (start and end date)\n",
    "start_date = np.datetime64(input('Start Date, Please use YYYY-MM-DD format only '))\n",
    "end_date = np.datetime64(input('End Date, Please use YYYY-MM-DD format only '))\n",
    "days = end_date - start_date\n",
    "num_days = days.item().days"
   ]
  },
  {
   "cell_type": "code",
   "execution_count": 6,
   "id": "edcdc257",
   "metadata": {},
   "outputs": [],
   "source": [
    "def get_airlines(soup):\n",
    "    airline = []\n",
    "    airlines = soup.find_all('div',class_='J0g6-operator-text',text=True)\n",
    "    for i in airlines:\n",
    "        airline.append(i.text)\n",
    "    return airline\n",
    "    \n",
    "def get_total_stops(soup):\n",
    "    stops_list = []\n",
    "    stops = soup.find_all('span',class_='JWEO-stops-text')\n",
    "\n",
    "    for i in stops:\n",
    "        stops_list.append(i.text)\n",
    "    return stops_list\n",
    "\n",
    "def get_price(soup):\n",
    "    prices = []\n",
    "    price = soup.find_all('div',class_='f8F1-price-text')\n",
    "\n",
    "    for i in price:\n",
    "        prices.append(i.text)\n",
    "    return prices\n",
    "\n",
    "def get_duration(soup):\n",
    "    duration_list = []\n",
    "    duration = soup.find_all('div' , class_='xdW8 xdW8-mod-full-airport')\n",
    "    for i in duration:\n",
    "        duration_list.append(i.text)\n",
    "    return duration_list"
   ]
  },
  {
   "cell_type": "code",
   "execution_count": 7,
   "id": "3e02ba57",
   "metadata": {
    "scrolled": true
   },
   "outputs": [
    {
     "name": "stderr",
     "output_type": "stream",
     "text": [
      "\r",
      "  0%|          | 0/1 [00:00<?, ?it/s]"
     ]
    },
    {
     "name": "stdout",
     "output_type": "stream",
     "text": [
      "Button pressed\n"
     ]
    },
    {
     "name": "stderr",
     "output_type": "stream",
     "text": [
      "100%|██████████| 1/1 [00:26<00:00, 26.18s/it]\n"
     ]
    },
    {
     "name": "stdout",
     "output_type": "stream",
     "text": [
      "['Vueling', 'Vueling', 'Iberia Express', 'Iberia', 'Aer Lingus', 'Aer Lingus', 'Iberia', 'Aer Lingus, Air Europa', 'KLM', 'Lufthansa', 'Transavia France, Air Europa', 'Vueling, Air Europa', 'Vueling, Air Europa', 'Vueling, Iberia', 'British Airways']\n",
      "['direct', '1 stop', 'direct', 'direct', 'direct', 'direct', 'direct', '1 stop', '1 stop', '1 stop', '1 stop', '1 stop', '1 stop', '1 stop', '1 stop']\n",
      "['€167', '€107', '€172', '€175', '€188', '€199', '€210', '€131', '€388', '€323', '€250', '€262', '€316', '€337', '€822']\n",
      "['2h 35m', '5h 25m', '2h 35m', '2h 35m', '2h 35m', '2h 35m', '2h 35m', '6h 10m', '5h 05m', '5h 55m', '6h 20m', '6h 20m', '5h 25m', '5h 55m', '4h 40m']\n",
      "Successfully saved DUB => MAD route as DUB_MAD.csv\n"
     ]
    },
    {
     "name": "stderr",
     "output_type": "stream",
     "text": [
      "\r",
      "  0%|          | 0/1 [00:00<?, ?it/s]"
     ]
    },
    {
     "name": "stdout",
     "output_type": "stream",
     "text": [
      "Button pressed\n"
     ]
    },
    {
     "name": "stderr",
     "output_type": "stream",
     "text": [
      "100%|██████████| 1/1 [00:27<00:00, 27.59s/it]\n"
     ]
    },
    {
     "name": "stdout",
     "output_type": "stream",
     "text": [
      "['Iberia Express', 'Iberia', 'Vueling', 'Aer Lingus', 'Aer Lingus', 'Iberia', 'Aer Lingus', 'Iberia', 'Air France', 'Air Europa, Transavia France', 'British Airways', 'Iberia, British Airways', 'British Airways', 'British Airways', 'British Airways']\n",
      "['direct', 'direct', 'direct', 'direct', 'direct', 'direct', 'direct', 'direct', '1 stop', '1 stop', '1 stop', '1 stop', '1 stop', '1 stop', '1 stop']\n",
      "['€60', '€61', '€71', '€105', '€114', '€143', '€144', '€184', '€142', '€155', '€193', '€197', '€291', '€208', '€193']\n",
      "['2h 40m', '2h 40m', '2h 40m', '2h 40m', '2h 45m', '2h 45m', '2h 40m', '2h 40m', '5h 25m', '5h 45m', '5h 50m', '5h 50m', '5h 00m', '6h 05m', '6h 25m']\n",
      "Successfully saved MAD => DUB route as MAD_DUB.csv\n"
     ]
    },
    {
     "name": "stderr",
     "output_type": "stream",
     "text": [
      "\r",
      "  0%|          | 0/1 [00:00<?, ?it/s]"
     ]
    },
    {
     "name": "stdout",
     "output_type": "stream",
     "text": [
      "Button pressed\n"
     ]
    },
    {
     "name": "stderr",
     "output_type": "stream",
     "text": [
      "100%|██████████| 1/1 [00:26<00:00, 26.09s/it]\n"
     ]
    },
    {
     "name": "stdout",
     "output_type": "stream",
     "text": [
      "['Aer Lingus, Vueling', 'Vueling', 'Aer Lingus, Binter Canarias', 'Vueling, Air Europa', 'Iberia, Air Europa', 'Vueling, Air Europa', 'Iberia Express, Air Europa', 'Transavia France, Iberia', 'Aer Lingus, Air Europa', 'British Airways', 'Aer Lingus, Vueling', 'Vueling, Iberia', 'Iberia', 'Aer Lingus, Air Europa', 'Vueling, Iberia Express', 'Vueling, Iberia', 'Multiple Airlines', 'Transavia France, Vueling', 'Vueling, Binter Canarias', 'Multiple Airlines', 'Vueling', 'Vueling', 'Transavia France, Vueling', 'Vueling, Binter Canarias', 'Vueling', 'Iberia', 'British Airways', 'Multiple Airlines', 'British Airways', 'Multiple Airlines']\n",
      "['1 stop', '1 stop', '1 stop', '2 stops', '1 stop', '1 stop', '1 stop', '2 stops', '2 stops', '2 stops', '1 stop', '1 stop', '1 stop', '1 stop', '2 stops', '2 stops', '2 stops', '2 stops', '2 stops', '2 stops', '2 stops', '2 stops', '2 stops', '2 stops', '2 stops', '1 stop', '2 stops', '2 stops', '2 stops', '3 stops']\n",
      "['€125', '€132', '€331', '€181', '€253', '€253', '€253', '€191', '€194', '€586', '€259', '€344', '€355', '€313', '€251', '€270', '€275', '€255', '€332', '€284', '€330', '€266', '€268', '€332', '€280', '€415', '€593', '€327', '€701', '€429']\n",
      "['16h 55m', '18h 10m', '8h 40m', '17h 20m', '13h 55m', '13h 55m', '13h 55m', '18h 30m', '17h 45m', '10h 10m', '16h 55m', '14h 25m', '14h 25m', '16h 40m', '17h 50m', '17h 50m', '18h 15m', '19h 40m', '16h 15m', '17h 45m', '16h 30m', '19h 40m', '19h 40m', '17h 40m', '19h 40m', '18h 10m', '12h 05m', '19h 35m', '12h 05m', '19h 30m']\n",
      "Successfully saved DUB => TFN route as DUB_TFN.csv\n"
     ]
    },
    {
     "name": "stderr",
     "output_type": "stream",
     "text": [
      "\r",
      "  0%|          | 0/1 [00:00<?, ?it/s]"
     ]
    },
    {
     "name": "stdout",
     "output_type": "stream",
     "text": [
      "Button pressed\n"
     ]
    },
    {
     "name": "stderr",
     "output_type": "stream",
     "text": [
      "100%|██████████| 1/1 [00:25<00:00, 25.84s/it]\n"
     ]
    },
    {
     "name": "stdout",
     "output_type": "stream",
     "text": [
      "['Iberia', 'Vueling', 'Iberia', 'Air Europa, Aer Lingus', 'Canaryfly, Aer Lingus', 'Iberia', 'Iberia', 'Binter Canarias, Aer Lingus', 'Binter Canarias, Aer Lingus', 'Iberia Express', 'Iberia', 'Iberia Express, Iberia', 'Iberia', 'Iberia, Iberia Express', 'Iberia Express']\n",
      "['1 stop', '1 stop', '1 stop', '1 stop', '1 stop', '1 stop', '1 stop', '1 stop', '2 stops', '1 stop', '1 stop', '1 stop', '1 stop', '1 stop', '1 stop']\n",
      "['€263', '€151', '€164', '€237', '€239', '€164', '€271', '€244', '€283', '€178', '€182', '€185', '€271', '€186', '€200']\n",
      "['7h 00m', '17h 40m', '13h 45m', '8h 15m', '8h 15m', '14h 40m', '8h 40m', '9h 40m', '7h 50m', '13h 45m', '17h 25m', '13h 45m', '10h 30m', '13h 45m', '14h 40m']\n",
      "Successfully saved TFN => DUB route as TFN_DUB.csv\n"
     ]
    },
    {
     "name": "stderr",
     "output_type": "stream",
     "text": [
      "\r",
      "  0%|          | 0/1 [00:00<?, ?it/s]"
     ]
    },
    {
     "name": "stdout",
     "output_type": "stream",
     "text": [
      "Button pressed\n"
     ]
    },
    {
     "name": "stderr",
     "output_type": "stream",
     "text": [
      "100%|██████████| 1/1 [00:25<00:00, 25.69s/it]\n"
     ]
    },
    {
     "name": "stdout",
     "output_type": "stream",
     "text": [
      "['Vueling', 'Vueling', 'Aer Lingus, Vueling', 'Iberia', 'Vueling', 'Transavia France, Iberia', 'Iberia, Iberia Express', 'Iberia', 'British Airways', 'Vueling, Iberia Express', 'British Airways', 'British Airways', 'Vueling, Iberia', 'British Airways', 'Vueling, Air Europa']\n",
      "['1 stop', '1 stop', '1 stop', '1 stop', '1 stop', '2 stops', '1 stop', '1 stop', '1 stop', '2 stops', '1 stop', '1 stop', '2 stops', '1 stop', '2 stops']\n",
      "['€127', '€84', '€276', '€140', '€84', '€250', '€224', '€243', '€335', '€157', '€344', '€365', '€161', '€354', '€177']\n",
      "['6h 20m', '17h 45m', '5h 05m', '12h 30m', '20h 45m', '7h 50m', '12h 30m', '15h 15m', '12h 20m', '15h 55m', '12h 15m', '12h 35m', '15h 55m', '13h 15m', '15h 35m']\n",
      "Successfully saved DUB => IBZ route as DUB_IBZ.csv\n"
     ]
    },
    {
     "name": "stderr",
     "output_type": "stream",
     "text": [
      "\r",
      "  0%|          | 0/1 [00:00<?, ?it/s]"
     ]
    },
    {
     "name": "stdout",
     "output_type": "stream",
     "text": [
      "Button pressed\n"
     ]
    },
    {
     "name": "stderr",
     "output_type": "stream",
     "text": [
      "100%|██████████| 1/1 [00:25<00:00, 25.85s/it]"
     ]
    },
    {
     "name": "stdout",
     "output_type": "stream",
     "text": [
      "['Vueling', 'Vueling', 'Vueling, Transavia France', 'Vueling, Aer Lingus', 'British Airways', 'British Airways', 'Vueling, Aer Lingus', 'Iberia, British Airways', 'Iberia', 'Iberia, British Airways', 'British Airways', 'Vueling, Aer Lingus', 'Iberia', 'British Airways', 'Iberia']\n",
      "['1 stop', '1 stop', '1 stop', '1 stop', '1 stop', '1 stop', '1 stop', '1 stop', '1 stop', '1 stop', '1 stop', '1 stop', '1 stop', '1 stop', '1 stop']\n",
      "['€204', '€95', '€188', '€263', '€336', '€324', '€272', '€353', '€550', '€340', '€336', '€272', '€526', '€321', '€509']\n",
      "['4h 50m', '18h 40m', '5h 30m', '6h 10m', '7h 45m', '8h 25m', '8h 20m', '7h 45m', '4h 50m', '8h 25m', '8h 45m', '9h 35m', '5h 30m', '9h 45m', '5h 55m']\n",
      "Successfully saved IBZ => DUB route as IBZ_DUB.csv\n"
     ]
    },
    {
     "name": "stderr",
     "output_type": "stream",
     "text": [
      "\n"
     ]
    }
   ],
   "source": [
    "# Set the path to the ChromeDriver executable\n",
    "chromedriver_path = \"C:\\\\Users\\\\eduma\\\\Downloads\\\\chromedriver-win64\\\\chromedriver-win64\\\\chromedriver.exe\"\n",
    "\n",
    "# Launch the driver using the Service class\n",
    "service = Service(chromedriver_path)\n",
    "#driver = webdriver.Chrome(service=service)\n",
    "#driver = webdriver.Chrome()\n",
    "\n",
    "for i in range(len(sources)):\n",
    "    column_names = [\"Airline\", \"Source\", \"Destination\", \"Duration\", \"Total stops\", \"Price\", \"Date\"]\n",
    "    df = pd.DataFrame(columns=column_names)\n",
    "\n",
    "    for j in tqdm(range(num_days + 1)):\n",
    "        # close and open driver every 10 days to avoid captcha\n",
    "        if j % 10 == 0:\n",
    "            driver.quit()\n",
    "            #service = Service(chromedriver_path)\n",
    "            #driver = webdriver.Chrome(service=service)\n",
    "            service = Service()\n",
    "            driver = webdriver.Chrome()\n",
    "\n",
    "        url = f\"https://www.kayak.ie/flights/{sources[i]}-{destinations[i]}/{start_date+j}\"\n",
    "        driver.get(url)\n",
    "        sleep(15)\n",
    "\n",
    "        # click show more button to get all flights\n",
    "        try:\n",
    "            show_more_button = WebDriverWait(driver, 20).until(\n",
    "                EC.presence_of_element_located((By.XPATH, '//div[@class=\"ULvh-button show-more-button\"]'))\n",
    "            )\n",
    "            show_more_button.click()\n",
    "            print(\"Button pressed\")\n",
    "        except NoSuchElementException:\n",
    "            print(\"Show more button not found. Skipping to the next iteration.\")\n",
    "            continue\n",
    "\n",
    "        soup = BeautifulSoup(driver.page_source, 'html.parser')\n",
    "        airlines = get_airlines(soup)\n",
    "        total_stops = get_total_stops(soup)\n",
    "        prices = get_price(soup)\n",
    "        duration = get_duration(soup)\n",
    "        print(airlines)\n",
    "        print(total_stops)\n",
    "        print(prices)\n",
    "        print(duration)\n",
    "        new_data = pd.DataFrame({\n",
    "            'Airline': airlines,\n",
    "            'Duration': duration,\n",
    "            'Total stops': total_stops,\n",
    "            'Price': prices,\n",
    "            'Date': start_date + j\n",
    "        })\n",
    "        df = pd.concat([df, new_data], ignore_index=True, axis=0)\n",
    "\n",
    "    df['Source'] = sources[i]\n",
    "    df['Destination'] = destinations[i]\n",
    "    df = df.replace('\\n', '', regex=True)\n",
    "    df = df.reset_index(drop=True)\n",
    "\n",
    "    # save data as a CSV file for each route\n",
    "    df.to_csv(f'{sources[i]}_{destinations[i]}.csv', index=False)\n",
    "    print(f\"Successfully saved {sources[i]} => {destinations[i]} route as {sources[i]}_{destinations[i]}.csv\")\n",
    "\n",
    "driver.quit()"
   ]
  },
  {
   "cell_type": "code",
   "execution_count": null,
   "id": "abc76c13",
   "metadata": {},
   "outputs": [],
   "source": []
  }
 ],
 "metadata": {
  "kernelspec": {
   "display_name": "Python 3 (ipykernel)",
   "language": "python",
   "name": "python3"
  },
  "language_info": {
   "codemirror_mode": {
    "name": "ipython",
    "version": 3
   },
   "file_extension": ".py",
   "mimetype": "text/x-python",
   "name": "python",
   "nbconvert_exporter": "python",
   "pygments_lexer": "ipython3",
   "version": "3.9.7"
  }
 },
 "nbformat": 4,
 "nbformat_minor": 5
}
