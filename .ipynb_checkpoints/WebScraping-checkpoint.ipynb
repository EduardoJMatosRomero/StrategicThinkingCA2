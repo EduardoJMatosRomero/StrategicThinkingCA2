{
 "cells": [
  {
   "cell_type": "code",
   "execution_count": 1,
   "id": "48fe8e14",
   "metadata": {},
   "outputs": [],
   "source": [
    "#pip install selenium\n",
    "from time import sleep\n",
    "import pandas as pd\n",
    "from selenium import webdriver\n",
    "from selenium.webdriver.chrome.options import Options\n",
    "from selenium.webdriver.common.keys import Keys\n",
    "from bs4 import BeautifulSoup\n",
    "import re\n",
    "import numpy as np\n",
    "from tqdm import tqdm\n",
    "\n",
    "from selenium.webdriver.support.ui import WebDriverWait\n",
    "from selenium.webdriver.support import expected_conditions as EC\n",
    "from selenium.webdriver.common.by import By\n",
    "from selenium.common.exceptions import NoSuchElementException \n",
    "from selenium.webdriver.chrome.service import Service"
   ]
  },
  {
   "cell_type": "code",
   "execution_count": 2,
   "id": "6bf75fe7",
   "metadata": {},
   "outputs": [],
   "source": [
    "#pip install --upgrade selenium"
   ]
  },
  {
   "cell_type": "code",
   "execution_count": 3,
   "id": "5f5737ac",
   "metadata": {},
   "outputs": [],
   "source": [
    "chrome_options = webdriver.ChromeOptions()\n",
    "# Add any additional options you need\n",
    "\n",
    "service = Service(executable_path=\"C:\\\\Users\\\\eduma\\\\Downloads\\\\chromedriver-win64\\\\chromedriver-win64\\\\chromedriver.exe\")\n",
    "\n",
    "# Specify the binary location (replace with your Chrome executable path)\n",
    "chrome_options.binary_location = \"C:\\\\Program Files (x86)\\\\Google\\\\Chrome\\\\Application\\\\chrome.exe\"\n",
    "\n",
    "# Launch the driver\n",
    "#driver = webdriver.Chrome(service=service, options=chrome_options)\n",
    "driver = webdriver.Chrome()"
   ]
  },
  {
   "cell_type": "code",
   "execution_count": 4,
   "id": "0d2aa4ba",
   "metadata": {},
   "outputs": [
    {
     "name": "stdout",
     "output_type": "stream",
     "text": [
      "Please enter -1 when done.\n",
      "----------\n",
      "From which city?\n",
      "MAD\n",
      "Where to?\n",
      "DUB\n",
      "----------\n",
      "From which city?\n",
      "DUB\n",
      "Where to?\n",
      "MAD\n",
      "----------\n",
      "From which city?\n",
      "-1\n",
      "\n",
      "Routes:\n",
      "MAD => DUB\n",
      "DUB => MAD\n"
     ]
    }
   ],
   "source": [
    "# get user input for routes\n",
    "sources = []\n",
    "destinations = []\n",
    "print(\"Please enter -1 when done.\")\n",
    "print(\"-\"*10)\n",
    "while True:\n",
    "    sources.append(input(\"From which city?\\n\"))\n",
    "    if \"-1\" in sources: \n",
    "        sources.pop(-1)\n",
    "        break\n",
    "    destinations.append(input(\"Where to?\\n\"))\n",
    "    if \"-1\" in destinations: \n",
    "        sources.pop(-1)\n",
    "        destinations.pop(-1)\n",
    "        break\n",
    "    print(\"-\"*10)\n",
    "\n",
    "print(\"\\nRoutes:\")\n",
    "for i in range(len(sources)):\n",
    "    print(f\"{sources[i]} => {destinations[i]}\")"
   ]
  },
  {
   "cell_type": "code",
   "execution_count": 5,
   "id": "d6a7daf7",
   "metadata": {},
   "outputs": [
    {
     "name": "stdout",
     "output_type": "stream",
     "text": [
      "Start Date, Please use YYYY-MM-DD format only 2024-03-01\n",
      "End Date, Please use YYYY-MM-DD format only 2024-03-03\n"
     ]
    }
   ],
   "source": [
    "# get user input for period (start and end date)\n",
    "start_date = np.datetime64(input('Start Date, Please use YYYY-MM-DD format only '))\n",
    "end_date = np.datetime64(input('End Date, Please use YYYY-MM-DD format only '))\n",
    "days = end_date - start_date\n",
    "num_days = days.item().days"
   ]
  },
  {
   "cell_type": "code",
   "execution_count": 6,
   "id": "edcdc257",
   "metadata": {},
   "outputs": [],
   "source": [
    "def get_airlines(soup):\n",
    "    airline = []\n",
    "    airlines = soup.find_all('div',class_='J0g6-operator-text',text=True)\n",
    "    for i in airlines:\n",
    "        airline.append(i.text)\n",
    "    return airline\n",
    "    \n",
    "def get_total_stops(soup):\n",
    "    stops_list = []\n",
    "    stops = soup.find_all('span',class_='JWEO-stops-text')\n",
    "\n",
    "    for i in stops:\n",
    "        stops_list.append(i.text)\n",
    "    return stops_list\n",
    "\n",
    "def get_price(soup):\n",
    "    prices = []\n",
    "    price = soup.find_all('div',class_='f8F1-price-text')\n",
    "\n",
    "    for i in price:\n",
    "        prices.append(i.text)\n",
    "    return prices\n",
    "\n",
    "def get_duration(soup):\n",
    "    duration_list = []\n",
    "    duration = soup.find_all('div' , class_='xdW8 xdW8-mod-full-airport')\n",
    "    for i in duration:\n",
    "        duration_list.append(i.text)\n",
    "    return duration_list"
   ]
  },
  {
   "cell_type": "code",
   "execution_count": 7,
   "id": "3e02ba57",
   "metadata": {
    "scrolled": true
   },
   "outputs": [
    {
     "name": "stderr",
     "output_type": "stream",
     "text": [
      "\r",
      "  0%|          | 0/3 [00:00<?, ?it/s]"
     ]
    },
    {
     "name": "stdout",
     "output_type": "stream",
     "text": [
      "Button pressed\n"
     ]
    },
    {
     "name": "stderr",
     "output_type": "stream",
     "text": [
      "\r",
      " 33%|███▎      | 1/3 [00:26<00:52, 26.13s/it]"
     ]
    },
    {
     "name": "stdout",
     "output_type": "stream",
     "text": [
      "['Aer Lingus', 'Aer Lingus', 'Aer Lingus', 'Iberia', 'Iberia', 'British Airways', 'British Airways', 'Aer Lingus', 'Iberia', 'Iberia Express', 'Vueling', 'British Airways', 'Transavia France, Vueling', 'TAP AIR PORTUGAL', 'Vueling', 'Transavia France']\n",
      "['direct', 'direct', 'direct', 'direct', 'direct', 'direct', 'direct', 'direct', 'direct', 'direct', 'direct', 'direct', '1 stop', '1 stop', '1 stop', '1 stop']\n",
      "['€45', '€39', '€39', '€65', '€65', '€103', '€103', '€126', '€139', '€140', '€147', '€181', '€93', '€91', '€98', '€109']\n",
      "['2h 40m', '2h 40m', '2h 45m', '2h 40m', '2h 45m', '2h 40m', '2h 45m', '2h 40m', '2h 40m', '2h 40m', '2h 40m', '2h 40m', '5h 05m', '6h 45m', '6h 15m', '5h 15m']\n",
      "Button pressed\n"
     ]
    },
    {
     "name": "stderr",
     "output_type": "stream",
     "text": [
      "\r",
      " 67%|██████▋   | 2/3 [00:43<00:20, 20.99s/it]"
     ]
    },
    {
     "name": "stdout",
     "output_type": "stream",
     "text": [
      "['Aer Lingus', 'Iberia Express', 'Iberia', 'Aer Lingus', 'Iberia', 'British Airways', 'Aer Lingus', 'Vueling', 'British Airways', 'TAP AIR PORTUGAL', 'Air France', 'TAP AIR PORTUGAL', 'Iberia, British Airways', 'Air Europa, Aer Lingus', 'Iberia, British Airways', 'British Airways']\n",
      "['direct', 'direct', 'direct', 'direct', 'direct', 'direct', 'direct', 'direct', 'direct', '1 stop', '1 stop', '1 stop', '1 stop', '1 stop', '1 stop', '1 stop']\n",
      "['€59', '€48', '€49', '€53', '€66', '€86', '€99', '€99', '€103', '€76', '€99', '€91', '€111', '€97', '€111', '€130']\n",
      "['2h 45m', '2h 40m', '2h 40m', '2h 45m', '2h 45m', '2h 40m', '2h 40m', '2h 40m', '2h 45m', '6h 35m', '5h 25m', '6h 20m', '5h 00m', '5h 55m', '5h 50m', '5h 00m']\n",
      "Button pressed\n"
     ]
    },
    {
     "name": "stderr",
     "output_type": "stream",
     "text": [
      "100%|██████████| 3/3 [01:00<00:00, 20.32s/it]\n"
     ]
    },
    {
     "name": "stdout",
     "output_type": "stream",
     "text": [
      "['Aer Lingus', 'Aer Lingus', 'TAP AIR PORTUGAL', 'Iberia', 'British Airways', 'Iberia', 'Iberia Express', 'Iberia Express, Aer Lingus', 'Aer Lingus', 'Vueling', 'Iberia, British Airways', 'Iberia, Aer Lingus', 'Iberia, Transavia France', 'Vueling', 'Transavia France', 'British Airways', 'TAP AIR PORTUGAL']\n",
      "['direct', 'direct', '1 stop', 'direct', 'direct', 'direct', 'direct', '1 stop', 'direct', 'direct', '1 stop', '1 stop', '1 stop', '1 stop', '1 stop', 'direct', '1 stop']\n",
      "['€126', '€120', '€82', '€145', '€182', '€193', '€194', '€97', '€210', '€220', '€111', '€103', '€116', '€114', '€118', '€261', '€127']\n",
      "['2h 40m', '2h 40m', '23h 05m', '2h 40m', '2h 40m', '2h 40m', '2h 40m', '6h 30m', '2h 40m', '2h 40m', '6h 25m', '6h 30m', '5h 10m', '6h 15m', '5h 25m', '2h 40m', '6h 20m']\n",
      "Successfully saved MAD => DUB route as MAD_DUB.csv\n"
     ]
    },
    {
     "name": "stderr",
     "output_type": "stream",
     "text": [
      "\r",
      "  0%|          | 0/3 [00:00<?, ?it/s]"
     ]
    },
    {
     "name": "stdout",
     "output_type": "stream",
     "text": [
      "Button pressed\n"
     ]
    },
    {
     "name": "stderr",
     "output_type": "stream",
     "text": [
      "\r",
      " 33%|███▎      | 1/3 [00:25<00:51, 25.99s/it]"
     ]
    },
    {
     "name": "stdout",
     "output_type": "stream",
     "text": [
      "['Aer Lingus', 'Iberia', 'Iberia Express', 'Aer Lingus', 'Vueling', 'Aer Lingus', 'Aer Lingus', 'Iberia', 'KLM', 'KLM', 'KLM', 'Iberia', 'TAP AIR PORTUGAL', 'KLM', 'Vueling', 'British Airways']\n",
      "['direct', 'direct', 'direct', 'direct', 'direct', 'direct', 'direct', 'direct', '1 stop', '1 stop', '1 stop', 'direct', '1 stop', '1 stop', '1 stop', '1 stop']\n",
      "['€90', '€67', '€78', '€90', '€98', '€150', '€170', '€202', '€108', '€108', '€108', '€236', '€105', '€108', '€123', '€136']\n",
      "['2h 35m', '2h 35m', '2h 35m', '2h 35m', '2h 35m', '2h 35m', '2h 50m', '2h 35m', '5h 05m', '5h 10m', '5h 20m', '2h 50m', '5h 50m', '6h 15m', '5h 25m', '5h 05m']\n",
      "Button pressed\n"
     ]
    },
    {
     "name": "stderr",
     "output_type": "stream",
     "text": [
      "\r",
      " 67%|██████▋   | 2/3 [00:43<00:21, 21.17s/it]"
     ]
    },
    {
     "name": "stdout",
     "output_type": "stream",
     "text": [
      "['Aer Lingus', 'Aer Lingus', 'British Airways, easyJet', 'Iberia', 'Iberia Express', 'Iberia', 'Aer Lingus', 'Vueling', 'KLM', 'British Airways', 'British Airways', 'British Airways', 'British Airways', 'KLM', 'British Airways', 'TAP AIR PORTUGAL', 'Aer Lingus, easyJet']\n",
      "['direct', 'direct', '1 stop', 'direct', 'direct', 'direct', 'direct', 'direct', '1 stop', '1 stop', '1 stop', '1 stop', '1 stop', '1 stop', '1 stop', '1 stop', '1 stop']\n",
      "['€78', '€72', '€65', '€90', '€98', '€102', '€117', '€128', '€96', '€100', '€104', '€110', '€100', '€109', '€118', '€106', '€94']\n",
      "['2h 50m', '2h 50m', '19h 50m', '2h 50m', '2h 35m', '2h 35m', '2h 35m', '2h 35m', '5h 10m', '5h 35m', '5h 30m', '5h 10m', '6h 10m', '5h 20m', '5h 15m', '5h 50m', '6h 10m']\n",
      "Button pressed\n"
     ]
    },
    {
     "name": "stderr",
     "output_type": "stream",
     "text": [
      "100%|██████████| 3/3 [01:00<00:00, 20.29s/it]"
     ]
    },
    {
     "name": "stdout",
     "output_type": "stream",
     "text": [
      "['Aer Lingus', 'Aer Lingus', 'Iberia', 'Iberia', 'Iberia Express', 'Aer Lingus', 'Vueling', 'British Airways', 'KLM', 'British Airways', 'KLM', 'KLM', 'TAP AIR PORTUGAL', 'KLM', 'Aer Lingus, Iberia', 'Aer Lingus, Vueling']\n",
      "['direct', 'direct', 'direct', 'direct', 'direct', 'direct', 'direct', 'direct', '1 stop', 'direct', '1 stop', '1 stop', '1 stop', '1 stop', '1 stop', '1 stop']\n",
      "['€78', '€72', '€131', '€149', '€149', '€157', '€167', '€172', '€97', '€215', '€110', '€110', '€106', '€110', '€101', '€106']\n",
      "['2h 35m', '2h 35m', '2h 35m', '2h 35m', '2h 35m', '2h 35m', '2h 35m', '2h 35m', '5h 20m', '2h 35m', '5h 05m', '5h 10m', '5h 50m', '6h 15m', '5h 55m', '5h 55m']\n",
      "Successfully saved DUB => MAD route as DUB_MAD.csv\n"
     ]
    },
    {
     "name": "stderr",
     "output_type": "stream",
     "text": [
      "\n"
     ]
    }
   ],
   "source": [
    "# Set the path to the ChromeDriver executable\n",
    "chromedriver_path = \"C:\\\\Users\\\\eduma\\\\Downloads\\\\chromedriver-win64\\\\chromedriver-win64\\\\chromedriver.exe\"\n",
    "\n",
    "# Launch the driver using the Service class\n",
    "service = Service(chromedriver_path)\n",
    "#driver = webdriver.Chrome(service=service)\n",
    "#driver = webdriver.Chrome()\n",
    "\n",
    "for i in range(len(sources)):\n",
    "    column_names = [\"Airline\", \"Source\", \"Destination\", \"Duration\", \"Total stops\", \"Price\", \"Date\"]\n",
    "    df = pd.DataFrame(columns=column_names)\n",
    "\n",
    "    for j in tqdm(range(num_days + 1)):\n",
    "        # close and open driver every 10 days to avoid captcha\n",
    "        if j % 10 == 0:\n",
    "            driver.quit()\n",
    "            #service = Service(chromedriver_path)\n",
    "            #driver = webdriver.Chrome(service=service)\n",
    "            service = Service()\n",
    "            driver = webdriver.Chrome()\n",
    "\n",
    "        url = f\"https://www.kayak.ie/flights/{sources[i]}-{destinations[i]}/{start_date+j}\"\n",
    "        driver.get(url)\n",
    "        sleep(15)\n",
    "\n",
    "        # click show more button to get all flights\n",
    "        try:\n",
    "            show_more_button = WebDriverWait(driver, 20).until(\n",
    "                EC.presence_of_element_located((By.XPATH, '//div[@class=\"ULvh-button show-more-button\"]'))\n",
    "            )\n",
    "            show_more_button.click()\n",
    "            print(\"Button pressed\")\n",
    "        except NoSuchElementException:\n",
    "            print(\"Show more button not found. Skipping to the next iteration.\")\n",
    "            continue\n",
    "\n",
    "        soup = BeautifulSoup(driver.page_source, 'html.parser')\n",
    "        airlines = get_airlines(soup)\n",
    "        total_stops = get_total_stops(soup)\n",
    "        prices = get_price(soup)\n",
    "        duration = get_duration(soup)\n",
    "        print(airlines)\n",
    "        print(total_stops)\n",
    "        print(prices)\n",
    "        print(duration)\n",
    "        new_data = pd.DataFrame({\n",
    "            'Airline': airlines,\n",
    "            'Duration': duration,\n",
    "            'Total stops': total_stops,\n",
    "            'Price': prices,\n",
    "            'Date': start_date + j\n",
    "        })\n",
    "        df = pd.concat([df, new_data], ignore_index=True, axis=0)\n",
    "\n",
    "    df['Source'] = sources[i]\n",
    "    df['Destination'] = destinations[i]\n",
    "    df = df.replace('\\n', '', regex=True)\n",
    "    df = df.reset_index(drop=True)\n",
    "\n",
    "    # save data as a CSV file for each route\n",
    "    df.to_csv(f'{sources[i]}_{destinations[i]}.csv', index=False)\n",
    "    print(f\"Successfully saved {sources[i]} => {destinations[i]} route as {sources[i]}_{destinations[i]}.csv\")\n",
    "\n",
    "driver.quit()"
   ]
  }
 ],
 "metadata": {
  "kernelspec": {
   "display_name": "Python 3 (ipykernel)",
   "language": "python",
   "name": "python3"
  },
  "language_info": {
   "codemirror_mode": {
    "name": "ipython",
    "version": 3
   },
   "file_extension": ".py",
   "mimetype": "text/x-python",
   "name": "python",
   "nbconvert_exporter": "python",
   "pygments_lexer": "ipython3",
   "version": "3.9.7"
  }
 },
 "nbformat": 4,
 "nbformat_minor": 5
}
