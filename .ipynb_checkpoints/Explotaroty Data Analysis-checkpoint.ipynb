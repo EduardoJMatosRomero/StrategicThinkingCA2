{
 "cells": [
  {
   "cell_type": "code",
   "execution_count": 1,
   "id": "dfeb03f9",
   "metadata": {},
   "outputs": [],
   "source": [
    "import pandas as pd\n",
    "import os\n",
    "import matplotlib.pyplot as plt\n",
    "import seaborn as sns"
   ]
  },
  {
   "cell_type": "code",
   "execution_count": 4,
   "id": "3e5747b3",
   "metadata": {},
   "outputs": [
    {
     "name": "stdout",
     "output_type": "stream",
     "text": [
      "The merged dataset has been saved to C:\\Users\\eduma\\OneDrive\\Escritorio\\Folders_Links\\Formation\\CTT COLLEGUE Programming Bootcamp Sept2023\\StratThink_HDipData&AI_Sept23_HCI\\CA 2\\StrategicThinkingCA2\\merged_dataset.csv\n"
     ]
    }
   ],
   "source": [
    "folder_path = r'C:\\Users\\eduma\\OneDrive\\Escritorio\\Folders_Links\\Formation\\CTT COLLEGUE Programming Bootcamp Sept2023\\StratThink_HDipData&AI_Sept23_HCI\\CA 2\\StrategicThinkingCA2\\12-12-2023-13-24-2023'\n",
    "\n",
    "# Initialize an empty list to store DataFrames\n",
    "dataframes = []\n",
    "\n",
    "# Loop through all files in the folder\n",
    "for file_name in os.listdir(folder_path):\n",
    "    if file_name.endswith('.csv'):\n",
    "        # Construct the full file path\n",
    "        file_path = os.path.join(folder_path, file_name)\n",
    "        # Read the CSV file into a DataFrame\n",
    "        df = pd.read_csv(file_path)\n",
    "        # Append the DataFrame to the list\n",
    "        dataframes.append(df)\n",
    "\n",
    "# Concatenating all the DataFrames in the list into one\n",
    "merged_df = pd.concat(dataframes, ignore_index=True)\n",
    "\n",
    "#Saving the merged DataFrame to a new CSV file\n",
    "output_file_path = r'C:\\Users\\eduma\\OneDrive\\Escritorio\\Folders_Links\\Formation\\CTT COLLEGUE Programming Bootcamp Sept2023\\StratThink_HDipData&AI_Sept23_HCI\\CA 2\\StrategicThinkingCA2\\merged_dataset.csv'\n",
    "merged_df.to_csv(output_file_path, index=False)\n",
    "\n",
    "print(f\"The merged dataset has been saved to {output_file_path}\")"
   ]
  },
  {
   "cell_type": "code",
   "execution_count": 5,
   "id": "ff993139",
   "metadata": {},
   "outputs": [],
   "source": [
    "df= pd.read_csv(\"merged_dataset.csv\")"
   ]
  },
  {
   "cell_type": "code",
   "execution_count": 6,
   "id": "8c6c959b",
   "metadata": {},
   "outputs": [
    {
     "name": "stdout",
     "output_type": "stream",
     "text": [
      "<class 'pandas.core.frame.DataFrame'>\n",
      "RangeIndex: 2307 entries, 0 to 2306\n",
      "Data columns (total 7 columns):\n",
      " #   Column       Non-Null Count  Dtype \n",
      "---  ------       --------------  ----- \n",
      " 0   Airline      2307 non-null   object\n",
      " 1   Source       2307 non-null   object\n",
      " 2   Destination  2307 non-null   object\n",
      " 3   Duration     2307 non-null   object\n",
      " 4   Total stops  2307 non-null   object\n",
      " 5   Price        2307 non-null   object\n",
      " 6   Date         2307 non-null   object\n",
      "dtypes: object(7)\n",
      "memory usage: 126.3+ KB\n"
     ]
    }
   ],
   "source": [
    "df.info()"
   ]
  },
  {
   "cell_type": "code",
   "execution_count": 7,
   "id": "25804295",
   "metadata": {},
   "outputs": [
    {
     "data": {
      "text/html": [
       "<div>\n",
       "<style scoped>\n",
       "    .dataframe tbody tr th:only-of-type {\n",
       "        vertical-align: middle;\n",
       "    }\n",
       "\n",
       "    .dataframe tbody tr th {\n",
       "        vertical-align: top;\n",
       "    }\n",
       "\n",
       "    .dataframe thead th {\n",
       "        text-align: right;\n",
       "    }\n",
       "</style>\n",
       "<table border=\"1\" class=\"dataframe\">\n",
       "  <thead>\n",
       "    <tr style=\"text-align: right;\">\n",
       "      <th></th>\n",
       "      <th>Airline</th>\n",
       "      <th>Source</th>\n",
       "      <th>Destination</th>\n",
       "      <th>Duration</th>\n",
       "      <th>Total stops</th>\n",
       "      <th>Price</th>\n",
       "      <th>Date</th>\n",
       "    </tr>\n",
       "  </thead>\n",
       "  <tbody>\n",
       "    <tr>\n",
       "      <th>count</th>\n",
       "      <td>2307</td>\n",
       "      <td>2307</td>\n",
       "      <td>2307</td>\n",
       "      <td>2307</td>\n",
       "      <td>2307</td>\n",
       "      <td>2307</td>\n",
       "      <td>2307</td>\n",
       "    </tr>\n",
       "    <tr>\n",
       "      <th>unique</th>\n",
       "      <td>75</td>\n",
       "      <td>4</td>\n",
       "      <td>4</td>\n",
       "      <td>199</td>\n",
       "      <td>4</td>\n",
       "      <td>528</td>\n",
       "      <td>24</td>\n",
       "    </tr>\n",
       "    <tr>\n",
       "      <th>top</th>\n",
       "      <td>Iberia</td>\n",
       "      <td>DUB</td>\n",
       "      <td>DUB</td>\n",
       "      <td>2h 35m</td>\n",
       "      <td>1 stop</td>\n",
       "      <td>€161</td>\n",
       "      <td>2023-12-23</td>\n",
       "    </tr>\n",
       "    <tr>\n",
       "      <th>freq</th>\n",
       "      <td>418</td>\n",
       "      <td>1162</td>\n",
       "      <td>1145</td>\n",
       "      <td>213</td>\n",
       "      <td>1398</td>\n",
       "      <td>29</td>\n",
       "      <td>109</td>\n",
       "    </tr>\n",
       "  </tbody>\n",
       "</table>\n",
       "</div>"
      ],
      "text/plain": [
       "       Airline Source Destination Duration Total stops Price        Date\n",
       "count     2307   2307        2307     2307        2307  2307        2307\n",
       "unique      75      4           4      199           4   528          24\n",
       "top     Iberia    DUB         DUB   2h 35m      1 stop  €161  2023-12-23\n",
       "freq       418   1162        1145      213        1398    29         109"
      ]
     },
     "execution_count": 7,
     "metadata": {},
     "output_type": "execute_result"
    }
   ],
   "source": [
    "df.describe(include='all')"
   ]
  },
  {
   "cell_type": "code",
   "execution_count": 8,
   "id": "a183fe89",
   "metadata": {},
   "outputs": [
    {
     "data": {
      "text/html": [
       "<div>\n",
       "<style scoped>\n",
       "    .dataframe tbody tr th:only-of-type {\n",
       "        vertical-align: middle;\n",
       "    }\n",
       "\n",
       "    .dataframe tbody tr th {\n",
       "        vertical-align: top;\n",
       "    }\n",
       "\n",
       "    .dataframe thead th {\n",
       "        text-align: right;\n",
       "    }\n",
       "</style>\n",
       "<table border=\"1\" class=\"dataframe\">\n",
       "  <thead>\n",
       "    <tr style=\"text-align: right;\">\n",
       "      <th></th>\n",
       "      <th>Airline</th>\n",
       "      <th>Source</th>\n",
       "      <th>Destination</th>\n",
       "      <th>Duration</th>\n",
       "      <th>Total stops</th>\n",
       "      <th>Price</th>\n",
       "      <th>Date</th>\n",
       "    </tr>\n",
       "  </thead>\n",
       "  <tbody>\n",
       "    <tr>\n",
       "      <th>0</th>\n",
       "      <td>Iberia</td>\n",
       "      <td>DUB</td>\n",
       "      <td>IBZ</td>\n",
       "      <td>5h 00m</td>\n",
       "      <td>1 stop</td>\n",
       "      <td>€480</td>\n",
       "      <td>2023-12-26</td>\n",
       "    </tr>\n",
       "    <tr>\n",
       "      <th>1</th>\n",
       "      <td>Aer Lingus, Air Europa</td>\n",
       "      <td>DUB</td>\n",
       "      <td>IBZ</td>\n",
       "      <td>30h 40m</td>\n",
       "      <td>2 stops</td>\n",
       "      <td>€283</td>\n",
       "      <td>2023-12-26</td>\n",
       "    </tr>\n",
       "    <tr>\n",
       "      <th>2</th>\n",
       "      <td>British Airways</td>\n",
       "      <td>DUB</td>\n",
       "      <td>IBZ</td>\n",
       "      <td>5h 00m</td>\n",
       "      <td>1 stop</td>\n",
       "      <td>€545</td>\n",
       "      <td>2023-12-26</td>\n",
       "    </tr>\n",
       "    <tr>\n",
       "      <th>3</th>\n",
       "      <td>Vueling</td>\n",
       "      <td>DUB</td>\n",
       "      <td>IBZ</td>\n",
       "      <td>7h 15m</td>\n",
       "      <td>1 stop</td>\n",
       "      <td>€458</td>\n",
       "      <td>2023-12-26</td>\n",
       "    </tr>\n",
       "    <tr>\n",
       "      <th>4</th>\n",
       "      <td>Aer Lingus, Vueling</td>\n",
       "      <td>DUB</td>\n",
       "      <td>IBZ</td>\n",
       "      <td>5h 40m</td>\n",
       "      <td>1 stop</td>\n",
       "      <td>€466</td>\n",
       "      <td>2023-12-26</td>\n",
       "    </tr>\n",
       "  </tbody>\n",
       "</table>\n",
       "</div>"
      ],
      "text/plain": [
       "                  Airline Source Destination Duration Total stops Price  \\\n",
       "0                  Iberia    DUB         IBZ   5h 00m      1 stop  €480   \n",
       "1  Aer Lingus, Air Europa    DUB         IBZ  30h 40m     2 stops  €283   \n",
       "2         British Airways    DUB         IBZ   5h 00m      1 stop  €545   \n",
       "3                 Vueling    DUB         IBZ   7h 15m      1 stop  €458   \n",
       "4     Aer Lingus, Vueling    DUB         IBZ   5h 40m      1 stop  €466   \n",
       "\n",
       "         Date  \n",
       "0  2023-12-26  \n",
       "1  2023-12-26  \n",
       "2  2023-12-26  \n",
       "3  2023-12-26  \n",
       "4  2023-12-26  "
      ]
     },
     "execution_count": 8,
     "metadata": {},
     "output_type": "execute_result"
    }
   ],
   "source": [
    "df.head()"
   ]
  },
  {
   "cell_type": "code",
   "execution_count": 9,
   "id": "8d28da8b",
   "metadata": {},
   "outputs": [
    {
     "data": {
      "text/plain": [
       "Iberia                              418\n",
       "Vueling                             290\n",
       "British Airways                     241\n",
       "Aer Lingus                          180\n",
       "Multiple Airlines                   139\n",
       "                                   ... \n",
       "easyJet, Aer Lingus                   1\n",
       "Iberia Express, TAP AIR PORTUGAL      1\n",
       "Eurowings, Aer Lingus                 1\n",
       "TAP AIR PORTUGAL, Air Europa          1\n",
       "Iberia, TAP AIR PORTUGAL              1\n",
       "Name: Airline, Length: 75, dtype: int64"
      ]
     },
     "execution_count": 9,
     "metadata": {},
     "output_type": "execute_result"
    }
   ],
   "source": [
    "df['Airline'].value_counts()"
   ]
  },
  {
   "cell_type": "code",
   "execution_count": 10,
   "id": "89162d71",
   "metadata": {},
   "outputs": [
    {
     "data": {
      "text/plain": [
       "DUB    1162\n",
       "MAD     397\n",
       "TFN     382\n",
       "IBZ     366\n",
       "Name: Source, dtype: int64"
      ]
     },
     "execution_count": 10,
     "metadata": {},
     "output_type": "execute_result"
    }
   ],
   "source": [
    "df['Source'].value_counts()"
   ]
  },
  {
   "cell_type": "code",
   "execution_count": 11,
   "id": "3af0924f",
   "metadata": {},
   "outputs": [
    {
     "data": {
      "text/plain": [
       "1 stop     1398\n",
       "direct      547\n",
       "2 stops     346\n",
       "3 stops      16\n",
       "Name: Total stops, dtype: int64"
      ]
     },
     "execution_count": 11,
     "metadata": {},
     "output_type": "execute_result"
    }
   ],
   "source": [
    "df['Total stops'].value_counts()"
   ]
  },
  {
   "cell_type": "code",
   "execution_count": 12,
   "id": "542c0332",
   "metadata": {},
   "outputs": [
    {
     "data": {
      "text/html": [
       "<div>\n",
       "<style scoped>\n",
       "    .dataframe tbody tr th:only-of-type {\n",
       "        vertical-align: middle;\n",
       "    }\n",
       "\n",
       "    .dataframe tbody tr th {\n",
       "        vertical-align: top;\n",
       "    }\n",
       "\n",
       "    .dataframe thead th {\n",
       "        text-align: right;\n",
       "    }\n",
       "</style>\n",
       "<table border=\"1\" class=\"dataframe\">\n",
       "  <thead>\n",
       "    <tr style=\"text-align: right;\">\n",
       "      <th></th>\n",
       "      <th>Airline</th>\n",
       "      <th>Source</th>\n",
       "      <th>Destination</th>\n",
       "      <th>Duration</th>\n",
       "      <th>Total stops</th>\n",
       "      <th>Price</th>\n",
       "      <th>Date</th>\n",
       "    </tr>\n",
       "  </thead>\n",
       "  <tbody>\n",
       "    <tr>\n",
       "      <th>0</th>\n",
       "      <td>Iberia</td>\n",
       "      <td>DUB</td>\n",
       "      <td>IBZ</td>\n",
       "      <td>300</td>\n",
       "      <td>1</td>\n",
       "      <td>480</td>\n",
       "      <td>2023-12-26</td>\n",
       "    </tr>\n",
       "    <tr>\n",
       "      <th>1</th>\n",
       "      <td>Aer Lingus, Air Europa</td>\n",
       "      <td>DUB</td>\n",
       "      <td>IBZ</td>\n",
       "      <td>1840</td>\n",
       "      <td>2</td>\n",
       "      <td>283</td>\n",
       "      <td>2023-12-26</td>\n",
       "    </tr>\n",
       "    <tr>\n",
       "      <th>2</th>\n",
       "      <td>British Airways</td>\n",
       "      <td>DUB</td>\n",
       "      <td>IBZ</td>\n",
       "      <td>300</td>\n",
       "      <td>1</td>\n",
       "      <td>545</td>\n",
       "      <td>2023-12-26</td>\n",
       "    </tr>\n",
       "    <tr>\n",
       "      <th>3</th>\n",
       "      <td>Vueling</td>\n",
       "      <td>DUB</td>\n",
       "      <td>IBZ</td>\n",
       "      <td>435</td>\n",
       "      <td>1</td>\n",
       "      <td>458</td>\n",
       "      <td>2023-12-26</td>\n",
       "    </tr>\n",
       "    <tr>\n",
       "      <th>4</th>\n",
       "      <td>Aer Lingus, Vueling</td>\n",
       "      <td>DUB</td>\n",
       "      <td>IBZ</td>\n",
       "      <td>340</td>\n",
       "      <td>1</td>\n",
       "      <td>466</td>\n",
       "      <td>2023-12-26</td>\n",
       "    </tr>\n",
       "  </tbody>\n",
       "</table>\n",
       "</div>"
      ],
      "text/plain": [
       "                  Airline Source Destination  Duration  Total stops  Price  \\\n",
       "0                  Iberia    DUB         IBZ       300            1    480   \n",
       "1  Aer Lingus, Air Europa    DUB         IBZ      1840            2    283   \n",
       "2         British Airways    DUB         IBZ       300            1    545   \n",
       "3                 Vueling    DUB         IBZ       435            1    458   \n",
       "4     Aer Lingus, Vueling    DUB         IBZ       340            1    466   \n",
       "\n",
       "         Date  \n",
       "0  2023-12-26  \n",
       "1  2023-12-26  \n",
       "2  2023-12-26  \n",
       "3  2023-12-26  \n",
       "4  2023-12-26  "
      ]
     },
     "execution_count": 12,
     "metadata": {},
     "output_type": "execute_result"
    }
   ],
   "source": [
    "# Replace 'direct' with 0 in 'Total stops' and convert to int, handling NaN values\n",
    "df['Total stops'] = df['Total stops'].replace('direct', '0').str.extract('(\\d+)')[0].fillna(0).astype(int)\n",
    "\n",
    "# Remove the '€' sign from the 'Price' column and convert to integer, handling NaN and empty strings\n",
    "df['Price'] = df['Price'].replace({'€': '', ',': '', ' ': ''}, regex=True)\n",
    "df['Price'] = pd.to_numeric(df['Price'], errors='coerce').fillna(0).astype(int)\n",
    "\n",
    "# Convert the 'Duration' column to minutes\n",
    "def duration_to_minutes(duration_str):\n",
    "    if pd.isnull(duration_str):\n",
    "        return 0\n",
    "    parts = duration_str.split(' ')\n",
    "    minutes = 0\n",
    "    for part in parts:\n",
    "        if 'h' in part:\n",
    "            minutes += int(part.replace('h', '')) * 60\n",
    "        elif 'm' in part:\n",
    "            minutes += int(part.replace('m', ''))\n",
    "    return minutes\n",
    "\n",
    "df['Duration'] = df['Duration'].apply(duration_to_minutes)\n",
    "\n",
    "# Display the first few rows to confirm the changes\n",
    "df.head()"
   ]
  },
  {
   "cell_type": "code",
   "execution_count": 13,
   "id": "c6c8d79f",
   "metadata": {},
   "outputs": [
    {
     "name": "stdout",
     "output_type": "stream",
     "text": [
      "<class 'pandas.core.frame.DataFrame'>\n",
      "RangeIndex: 2307 entries, 0 to 2306\n",
      "Data columns (total 7 columns):\n",
      " #   Column       Non-Null Count  Dtype \n",
      "---  ------       --------------  ----- \n",
      " 0   Airline      2307 non-null   object\n",
      " 1   Source       2307 non-null   object\n",
      " 2   Destination  2307 non-null   object\n",
      " 3   Duration     2307 non-null   int64 \n",
      " 4   Total stops  2307 non-null   int32 \n",
      " 5   Price        2307 non-null   int32 \n",
      " 6   Date         2307 non-null   object\n",
      "dtypes: int32(2), int64(1), object(4)\n",
      "memory usage: 108.3+ KB\n"
     ]
    }
   ],
   "source": [
    "df.info()"
   ]
  },
  {
   "cell_type": "code",
   "execution_count": 14,
   "id": "289c6d3f",
   "metadata": {},
   "outputs": [
    {
     "data": {
      "text/plain": [
       "Airline        0\n",
       "Source         0\n",
       "Destination    0\n",
       "Duration       0\n",
       "Total stops    0\n",
       "Price          0\n",
       "Date           0\n",
       "dtype: int64"
      ]
     },
     "execution_count": 14,
     "metadata": {},
     "output_type": "execute_result"
    }
   ],
   "source": [
    "df.isnull().sum()"
   ]
  },
  {
   "cell_type": "code",
   "execution_count": 15,
   "id": "45939428",
   "metadata": {},
   "outputs": [
    {
     "data": {
      "image/png": "[encoded data removed]",
      "text/plain": [
       "<Figure size 432x288 with 2 Axes>"
      ]
     },
     "metadata": {
      "needs_background": "light"
     },
     "output_type": "display_data"
    }
   ],
   "source": [
    "plt.subplot(1, 2, 1)\n",
    "sns.histplot(df['Duration'], bins=30, kde=True)\n",
    "plt.title('Distribution of Flight Durations')\n",
    "plt.subplot(1, 2, 2)\n",
    "sns.histplot(df['Price'], bins=30, kde=True)\n",
    "plt.title('Distribution of Flight Prices')\n",
    "plt.tight_layout()\n",
    "plt.show()"
   ]
  },
  {
   "cell_type": "markdown",
   "id": "cb505a01",
   "metadata": {},
   "source": [
    "## Outliers"
   ]
  },
  {
   "cell_type": "markdown",
   "id": "2a1a0067",
   "metadata": {},
   "source": [
    "The box plots show that there are outliers in both 'Duration' and 'Price'. The outliers in 'Duration' are particularly extreme, which could suggest either very long flights or errors in data entry.\n",
    "The outliers in 'Price' are less extreme but indicate that some tickets are significantly more expensive than others."
   ]
  },
  {
   "cell_type": "code",
   "execution_count": 16,
   "id": "e518f9e5",
   "metadata": {},
   "outputs": [
    {
     "data": {
      "image/png": "[encoded data removed]",
      "text/plain": [
       "<Figure size 1080x360 with 2 Axes>"
      ]
     },
     "metadata": {
      "needs_background": "light"
     },
     "output_type": "display_data"
    }
   ],
   "source": [
    "plt.figure(figsize=(15, 5))\n",
    "plt.subplot(1, 2, 1)\n",
    "sns.boxplot(y=df['Duration'])\n",
    "plt.title('Box Plot of Flight Durations')\n",
    "plt.subplot(1, 2, 2)\n",
    "sns.boxplot(y=df['Price'])\n",
    "plt.title('Box Plot of Flight Prices')\n",
    "plt.tight_layout()\n",
    "plt.show()"
   ]
  },
  {
   "cell_type": "markdown",
   "id": "a6b9a798",
   "metadata": {},
   "source": [
    "## Correlation"
   ]
  },
  {
   "cell_type": "markdown",
   "id": "fed9d57b",
   "metadata": {},
   "source": [
    "There appears to be a slight positive correlation between the number of stops and the price of a flight. This suggests that flights with more stops may be slightly more expensive.\n",
    "Additionally, there is a weak positive correlation between the duration of a flight and its price, indicating that longer flights may tend to be more expensive.\n",
    "As expected, there is a moderate positive correlation between the duration of a flight and the number of stops, since more stops generally result in longer flight durations."
   ]
  },
  {
   "cell_type": "code",
   "execution_count": 17,
   "id": "36b2868a",
   "metadata": {},
   "outputs": [
    {
     "data": {
      "image/png": "[encoded data removed]",
      "text/plain": [
       "<Figure size 576x432 with 2 Axes>"
      ]
     },
     "metadata": {
      "needs_background": "light"
     },
     "output_type": "display_data"
    }
   ],
   "source": [
    "desc_stats = df.describe()\n",
    "correlation_matrix=df.corr()\n",
    "plt.figure(figsize=(8, 6))\n",
    "sns.heatmap(correlation_matrix, annot=True, cmap='coolwarm', center=0)\n",
    "plt.title('Correlation Matrix of Variables')\n",
    "plt.show()"
   ]
  },
  {
   "cell_type": "code",
   "execution_count": 18,
   "id": "20014175",
   "metadata": {},
   "outputs": [
    {
     "data": {
      "text/plain": [
       "Airline        0.0\n",
       "Source         0.0\n",
       "Destination    0.0\n",
       "Duration       0.0\n",
       "Total stops    0.0\n",
       "Price          0.0\n",
       "Date           0.0\n",
       "dtype: float64"
      ]
     },
     "execution_count": 18,
     "metadata": {},
     "output_type": "execute_result"
    }
   ],
   "source": [
    "missing_percentage = (df.isnull().sum() / len(df)) * 100\n",
    "\n",
    "missing_percentage"
   ]
  },
  {
   "cell_type": "markdown",
   "id": "c36ee606",
   "metadata": {},
   "source": [
    "## Data transformation"
   ]
  },
  {
   "cell_type": "code",
   "execution_count": 21,
   "id": "b09d69c8",
   "metadata": {},
   "outputs": [],
   "source": [
    "df['Date'] = pd.to_datetime(df['Date'], errors='coerce')"
   ]
  },
  {
   "cell_type": "code",
   "execution_count": 22,
   "id": "2f46d853",
   "metadata": {},
   "outputs": [
    {
     "data": {
      "text/html": [
       "<div>\n",
       "<style scoped>\n",
       "    .dataframe tbody tr th:only-of-type {\n",
       "        vertical-align: middle;\n",
       "    }\n",
       "\n",
       "    .dataframe tbody tr th {\n",
       "        vertical-align: top;\n",
       "    }\n",
       "\n",
       "    .dataframe thead th {\n",
       "        text-align: right;\n",
       "    }\n",
       "</style>\n",
       "<table border=\"1\" class=\"dataframe\">\n",
       "  <thead>\n",
       "    <tr style=\"text-align: right;\">\n",
       "      <th></th>\n",
       "      <th>Duration</th>\n",
       "      <th>Total stops</th>\n",
       "      <th>Price</th>\n",
       "      <th>Date</th>\n",
       "      <th>Airline_Aer Lingus</th>\n",
       "      <th>Airline_Aer Lingus, Air Europa</th>\n",
       "      <th>Airline_Aer Lingus, Binter Canarias</th>\n",
       "      <th>Airline_Aer Lingus, British Airways</th>\n",
       "      <th>Airline_Aer Lingus, Canaryfly</th>\n",
       "      <th>Airline_Aer Lingus, Eurowings</th>\n",
       "      <th>...</th>\n",
       "      <th>Airline_Vueling, Transavia France</th>\n",
       "      <th>Airline_easyJet, Aer Lingus</th>\n",
       "      <th>Source_DUB</th>\n",
       "      <th>Source_IBZ</th>\n",
       "      <th>Source_MAD</th>\n",
       "      <th>Source_TFN</th>\n",
       "      <th>Destination_DUB</th>\n",
       "      <th>Destination_IBZ</th>\n",
       "      <th>Destination_MAD</th>\n",
       "      <th>Destination_TFN</th>\n",
       "    </tr>\n",
       "  </thead>\n",
       "  <tbody>\n",
       "    <tr>\n",
       "      <th>0</th>\n",
       "      <td>300</td>\n",
       "      <td>1</td>\n",
       "      <td>480</td>\n",
       "      <td>2023-12-26</td>\n",
       "      <td>0</td>\n",
       "      <td>0</td>\n",
       "      <td>0</td>\n",
       "      <td>0</td>\n",
       "      <td>0</td>\n",
       "      <td>0</td>\n",
       "      <td>...</td>\n",
       "      <td>0</td>\n",
       "      <td>0</td>\n",
       "      <td>1</td>\n",
       "      <td>0</td>\n",
       "      <td>0</td>\n",
       "      <td>0</td>\n",
       "      <td>0</td>\n",
       "      <td>1</td>\n",
       "      <td>0</td>\n",
       "      <td>0</td>\n",
       "    </tr>\n",
       "    <tr>\n",
       "      <th>1</th>\n",
       "      <td>1840</td>\n",
       "      <td>2</td>\n",
       "      <td>283</td>\n",
       "      <td>2023-12-26</td>\n",
       "      <td>0</td>\n",
       "      <td>1</td>\n",
       "      <td>0</td>\n",
       "      <td>0</td>\n",
       "      <td>0</td>\n",
       "      <td>0</td>\n",
       "      <td>...</td>\n",
       "      <td>0</td>\n",
       "      <td>0</td>\n",
       "      <td>1</td>\n",
       "      <td>0</td>\n",
       "      <td>0</td>\n",
       "      <td>0</td>\n",
       "      <td>0</td>\n",
       "      <td>1</td>\n",
       "      <td>0</td>\n",
       "      <td>0</td>\n",
       "    </tr>\n",
       "    <tr>\n",
       "      <th>2</th>\n",
       "      <td>300</td>\n",
       "      <td>1</td>\n",
       "      <td>545</td>\n",
       "      <td>2023-12-26</td>\n",
       "      <td>0</td>\n",
       "      <td>0</td>\n",
       "      <td>0</td>\n",
       "      <td>0</td>\n",
       "      <td>0</td>\n",
       "      <td>0</td>\n",
       "      <td>...</td>\n",
       "      <td>0</td>\n",
       "      <td>0</td>\n",
       "      <td>1</td>\n",
       "      <td>0</td>\n",
       "      <td>0</td>\n",
       "      <td>0</td>\n",
       "      <td>0</td>\n",
       "      <td>1</td>\n",
       "      <td>0</td>\n",
       "      <td>0</td>\n",
       "    </tr>\n",
       "    <tr>\n",
       "      <th>3</th>\n",
       "      <td>435</td>\n",
       "      <td>1</td>\n",
       "      <td>458</td>\n",
       "      <td>2023-12-26</td>\n",
       "      <td>0</td>\n",
       "      <td>0</td>\n",
       "      <td>0</td>\n",
       "      <td>0</td>\n",
       "      <td>0</td>\n",
       "      <td>0</td>\n",
       "      <td>...</td>\n",
       "      <td>0</td>\n",
       "      <td>0</td>\n",
       "      <td>1</td>\n",
       "      <td>0</td>\n",
       "      <td>0</td>\n",
       "      <td>0</td>\n",
       "      <td>0</td>\n",
       "      <td>1</td>\n",
       "      <td>0</td>\n",
       "      <td>0</td>\n",
       "    </tr>\n",
       "    <tr>\n",
       "      <th>4</th>\n",
       "      <td>340</td>\n",
       "      <td>1</td>\n",
       "      <td>466</td>\n",
       "      <td>2023-12-26</td>\n",
       "      <td>0</td>\n",
       "      <td>0</td>\n",
       "      <td>0</td>\n",
       "      <td>0</td>\n",
       "      <td>0</td>\n",
       "      <td>0</td>\n",
       "      <td>...</td>\n",
       "      <td>0</td>\n",
       "      <td>0</td>\n",
       "      <td>1</td>\n",
       "      <td>0</td>\n",
       "      <td>0</td>\n",
       "      <td>0</td>\n",
       "      <td>0</td>\n",
       "      <td>1</td>\n",
       "      <td>0</td>\n",
       "      <td>0</td>\n",
       "    </tr>\n",
       "  </tbody>\n",
       "</table>\n",
       "<p>5 rows × 87 columns</p>\n",
       "</div>"
      ],
      "text/plain": [
       "   Duration  Total stops  Price       Date  Airline_Aer Lingus  \\\n",
       "0       300            1    480 2023-12-26                   0   \n",
       "1      1840            2    283 2023-12-26                   0   \n",
       "2       300            1    545 2023-12-26                   0   \n",
       "3       435            1    458 2023-12-26                   0   \n",
       "4       340            1    466 2023-12-26                   0   \n",
       "\n",
       "   Airline_Aer Lingus, Air Europa  Airline_Aer Lingus, Binter Canarias  \\\n",
       "0                               0                                    0   \n",
       "1                               1                                    0   \n",
       "2                               0                                    0   \n",
       "3                               0                                    0   \n",
       "4                               0                                    0   \n",
       "\n",
       "   Airline_Aer Lingus, British Airways  Airline_Aer Lingus, Canaryfly  \\\n",
       "0                                    0                              0   \n",
       "1                                    0                              0   \n",
       "2                                    0                              0   \n",
       "3                                    0                              0   \n",
       "4                                    0                              0   \n",
       "\n",
       "   Airline_Aer Lingus, Eurowings  ...  Airline_Vueling, Transavia France  \\\n",
       "0                              0  ...                                  0   \n",
       "1                              0  ...                                  0   \n",
       "2                              0  ...                                  0   \n",
       "3                              0  ...                                  0   \n",
       "4                              0  ...                                  0   \n",
       "\n",
       "   Airline_easyJet, Aer Lingus  Source_DUB  Source_IBZ  Source_MAD  \\\n",
       "0                            0           1           0           0   \n",
       "1                            0           1           0           0   \n",
       "2                            0           1           0           0   \n",
       "3                            0           1           0           0   \n",
       "4                            0           1           0           0   \n",
       "\n",
       "   Source_TFN  Destination_DUB  Destination_IBZ  Destination_MAD  \\\n",
       "0           0                0                1                0   \n",
       "1           0                0                1                0   \n",
       "2           0                0                1                0   \n",
       "3           0                0                1                0   \n",
       "4           0                0                1                0   \n",
       "\n",
       "   Destination_TFN  \n",
       "0                0  \n",
       "1                0  \n",
       "2                0  \n",
       "3                0  \n",
       "4                0  \n",
       "\n",
       "[5 rows x 87 columns]"
      ]
     },
     "execution_count": 22,
     "metadata": {},
     "output_type": "execute_result"
    }
   ],
   "source": [
    "# One-hot encoding of the 'Airline' column\n",
    "one_hot_encoded_data = pd.get_dummies(df, columns=['Airline','Source','Destination'])\n",
    "\n",
    "# Displaying the first few rows of the newly encoded DataFrame\n",
    "one_hot_encoded_data.head()"
   ]
  },
  {
   "cell_type": "code",
   "execution_count": 23,
   "id": "759b6897",
   "metadata": {},
   "outputs": [
    {
     "name": "stdout",
     "output_type": "stream",
     "text": [
      "Original DataFrame shape: (2307, 7)\n",
      "New DataFrame shape: (2307, 7)\n"
     ]
    }
   ],
   "source": [
    "# Dropping rows with any missing values\n",
    "df = df.dropna()\n",
    "\n",
    "# Checking the shape of the new DataFrame to see how many rows were dropped\n",
    "print(\"Original DataFrame shape:\", df.shape)\n",
    "print(\"New DataFrame shape:\", df.shape)"
   ]
  },
  {
   "cell_type": "code",
   "execution_count": 24,
   "id": "7962ad25",
   "metadata": {},
   "outputs": [
    {
     "data": {
      "image/png": "[encoded data removed]",
      "text/plain": [
       "<Figure size 432x288 with 2 Axes>"
      ]
     },
     "metadata": {
      "needs_background": "light"
     },
     "output_type": "display_data"
    }
   ],
   "source": [
    "plt.subplot(1, 2, 1)\n",
    "sns.histplot(df['Duration'], bins=30, kde=True)\n",
    "plt.title('Distribution of Flight Durations')\n",
    "plt.subplot(1, 2, 2)\n",
    "sns.histplot(df['Price'], bins=30, kde=True)\n",
    "plt.title('Distribution of Flight Prices')\n",
    "plt.tight_layout()\n",
    "plt.show()"
   ]
  },
  {
   "cell_type": "code",
   "execution_count": 25,
   "id": "69899a4f",
   "metadata": {},
   "outputs": [
    {
     "data": {
      "image/png": "[encoded data removed]",
      "text/plain": [
       "<Figure size 1080x360 with 2 Axes>"
      ]
     },
     "metadata": {
      "needs_background": "light"
     },
     "output_type": "display_data"
    }
   ],
   "source": [
    "plt.figure(figsize=(15, 5))\n",
    "plt.subplot(1, 2, 1)\n",
    "sns.boxplot(y=df['Duration'])\n",
    "plt.title('Box Plot of Flight Durations')\n",
    "plt.subplot(1, 2, 2)\n",
    "sns.boxplot(y=df['Price'])\n",
    "plt.title('Box Plot of Flight Prices')\n",
    "plt.tight_layout()\n",
    "plt.show()"
   ]
  },
  {
   "cell_type": "markdown",
   "id": "285c8acd",
   "metadata": {},
   "source": [
    "## EDA - PRICE"
   ]
  },
  {
   "cell_type": "code",
   "execution_count": 26,
   "id": "b34240b1",
   "metadata": {},
   "outputs": [
    {
     "name": "stdout",
     "output_type": "stream",
     "text": [
      "Mean price: 247.95622019939316\n"
     ]
    }
   ],
   "source": [
    "mean_price = df['Price'].mean()\n",
    "print(\"Mean price:\", mean_price)"
   ]
  },
  {
   "cell_type": "code",
   "execution_count": 27,
   "id": "72a8cff7",
   "metadata": {},
   "outputs": [
    {
     "name": "stdout",
     "output_type": "stream",
     "text": [
      "Cheapest days to fly: 2023-12-18\n",
      "Price on the cheapest day: 147.4255319148936\n"
     ]
    }
   ],
   "source": [
    "# Grouping by day and calculate mean price\n",
    "average_price_by_day = df.groupby(df['Date'].dt.date)['Price'].mean()\n",
    "\n",
    "# Finding the day(s) with the lowest average price\n",
    "cheapest_days = average_price_by_day.idxmin()\n",
    "cheapest_price = average_price_by_day.min()\n",
    "\n",
    "print(\"Cheapest days to fly:\", cheapest_days)\n",
    "print(\"Price on the cheapest day:\", cheapest_price)"
   ]
  },
  {
   "cell_type": "code",
   "execution_count": 28,
   "id": "10fbcaff",
   "metadata": {},
   "outputs": [
    {
     "name": "stdout",
     "output_type": "stream",
     "text": [
      "Airline         Source  Destination  Date      \n",
      "Iberia Express  MAD     DUB          2023-12-16    33.5\n",
      "                                     2023-12-19    37.0\n",
      "                                     2023-12-18    38.0\n",
      "                                     2023-12-15    39.0\n",
      "                                     2023-12-13    47.0\n",
      "                DUB     MAD          2024-01-06    48.5\n",
      "                MAD     DUB          2023-12-20    48.5\n",
      "                DUB     MAD          2024-01-05    49.0\n",
      "                MAD     DUB          2023-12-14    49.0\n",
      "                                     2023-12-28    49.0\n",
      "Name: Price, dtype: float64\n"
     ]
    }
   ],
   "source": [
    "# Group by 'Airline', 'Source', 'Destination', and 'Date', then calculate the mean price\n",
    "average_price_details = df.groupby(['Airline', 'Source', 'Destination', 'Date'])['Price'].mean()\n",
    "\n",
    "# Sorting the results to find the cheapest combinations\n",
    "cheapest_combinations = average_price_details.nsmallest(10)\n",
    "\n",
    "print(cheapest_combinations)"
   ]
  },
  {
   "cell_type": "code",
   "execution_count": 29,
   "id": "0681792f",
   "metadata": {},
   "outputs": [
    {
     "data": {
      "image/png": "[encoded data removed]",
      "text/plain": [
       "<Figure size 864x432 with 1 Axes>"
      ]
     },
     "metadata": {
      "needs_background": "light"
     },
     "output_type": "display_data"
    }
   ],
   "source": [
    "# Sort the DataFrame by 'Date'\n",
    "df_sorted = df.sort_values(by='Date')\n",
    "\n",
    "# Plotting the prices over time\n",
    "plt.figure(figsize=(12, 6))\n",
    "plt.plot(df_sorted['Date'], df_sorted['Price'], marker='o')\n",
    "plt.title('Flight Prices Over Time')\n",
    "plt.xlabel('Date')\n",
    "plt.ylabel('Price')\n",
    "plt.xticks(rotation=45)\n",
    "plt.grid(True)\n",
    "plt.show()"
   ]
  },
  {
   "cell_type": "code",
   "execution_count": 31,
   "id": "ccc64768",
   "metadata": {},
   "outputs": [],
   "source": [
    "output_file_path = r'C:\\Users\\eduma\\OneDrive\\Escritorio\\Folders_Links\\Formation\\CTT COLLEGUE Programming Bootcamp Sept2023\\StratThink_HDipData&AI_Sept23_HCI\\CA 2\\StrategicThinkingCA2\\cleaned_data.csv'\n",
    "df.to_csv(output_file_path, index=False)"
   ]
  },
  {
   "cell_type": "code",
   "execution_count": null,
   "id": "bab05cff",
   "metadata": {},
   "outputs": [],
   "source": []
  }
 ],
 "metadata": {
  "kernelspec": {
   "display_name": "Python 3 (ipykernel)",
   "language": "python",
   "name": "python3"
  },
  "language_info": {
   "codemirror_mode": {
    "name": "ipython",
    "version": 3
   },
   "file_extension": ".py",
   "mimetype": "text/x-python",
   "name": "python",
   "nbconvert_exporter": "python",
   "pygments_lexer": "ipython3",
   "version": "3.9.7"
  }
 },
 "nbformat": 4,
 "nbformat_minor": 5
}
