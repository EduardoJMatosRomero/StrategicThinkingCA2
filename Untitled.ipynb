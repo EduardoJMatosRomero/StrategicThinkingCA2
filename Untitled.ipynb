{
 "cells": [
  {
   "cell_type": "markdown",
   "id": "594e176d",
   "metadata": {},
   "source": [
    "- Select a dataset\n",
    "- Conduct exploratory data analysis\n",
    "- Pre-process the data\n",
    "- Implement at least one machine learning algorithm\n",
    "- Present your findings effectively through a comprehensive report"
   ]
  },
  {
   "cell_type": "markdown",
   "id": "1c3832d9",
   "metadata": {},
   "source": [
    "You will submit a comprehensive report detailing the project plan, business understanding, data understanding, data preparation, machine learning implementation, and an artefact of code. "
   ]
  },
  {
   "cell_type": "markdown",
   "id": "6fc822c3",
   "metadata": {},
   "source": [
    "The project management methodology should enable you to prioritise tasks and monitor the progress of the capstone project. Additionally, the report should provide an overview of the project's timeline, milestones achieved, and any challenges faced during the implementation phase. It should highlight the key insights gained from analysing the data and present any significant trends or patterns observed. Moreover, the report should address any limitations or constraints encountered during the project and propose potential solutions for future improvements"
   ]
  },
  {
   "cell_type": "code",
   "execution_count": null,
   "id": "d96be556",
   "metadata": {},
   "outputs": [],
   "source": []
  }
 ],
 "metadata": {
  "kernelspec": {
   "display_name": "Python 3 (ipykernel)",
   "language": "python",
   "name": "python3"
  },
  "language_info": {
   "codemirror_mode": {
    "name": "ipython",
    "version": 3
   },
   "file_extension": ".py",
   "mimetype": "text/x-python",
   "name": "python",
   "nbconvert_exporter": "python",
   "pygments_lexer": "ipython3",
   "version": "3.9.7"
  }
 },
 "nbformat": 4,
 "nbformat_minor": 5
}
